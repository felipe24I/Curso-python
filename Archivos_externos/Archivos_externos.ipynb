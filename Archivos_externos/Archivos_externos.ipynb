{
  "nbformat": 4,
  "nbformat_minor": 0,
  "metadata": {
    "colab": {
      "provenance": [],
      "authorship_tag": "ABX9TyNlC2tOpr7ZvYdgQhNC7Z8+",
      "include_colab_link": true
    },
    "kernelspec": {
      "name": "python3",
      "display_name": "Python 3"
    },
    "language_info": {
      "name": "python"
    }
  },
  "cells": [
    {
      "cell_type": "markdown",
      "metadata": {
        "id": "view-in-github",
        "colab_type": "text"
      },
      "source": [
        "<a href=\"https://colab.research.google.com/github/felipe24I/Curso-python/blob/main/Archivos_externos.ipynb\" target=\"_parent\"><img src=\"https://colab.research.google.com/assets/colab-badge.svg\" alt=\"Open In Colab\"/></a>"
      ]
    },
    {
      "cell_type": "markdown",
      "source": [
        "#**Archivos externos**\n",
        "\n",
        "**Objetivo:** Persistencia de datos\n",
        "\n",
        "La persistencia de datos consiste en almacenar esos datos que se manejan durante la ejecución del programa para que no se pierdan y tener disponible esa información para en un futuro trabajar con ellos en esa misma aplicación o en otras aplicaciones\n",
        "\n",
        "**Dos alternativas:**\n",
        "\n",
        "\n",
        "*   Manejo de archivos externos\n",
        "*   Trabajo con BBDD\n",
        "\n"
      ],
      "metadata": {
        "id": "Uv7nGtvL2I4c"
      }
    },
    {
      "cell_type": "markdown",
      "source": [
        "#**Manejo de archivos externos**\n",
        "\n",
        "Fases necesarias para guardar información en archivos externos\n",
        "\n",
        "1.**Creación**\n",
        "\n",
        "2.**Apertura**\n",
        "\n",
        "3.**Manipulación**\n",
        "\n",
        "4.**Cierre:** Se refiere a cerrar el archivo que hemos abierto en memoria desde el programa python\n",
        "\n",
        "**Streams:** Flujos de datos que nos permiten trabajar con archivos externos en las 2 direcciones, desde el programa hacia a afuera, y desde afuera hacia el programa\n",
        "\n",
        "**Modo lectura:** Si se quiere leer solamente la información que hay almacenada en él\n",
        "\n",
        "**Modo esritura:** Para agregar información en ese archivo\n",
        "\n",
        "**Modo append:** Para agregar información a un archivo que ya existe y que ya tiene información en su interior"
      ],
      "metadata": {
        "id": "jehIVOrS3gFq"
      }
    },
    {
      "cell_type": "code",
      "execution_count": 2,
      "metadata": {
        "id": "dxSax4_X2Dxw",
        "colab": {
          "base_uri": "https://localhost:8080/"
        },
        "outputId": "ac959548-ca8c-4dd8-9d50-3eae58467350"
      },
      "outputs": [
        {
          "output_type": "stream",
          "name": "stdout",
          "text": [
            "['Wonderful day to study python \\n', ' on sunday']\n",
            "Wonderful day to study python \n",
            "\n",
            " on sunday\n"
          ]
        }
      ],
      "source": [
        "from io import open\n",
        "\n",
        "#Write\n",
        "\n",
        "#Creation and opening\n",
        "text_file = open('archive.txt', 'w')\n",
        "\n",
        "phrase = 'Wonderful day to study python \\n on sunday'\n",
        "\n",
        "#handling\n",
        "text_file.write(phrase)\n",
        "\n",
        "#closing\n",
        "text_file.close()\n",
        "\n",
        "#Read\n",
        "\n",
        "#Creation and opening\n",
        "text_file_read = open('archive.txt', 'r')\n",
        "\n",
        "#handling\n",
        "#text = text_file_read.read()\n",
        "\n",
        "#method readlines(): Read text_file line by line and storage this information in a list\n",
        "\n",
        "text_lines = text_file_read.readlines()\n",
        "\n",
        "#closing\n",
        "text_file_read.close()\n",
        "\n",
        "#print(text)\n",
        "\n",
        "print(text_lines)\n",
        "\n",
        "print(text_lines[0])\n",
        "\n",
        "print(text_lines[1])\n",
        "\n",
        "#append\n",
        "\n",
        "#creation and opening\n",
        "text_file_append = open('archive.txt', 'a')\n",
        "\n",
        "#handling\n",
        "text_file_append.write(\"\\nAlways is a good occasion to study Python\")\n",
        "\n",
        "#closing\n",
        "text_file_append.close()\n"
      ]
    },
    {
      "cell_type": "markdown",
      "source": [
        "#**Manejo de un puntero en texto**"
      ],
      "metadata": {
        "id": "bB4ZQNdJIcB2"
      }
    },
    {
      "cell_type": "markdown",
      "source": [
        "**Cursor** por defecto al abrir el archivo se ubica al principio y al leer el archivo terminará ubicandose al final, por lo que si se vuelve a leer el archivo no va a leer nada ya que no hay más información  "
      ],
      "metadata": {
        "id": "Z0oCYdwyJ9mk"
      }
    },
    {
      "cell_type": "code",
      "source": [
        "from io import open\n",
        "\n",
        "#Read\n",
        "\n",
        "#Creation and opening\n",
        "text_file_read = open('archive.txt', 'r')\n",
        "\n",
        "#handling\n",
        "print(text_file_read.read())\n",
        "print(text_file_read.read())\n",
        "\n",
        "#closing\n",
        "text_file_read.close()\n"
      ],
      "metadata": {
        "colab": {
          "base_uri": "https://localhost:8080/"
        },
        "id": "YKsAs51rIo6K",
        "outputId": "2868d688-7286-4f89-9d02-6461c631beed"
      },
      "execution_count": 3,
      "outputs": [
        {
          "output_type": "stream",
          "name": "stdout",
          "text": [
            "Wonderful day to study python \n",
            " on sunday\n",
            "Always is a good occasion to study Python\n",
            "\n"
          ]
        }
      ]
    },
    {
      "cell_type": "markdown",
      "source": [
        "#**Modificar la posición de un cursor**\n",
        "\n",
        "Se realiza con el método seek(arg), donde arg es la posición donde deseamos que se situe el cursor"
      ],
      "metadata": {
        "id": "rn8Bz_UpKqpX"
      }
    },
    {
      "cell_type": "code",
      "source": [
        "from io import open\n",
        "\n",
        "#Read\n",
        "\n",
        "#Creation and opening\n",
        "text_file_read = open('archive.txt', 'r')\n",
        "\n",
        "#handling\n",
        "print(text_file_read.read())\n",
        "text_file_read.seek(0)\n",
        "print(text_file_read.read())\n",
        "\n",
        "#closing\n",
        "text_file_read.close()"
      ],
      "metadata": {
        "colab": {
          "base_uri": "https://localhost:8080/"
        },
        "id": "S8ErRcBXLLXU",
        "outputId": "d59d6d9e-ca6b-42ae-d818-738754725bfc"
      },
      "execution_count": 4,
      "outputs": [
        {
          "output_type": "stream",
          "name": "stdout",
          "text": [
            "Wonderful day to study python \n",
            " on sunday\n",
            "Always is a good occasion to study Python\n",
            "Wonderful day to study python \n",
            " on sunday\n",
            "Always is a good occasion to study Python\n"
          ]
        }
      ]
    },
    {
      "cell_type": "code",
      "source": [
        "from io import open\n",
        "\n",
        "#Read\n",
        "\n",
        "#Creation and opening\n",
        "text_file_read = open('archive.txt', 'r')\n",
        "\n",
        "#handling\n",
        "text_file_read.seek(11)\n",
        "print(text_file_read.read())\n",
        "\n",
        "\n",
        "\n",
        "#closing\n",
        "text_file_read.close()"
      ],
      "metadata": {
        "colab": {
          "base_uri": "https://localhost:8080/"
        },
        "id": "g9NJL2-yL9Hb",
        "outputId": "0e055c32-4ad7-4ece-c0a0-c51deb53a4d9"
      },
      "execution_count": 6,
      "outputs": [
        {
          "output_type": "stream",
          "name": "stdout",
          "text": [
            "ay to study python \n",
            " on sunday\n",
            "Always is a good occasion to study Python\n"
          ]
        }
      ]
    },
    {
      "cell_type": "markdown",
      "source": [
        "Con el método **read(arg)** también se puede situar el **cursor**, la diferencia es que leerá desde donde esté el cursor hasta el arg que le especifiquemos"
      ],
      "metadata": {
        "id": "bNZxKi1fM6yN"
      }
    },
    {
      "cell_type": "code",
      "source": [
        "from io import open\n",
        "\n",
        "#Read\n",
        "\n",
        "#Creation and opening\n",
        "text_file_read = open('archive.txt', 'r')\n",
        "\n",
        "#handling\n",
        "print(text_file_read.read(11))\n",
        "print(text_file_read.read())\n",
        "\n",
        "\n",
        "#closing\n",
        "text_file_read.close()"
      ],
      "metadata": {
        "colab": {
          "base_uri": "https://localhost:8080/"
        },
        "id": "JxDhnFXdNO6G",
        "outputId": "6ee7ec48-972d-443e-8e81-8ed714357c34"
      },
      "execution_count": 8,
      "outputs": [
        {
          "output_type": "stream",
          "name": "stdout",
          "text": [
            "Wonderful d\n",
            "ay to study python \n",
            " on sunday\n",
            "Always is a good occasion to study Python\n"
          ]
        }
      ]
    }
  ]
}