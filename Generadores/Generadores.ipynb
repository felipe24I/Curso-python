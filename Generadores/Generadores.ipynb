{
  "nbformat": 4,
  "nbformat_minor": 0,
  "metadata": {
    "colab": {
      "provenance": [],
      "authorship_tag": "ABX9TyPBCFfYC7i98rEL/yCvY5JH",
      "include_colab_link": true
    },
    "kernelspec": {
      "name": "python3",
      "display_name": "Python 3"
    },
    "language_info": {
      "name": "python"
    }
  },
  "cells": [
    {
      "cell_type": "markdown",
      "metadata": {
        "id": "view-in-github",
        "colab_type": "text"
      },
      "source": [
        "<a href=\"https://colab.research.google.com/github/felipe24I/Curso-python/blob/main/Generadores.ipynb\" target=\"_parent\"><img src=\"https://colab.research.google.com/assets/colab-badge.svg\" alt=\"Open In Colab\"/></a>"
      ]
    },
    {
      "cell_type": "markdown",
      "source": [
        "#**Generadores**\n",
        "\n",
        "Estructuras que extraen valores de una función y se almacenan en objetos iterables\n",
        "\n",
        "Estos valores se almacenan de uno en uno\n",
        "\n",
        "Cada vez que el generador almacena un valor, este permanence en un estado de suspención hasta que se solicita el siguiente"
      ],
      "metadata": {
        "id": "pFoUeA87Rri9"
      }
    },
    {
      "cell_type": "markdown",
      "source": [
        "#**Ejemplo generar pares usando función**"
      ],
      "metadata": {
        "id": "OTvKvhc0SWFT"
      }
    },
    {
      "cell_type": "code",
      "source": [
        "\n",
        "def generaPares(limite):\n",
        "  num=1\n",
        "  miLista=[]\n",
        "  contador=0\n",
        "  while contador < limite:\n",
        "   miLista.append(num*2)\n",
        "   num +=1\n",
        "   contador += 1\n",
        "  return miLista\n",
        "\n",
        "print(generaPares(10))"
      ],
      "metadata": {
        "colab": {
          "base_uri": "https://localhost:8080/"
        },
        "id": "vIvQRf5MSTHd",
        "outputId": "bc41ed5f-a077-4b40-f466-be9415c2f34d"
      },
      "execution_count": null,
      "outputs": [
        {
          "output_type": "stream",
          "name": "stdout",
          "text": [
            "[2, 4, 6, 8, 10, 12, 14, 16, 18, 20]\n"
          ]
        }
      ]
    },
    {
      "cell_type": "markdown",
      "source": [
        "#**Ejemplo generar pares usando generador**"
      ],
      "metadata": {
        "id": "53snmuEBUPiA"
      }
    },
    {
      "cell_type": "code",
      "source": [
        "def generaPares (limite):\n",
        "  num=1\n",
        "  contador=0\n",
        "  while contador < limite:\n",
        "    yield num*2\n",
        "    num += 1\n",
        "    contador +=1\n",
        "\n",
        "devuelvePares=generaPares(10)\n",
        "for i in devuelvePares:\n",
        "  print(i)\n"
      ],
      "metadata": {
        "colab": {
          "base_uri": "https://localhost:8080/"
        },
        "id": "KfCn-y7YUXUX",
        "outputId": "f26b151a-613a-453c-91e8-5b1f75ec6fcb"
      },
      "execution_count": null,
      "outputs": [
        {
          "output_type": "stream",
          "name": "stdout",
          "text": [
            "2\n",
            "4\n",
            "6\n",
            "8\n",
            "10\n",
            "12\n",
            "14\n",
            "16\n",
            "18\n",
            "20\n"
          ]
        }
      ]
    },
    {
      "cell_type": "markdown",
      "source": [
        "Next= Devolver valor a valor lo que el objeto iterable tiene en su interior"
      ],
      "metadata": {
        "id": "EzAVoIfybfsh"
      }
    },
    {
      "cell_type": "code",
      "source": [
        "def generaPares (limite):\n",
        "  num=1\n",
        "  contador=0\n",
        "  while contador < limite:\n",
        "    yield num*2\n",
        "    num += 1\n",
        "    contador +=1\n",
        "\n",
        "devuelvePares=generaPares(10)\n",
        "print(next(devuelvePares))\n",
        "print(\"Aquí podría ir más código\")\n",
        "print(next(devuelvePares))\n",
        "print(\"Aquípodría ir más código\")\n",
        "print(next(devuelvePares))\n",
        "print(\"Aquí podría ir más código\")\n"
      ],
      "metadata": {
        "colab": {
          "base_uri": "https://localhost:8080/"
        },
        "id": "AlXhw3QLVHsQ",
        "outputId": "18043982-8181-43b7-ef07-471ad3677c8a"
      },
      "execution_count": null,
      "outputs": [
        {
          "output_type": "stream",
          "name": "stdout",
          "text": [
            "2\n",
            "Aquí podría ir más código\n",
            "4\n",
            "Aquípodría ir más código\n",
            "6\n",
            "Aquí podría ir más código\n"
          ]
        }
      ]
    },
    {
      "cell_type": "markdown",
      "source": [
        "#**Uso del yield from**\n",
        "\n",
        "Se usa para simplificar el código de los generadores en el caso de utilizar bucles anidados"
      ],
      "metadata": {
        "id": "bIx5NYIhd2X4"
      }
    },
    {
      "cell_type": "code",
      "source": [
        "def devuelve_ciudades (*ciudades):\n",
        "  for elemento in ciudades:\n",
        "    yield from elemento\n",
        "\n",
        "ciudades_devueltas= devuelve_ciudades(\"Madrid\",\"Barcelona\",\"Bilbao\",\"Valencia\")\n",
        "print(next(ciudades_devueltas))\n",
        "print(next(ciudades_devueltas))"
      ],
      "metadata": {
        "id": "TUGjJ3ogeGVF",
        "outputId": "63d997a1-838e-40cf-a401-b1ce2439fc8b",
        "colab": {
          "base_uri": "https://localhost:8080/"
        }
      },
      "execution_count": 3,
      "outputs": [
        {
          "output_type": "stream",
          "name": "stdout",
          "text": [
            "M\n",
            "a\n"
          ]
        }
      ]
    },
    {
      "cell_type": "markdown",
      "source": [
        "#**Usando el for anidado**"
      ],
      "metadata": {
        "id": "b0vOUiJRe4gZ"
      }
    },
    {
      "cell_type": "code",
      "source": [
        "def devuelve_ciudades (*ciudades):\n",
        "  for elemento in ciudades:\n",
        "    for subelemento in elemento:\n",
        "      yield subelemento\n",
        "\n",
        "ciudades_devueltas= devuelve_ciudades(\"Madrid\",\"Barcelona\",\"Bilbao\",\"Valencia\")\n",
        "print(next(ciudades_devueltas))\n",
        "print(next(ciudades_devueltas))"
      ],
      "metadata": {
        "id": "g38BKgVbe9rC",
        "outputId": "2967ef6e-bc8e-4d40-e882-e1d6a9a1ac99",
        "colab": {
          "base_uri": "https://localhost:8080/"
        }
      },
      "execution_count": 4,
      "outputs": [
        {
          "output_type": "stream",
          "name": "stdout",
          "text": [
            "M\n",
            "a\n"
          ]
        }
      ]
    }
  ]
}