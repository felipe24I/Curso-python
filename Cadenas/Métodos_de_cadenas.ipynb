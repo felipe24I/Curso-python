{
  "nbformat": 4,
  "nbformat_minor": 0,
  "metadata": {
    "colab": {
      "provenance": [],
      "authorship_tag": "ABX9TyNgfcdVZWa3SoR3h78i2CCr",
      "include_colab_link": true
    },
    "kernelspec": {
      "name": "python3",
      "display_name": "Python 3"
    },
    "language_info": {
      "name": "python"
    }
  },
  "cells": [
    {
      "cell_type": "markdown",
      "metadata": {
        "id": "view-in-github",
        "colab_type": "text"
      },
      "source": [
        "<a href=\"https://colab.research.google.com/github/felipe24I/Curso-python/blob/main/M%C3%A9todos_de_cadenas.ipynb\" target=\"_parent\"><img src=\"https://colab.research.google.com/assets/colab-badge.svg\" alt=\"Open In Colab\"/></a>"
      ]
    },
    {
      "cell_type": "markdown",
      "source": [
        "#**Métodos de cadenas**"
      ],
      "metadata": {
        "id": "J84aZOgkZ-DU"
      }
    },
    {
      "cell_type": "code",
      "execution_count": 1,
      "metadata": {
        "id": "2TWdHVhJ3y77",
        "colab": {
          "base_uri": "https://localhost:8080/"
        },
        "outputId": "cda1f59e-df90-4934-9fd6-025ad4a2bfac"
      },
      "outputs": [
        {
          "output_type": "stream",
          "name": "stdout",
          "text": [
            "Introduce tu nombre: felipe\n",
            "Tu nombre es:  FELIPE\n",
            "Introduce tu nombre: FElipE\n",
            "Tu nombre es:  felipe\n",
            "Introduce tu nombre: feLIPE\n",
            "Tu nombre es:  Felipe\n"
          ]
        }
      ],
      "source": [
        "nombre=input(\"Introduce tu nombre: \")\n",
        "print(\"Tu nombre es: \",nombre.upper())\n",
        "\n",
        "nombre=input(\"Introduce tu nombre: \")\n",
        "print(\"Tu nombre es: \",nombre.lower())\n",
        "\n",
        "nombre=input(\"Introduce tu nombre: \")\n",
        "print(\"Tu nombre es: \",nombre.capitalize())"
      ]
    },
    {
      "cell_type": "code",
      "source": [
        "edad=input(\"introduce tu edad: \")\n",
        "while(edad.isdigit()==False):\n",
        "  print(\"Por favor, introduce un valor numérico\\n\")\n",
        "  edad=input(\"introduce tu edad: \")\n",
        "if (int(edad)<18):\n",
        "  print(\"No puedes pasar\")\n",
        "else:\n",
        "  print(\"Puedes pasar\")"
      ],
      "metadata": {
        "colab": {
          "base_uri": "https://localhost:8080/"
        },
        "id": "4o8gnIRcaEqX",
        "outputId": "c388fa3b-630c-4df9-d509-d291f1990ddd"
      },
      "execution_count": 7,
      "outputs": [
        {
          "output_type": "stream",
          "name": "stdout",
          "text": [
            "introduce tu edad: ed\n",
            "Por favor, introduce un valor numérico\n",
            "\n",
            "introduce tu edad: 23\n",
            "Puedes pasar\n"
          ]
        }
      ]
    },
    {
      "cell_type": "markdown",
      "source": [
        "#**Ejercicio de práctica:**\n",
        "\n",
        "Crea un programa que pida introducir una dirección de email por teclado. El programa debe imprimir en consola si la dirección de email es correcta o no en función de si esta tiene el símbolo ‘@’. Si tiene una ‘@’ la dirección será correcta. Si tiene más de una o ninguna ‘@’ la dirección será errónea. Si la ‘@’ está al comienzo de la dirección de email o al final, la dirección también será errónea"
      ],
      "metadata": {
        "id": "RjbBSfGRdLEj"
      }
    },
    {
      "cell_type": "code",
      "source": [
        "email=input(\"Introduce tu email: \")\n",
        "veces=email.count(\"@\")\n",
        "final=email.endswith(\"@\")\n",
        "comienzo=email.find(\"@\")\n",
        "if veces != 1 or final or comienzo == 0:\n",
        "  print(\"Email invalido\")\n",
        "else:\n",
        "  print(\"Email valido\")"
      ],
      "metadata": {
        "colab": {
          "base_uri": "https://localhost:8080/"
        },
        "id": "scmsvte_dTt4",
        "outputId": "26610908-06a6-469e-958b-d8383ebd9c19"
      },
      "execution_count": 17,
      "outputs": [
        {
          "output_type": "stream",
          "name": "stdout",
          "text": [
            "Introduce tu email: fe@li@gmail.com\n",
            "Email invalido\n"
          ]
        }
      ]
    }
  ]
}