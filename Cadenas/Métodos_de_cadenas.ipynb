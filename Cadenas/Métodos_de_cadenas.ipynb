{
  "nbformat": 4,
  "nbformat_minor": 0,
  "metadata": {
    "colab": {
      "provenance": [],
      "authorship_tag": "ABX9TyNmrQJvV4tYs1I5+NywC4MU",
      "include_colab_link": true
    },
    "kernelspec": {
      "name": "python3",
      "display_name": "Python 3"
    },
    "language_info": {
      "name": "python"
    }
  },
  "cells": [
    {
      "cell_type": "markdown",
      "metadata": {
        "id": "view-in-github",
        "colab_type": "text"
      },
      "source": [
        "<a href=\"https://colab.research.google.com/github/felipe24I/Curso-python/blob/main/Cadenas/M%C3%A9todos_de_cadenas.ipynb\" target=\"_parent\"><img src=\"https://colab.research.google.com/assets/colab-badge.svg\" alt=\"Open In Colab\"/></a>"
      ]
    },
    {
      "cell_type": "markdown",
      "source": [
        "#**Métodos de cadenas**"
      ],
      "metadata": {
        "id": "J84aZOgkZ-DU"
      }
    },
    {
      "cell_type": "markdown",
      "source": [
        "#**#1 Método upper() , lower () , capitalize()**\n",
        "\n",
        "**upper()** = Retorna una copia del string con todos los caracteres convertidos a mayuscula\n",
        "\n",
        "**lower()** = Retorna una copia del string con todos los caracteres convertidos a minuscula\n",
        "\n",
        "**capitalize()** = Retorna una copia de el string con su primer caracter en mayúscula y el resto en minúscula"
      ],
      "metadata": {
        "id": "ym-viXvyrIbu"
      }
    },
    {
      "cell_type": "code",
      "execution_count": null,
      "metadata": {
        "id": "2TWdHVhJ3y77",
        "colab": {
          "base_uri": "https://localhost:8080/"
        },
        "outputId": "cda1f59e-df90-4934-9fd6-025ad4a2bfac"
      },
      "outputs": [
        {
          "output_type": "stream",
          "name": "stdout",
          "text": [
            "Introduce tu nombre: felipe\n",
            "Tu nombre es:  FELIPE\n",
            "Introduce tu nombre: FElipE\n",
            "Tu nombre es:  felipe\n",
            "Introduce tu nombre: feLIPE\n",
            "Tu nombre es:  Felipe\n"
          ]
        }
      ],
      "source": [
        "nombre=input(\"Introduce tu nombre: \")\n",
        "print(\"Tu nombre es: \",nombre.upper())\n",
        "\n",
        "nombre=input(\"Introduce tu nombre: \")\n",
        "print(\"Tu nombre es: \",nombre.lower())\n",
        "\n",
        "nombre=input(\"Introduce tu nombre: \")\n",
        "print(\"Tu nombre es: \",nombre.capitalize())"
      ]
    },
    {
      "cell_type": "markdown",
      "source": [
        "#**#2 Método casefold()**\n",
        "es una versión avanzada del método lower() , este convierte todas las letras mayusculas a minusculas incluyendo algunos caracteres especiales que no estan especificados en la **tabla ASCII**.\n",
        "\n",
        "Por ejemplo **‘ß’** el cual es una letra Alemana y su letra minuscula es **'ss'**"
      ],
      "metadata": {
        "id": "yXsBU7VHcAzu"
      }
    },
    {
      "cell_type": "code",
      "source": [
        "originalString = 'DER FLUß'\n",
        "\n",
        "lowerString = originalString.lower()\n",
        "casefoldString = originalString.casefold()\n",
        "\n",
        "print(f\"Cadena original: {originalString}\") # f es una forma diferente de concatenar que la coma , pero retorna lo mismo\n",
        "print(\"Cadena con lower(): \",lowerString)\n",
        "print(\"Cadena con casefold(): \",casefoldString)"
      ],
      "metadata": {
        "id": "6-0dyMZ0hsaQ",
        "outputId": "efaca066-a483-49c6-a5fc-afcf39d8c5fe",
        "colab": {
          "base_uri": "https://localhost:8080/"
        }
      },
      "execution_count": null,
      "outputs": [
        {
          "output_type": "stream",
          "name": "stdout",
          "text": [
            "Cadena original: DER FLUß\n",
            "Cadena con lower():  der fluß\n",
            "Cadena con casefold():  der fluss\n"
          ]
        }
      ]
    },
    {
      "cell_type": "markdown",
      "source": [
        "#**#3 Método center(width[,fillchar])**\n",
        "Retorna un string centrado, se debe especificar la longitud del string y opcionalmente un caracter para poner alrededor de lo que está centrado\n",
        "\n",
        "\n"
      ],
      "metadata": {
        "id": "UBuJqN7TdTvF"
      }
    },
    {
      "cell_type": "code",
      "source": [
        "centerString=\"Hello\"\n",
        "print(centerString.center(20))\n",
        "print(centerString.center(20,'.'))"
      ],
      "metadata": {
        "id": "uDSToIugeKMk",
        "outputId": "138e0bfb-1aa8-4d6b-cbc3-7c9fd1999931",
        "colab": {
          "base_uri": "https://localhost:8080/"
        }
      },
      "execution_count": null,
      "outputs": [
        {
          "output_type": "stream",
          "name": "stdout",
          "text": [
            "       Hello        \n",
            ".......Hello........\n"
          ]
        }
      ]
    },
    {
      "cell_type": "markdown",
      "source": [
        "#**#4 Método count(sub[, start[, end]])**\n",
        "Retorna el número de ocurrencias de un substring en un rango [start,end]. start y end son argumentos opcionales interpretados en slice notation\n",
        "\n",
        "**slice notation:** es usada para extraer un substring\n",
        "\n",
        "**examples:**\n",
        "\n",
        "[0:2]\n",
        "\n",
        "[2:5]\n",
        "\n",
        "[:4]\n"
      ],
      "metadata": {
        "id": "2qpBjWa5emO-"
      }
    },
    {
      "cell_type": "code",
      "source": [
        "text: str = 'abc_abc_abc_abc'\n",
        "print(text.count('ab'))\n",
        "print(text.count('ab',0,6))"
      ],
      "metadata": {
        "id": "fyNfRlQ-jCqY",
        "outputId": "362d86d1-4227-4c10-fc6c-06a2a66abec9",
        "colab": {
          "base_uri": "https://localhost:8080/"
        }
      },
      "execution_count": null,
      "outputs": [
        {
          "output_type": "stream",
          "name": "stdout",
          "text": [
            "4\n",
            "2\n"
          ]
        }
      ]
    },
    {
      "cell_type": "markdown",
      "source": [
        "#**#5 Método encode(encoding='utf-8', errors='strict')**\n",
        "Retorna el string codificado a bits\n",
        "\n",
        "Codifica por defecto a 'utf-8'\n",
        "\n",
        "errors controla como los errores de codificación son manejados, si 'strict' (el por defecto), a unicodeError es arrojado, otros posibles valores son 'ignore', 'replace', 'xmlcharrefreplace', 'backslashreplace'"
      ],
      "metadata": {
        "id": "YF1f6448leZC"
      }
    },
    {
      "cell_type": "code",
      "source": [
        "sentence = \"Füssen\"\n",
        "error_types = [\n",
        "\"backslashreplace\",\n",
        "\"ignore\",\n",
        "\"namereplace\",\n",
        "\"replace\",\n",
        "\"xmlcharrefreplace\",\n",
        "\"strict\"]\n",
        "new_s1 = sentence.encode(encoding='ascii',errors=\"ignore\")\n",
        "print(new_s1)\n",
        "new_s2 = sentence.encode(encoding='ascii',errors=\"backslashreplace\")\n",
        "print(new_s2)\n",
        "new_s3 = sentence.encode(encoding='ascii',errors=\"namereplace\")\n",
        "print(new_s3)\n",
        "new_s4 = sentence.encode(encoding='ascii',errors=\"replace\")\n",
        "print(new_s4)\n",
        "new_s5 = sentence.encode(encoding='ascii',errors=\"xmlcharrefreplace\")\n",
        "print(new_s5)\n",
        "new_s6 = sentence.encode(encoding='utf-8',errors=\"strict\")\n",
        "print(new_s6)"
      ],
      "metadata": {
        "id": "qHm0dueUocgI",
        "outputId": "c9fe6e73-b4b9-4ca0-94e6-6471a2e3715c",
        "colab": {
          "base_uri": "https://localhost:8080/"
        }
      },
      "execution_count": null,
      "outputs": [
        {
          "output_type": "stream",
          "name": "stdout",
          "text": [
            "b'Fssen'\n",
            "b'F\\\\xfcssen'\n",
            "b'F\\\\N{LATIN SMALL LETTER U WITH DIAERESIS}ssen'\n",
            "b'F?ssen'\n",
            "b'F&#252;ssen'\n",
            "b'F\\xc3\\xbcssen'\n"
          ]
        }
      ]
    },
    {
      "cell_type": "markdown",
      "source": [
        "#**#6 Método endswith(suffix[, start[, end]])**\n",
        "Retorna True si el string termina con el suffix especificado, de lo contrario retorna False. Suffix pude ser también una tupla con suffixes para buscar, tiene start y end opcionales"
      ],
      "metadata": {
        "id": "tmZ0m-8ArPUz"
      }
    },
    {
      "cell_type": "code",
      "source": [
        "endswithString1 = \"apple\"\n",
        "endswithString2 = \"appla\"\n",
        "endswithString3 = \"applz\"\n",
        "print(endswithString1.endswith(('e','a')))\n",
        "print(endswithString2.endswith(('e','a')))\n",
        "print(endswithString3.endswith(('e','a')))"
      ],
      "metadata": {
        "id": "O4R6UCyB9KAq",
        "outputId": "3d169163-bba4-4809-a979-6ae3dab2f153",
        "colab": {
          "base_uri": "https://localhost:8080/"
        }
      },
      "execution_count": null,
      "outputs": [
        {
          "output_type": "stream",
          "name": "stdout",
          "text": [
            "True\n",
            "True\n",
            "False\n"
          ]
        }
      ]
    },
    {
      "cell_type": "markdown",
      "source": [
        "#**#7 Método expandtabs(tabsize=8)**\n",
        "Retorna una copia del string donde todos los caracteres tab son reemplazados por uno o más espacios, dependiendo de la columna actualy del tab size dado.\n",
        "\n",
        "Por defecto es 8 si no le ponemos el tabsize\n",
        "\n"
      ],
      "metadata": {
        "id": "mjnL37D1ANTh"
      }
    },
    {
      "cell_type": "code",
      "source": [
        "text: str = \"text\\ttext2\\ttext3\"\n",
        "print(text.expandtabs(20))\n",
        "print(text.expandtabs())"
      ],
      "metadata": {
        "id": "KSxTiFYLBdSa",
        "outputId": "3c86c9ed-8ae0-45c9-8194-d6aa6806145f",
        "colab": {
          "base_uri": "https://localhost:8080/"
        }
      },
      "execution_count": null,
      "outputs": [
        {
          "output_type": "stream",
          "name": "stdout",
          "text": [
            "text                text2               text3\n",
            "text    text2   text3\n"
          ]
        }
      ]
    },
    {
      "cell_type": "markdown",
      "source": [
        "#**#8 Método find(sub[, start[, end]])**\n",
        "Retorna el más bajo indice del string donde el substring **sub** es encontrado dentro del slice **s[start:end]**. Los argumentos opcionales start y end son interpretados como una slice notation. Retorna **-1** si sub no es encontrado"
      ],
      "metadata": {
        "id": "Qb5m2DpLB6X0"
      }
    },
    {
      "cell_type": "code",
      "source": [
        "text: str = \"Remember to comment and suscribe!\"\n",
        "\n",
        "position: int = text.find(\"suscribe\")\n",
        "\n",
        "print(position)\n",
        "print(text[position:])\n",
        "\n",
        "position2: int = text.find(\"asdas\")\n",
        "\n",
        "print(position2)\n",
        "print(text[position2:])"
      ],
      "metadata": {
        "id": "KvfUMUtnD4GJ",
        "outputId": "d7495676-2030-4022-b349-7b6fcb793bfc",
        "colab": {
          "base_uri": "https://localhost:8080/"
        }
      },
      "execution_count": null,
      "outputs": [
        {
          "output_type": "stream",
          "name": "stdout",
          "text": [
            "24\n",
            "suscribe!\n",
            "-1\n",
            "!\n"
          ]
        }
      ]
    },
    {
      "cell_type": "markdown",
      "source": [
        "#**#9 Método format(args, kwargs)**\n",
        "Calcula una operación de formato string. El string el cual este metodo es llamado puede contener texto literal o campos de reemplazo delimitados con llaves {}. Cada campo de reemplazo contiente ya sea el indice numérico del argumento posicional, o el nombre de la clave del argumento. Retorna una copia del string donde cada campo de reemplazo es reemplazado con el valor del string del argumento correspondiente  "
      ],
      "metadata": {
        "id": "BPTwO8KBGrot"
      }
    },
    {
      "cell_type": "code",
      "source": [
        "print(\"The sum of 1 + 2 is {0}\".format(1+2))\n",
        "\n",
        "text: str = '{subject} is doing: {action}'\n",
        "print(text.format(subject=\"cat\",action=\"meow\"))\n",
        "\n",
        "text: str = '{} is doing: {}' #Alternative\n",
        "print(text.format(\"cat\",\"meow\"))\n",
        "\n",
        "text: str = '{1} is doing: {0}' #Alternative\n",
        "print(text.format(\"cat\",\"meow\"))"
      ],
      "metadata": {
        "id": "eJaKdRWpd8gZ",
        "outputId": "19800e9a-c493-4012-e106-f2e5b4d354d8",
        "colab": {
          "base_uri": "https://localhost:8080/"
        }
      },
      "execution_count": null,
      "outputs": [
        {
          "output_type": "stream",
          "name": "stdout",
          "text": [
            "The sum of 1 + 2 is 3\n",
            "cat is doing: meow\n",
            "cat is doing: meow\n",
            "meow is doing: cat\n"
          ]
        }
      ]
    },
    {
      "cell_type": "markdown",
      "source": [
        "#**#10 format_map(mapping)**\n",
        "Mapea un diccionario a valores formateados que tenemos en nuestro string"
      ],
      "metadata": {
        "id": "fMqniFAIgEtQ"
      }
    },
    {
      "cell_type": "code",
      "source": [
        "coordinates: dict = {'x': 10, 'y': -5}\n",
        "text: str = 'coordinates: ({x}, {y})'\n",
        "print(text.format_map(coordinates))\n"
      ],
      "metadata": {
        "id": "GXbcgtioimyF",
        "outputId": "866c1b65-c50b-4cda-94aa-124eb4d95f87",
        "colab": {
          "base_uri": "https://localhost:8080/"
        }
      },
      "execution_count": 44,
      "outputs": [
        {
          "output_type": "stream",
          "name": "stdout",
          "text": [
            "coordinates: (10, -5)\n"
          ]
        }
      ]
    },
    {
      "cell_type": "markdown",
      "source": [
        "#**#11 index(sub[, start[, end]])**\n",
        "Como find(), pero Arroja ValueError cuando el substring no se encontró\n",
        "\n",
        "\n"
      ],
      "metadata": {
        "id": "MrKBhH5MtwgN"
      }
    },
    {
      "cell_type": "code",
      "source": [
        "text: str = \"Astronauts recently discovered a banana on the moon?\"\n",
        "\n",
        "position: int = text.index(\"banana\")\n",
        "\n",
        "print(position)\n",
        "print(text[position:])\n",
        "\n",
        "position2: int = text.index(\"asdas\")\n",
        "\n",
        "print(position2)\n",
        "print(text[position2:])"
      ],
      "metadata": {
        "id": "9wrEfSxTuqCX",
        "outputId": "2f27c874-46c2-4e10-e19b-8e912118daaa",
        "colab": {
          "base_uri": "https://localhost:8080/",
          "height": 245
        }
      },
      "execution_count": 46,
      "outputs": [
        {
          "output_type": "stream",
          "name": "stdout",
          "text": [
            "33\n",
            "banana on the moon?\n"
          ]
        },
        {
          "output_type": "error",
          "ename": "ValueError",
          "evalue": "substring not found",
          "traceback": [
            "\u001b[0;31m---------------------------------------------------------------------------\u001b[0m",
            "\u001b[0;31mValueError\u001b[0m                                Traceback (most recent call last)",
            "\u001b[0;32m<ipython-input-46-317ec30bd3a6>\u001b[0m in \u001b[0;36m<cell line: 8>\u001b[0;34m()\u001b[0m\n\u001b[1;32m      6\u001b[0m \u001b[0mprint\u001b[0m\u001b[0;34m(\u001b[0m\u001b[0mtext\u001b[0m\u001b[0;34m[\u001b[0m\u001b[0mposition\u001b[0m\u001b[0;34m:\u001b[0m\u001b[0;34m]\u001b[0m\u001b[0;34m)\u001b[0m\u001b[0;34m\u001b[0m\u001b[0;34m\u001b[0m\u001b[0m\n\u001b[1;32m      7\u001b[0m \u001b[0;34m\u001b[0m\u001b[0m\n\u001b[0;32m----> 8\u001b[0;31m \u001b[0mposition2\u001b[0m\u001b[0;34m:\u001b[0m \u001b[0mint\u001b[0m \u001b[0;34m=\u001b[0m \u001b[0mtext\u001b[0m\u001b[0;34m.\u001b[0m\u001b[0mindex\u001b[0m\u001b[0;34m(\u001b[0m\u001b[0;34m\"asdas\"\u001b[0m\u001b[0;34m)\u001b[0m\u001b[0;34m\u001b[0m\u001b[0;34m\u001b[0m\u001b[0m\n\u001b[0m\u001b[1;32m      9\u001b[0m \u001b[0;34m\u001b[0m\u001b[0m\n\u001b[1;32m     10\u001b[0m \u001b[0mprint\u001b[0m\u001b[0;34m(\u001b[0m\u001b[0mposition2\u001b[0m\u001b[0;34m)\u001b[0m\u001b[0;34m\u001b[0m\u001b[0;34m\u001b[0m\u001b[0m\n",
            "\u001b[0;31mValueError\u001b[0m: substring not found"
          ]
        }
      ]
    },
    {
      "cell_type": "markdown",
      "source": [
        "#**Método isalnum()**\n",
        "\n",
        "Retorna **True** si todos los caracteres del string son alfanuméricos y si hay al menos un caracter, de otra forma, retorna **False**\n",
        "\n",
        "Un caracter es alfanumérico si uno de los siguientes métodos retorna True: c.isalpha(), c.isdecimal(), c.isdigit(), o c.isnumeric()\n"
      ],
      "metadata": {
        "id": "UmX1D5_vvkre"
      }
    },
    {
      "cell_type": "code",
      "source": [],
      "metadata": {
        "id": "ZiLcoaUsvkDI"
      },
      "execution_count": null,
      "outputs": []
    },
    {
      "cell_type": "markdown",
      "source": [
        "#**Método isdigit()**\n",
        "\n",
        "Retorna **True** si todos los caracteres del string son dígitos y si hay al menos un caracter, de otra forma, retorna **False**\n"
      ],
      "metadata": {
        "id": "newCQiXFr46l"
      }
    },
    {
      "cell_type": "code",
      "source": [
        "edad=input(\"introduce tu edad: \")\n",
        "while(edad.isdigit()==False):\n",
        "  print(\"Por favor, introduce un valor numérico\\n\")\n",
        "  edad=input(\"introduce tu edad: \")\n",
        "if (int(edad)<18):\n",
        "  print(\"No puedes pasar\")\n",
        "else:\n",
        "  print(\"Puedes pasar\")"
      ],
      "metadata": {
        "colab": {
          "base_uri": "https://localhost:8080/"
        },
        "id": "4o8gnIRcaEqX",
        "outputId": "83262f3c-bcce-486a-be8d-ddef269d00a9"
      },
      "execution_count": null,
      "outputs": [
        {
          "output_type": "stream",
          "name": "stdout",
          "text": [
            "introduce tu edad: e4\n",
            "Por favor, introduce un valor numérico\n",
            "\n",
            "introduce tu edad: 3\n",
            "No puedes pasar\n"
          ]
        }
      ]
    },
    {
      "cell_type": "markdown",
      "source": [
        "#**Ejercicio de práctica:**\n",
        "\n",
        "Crea un programa que pida introducir una dirección de email por teclado. El programa debe imprimir en consola si la dirección de email es correcta o no en función de si esta tiene el símbolo ‘@’. Si tiene una ‘@’ la dirección será correcta. Si tiene más de una o ninguna ‘@’ la dirección será errónea. Si la ‘@’ está al comienzo de la dirección de email o al final, la dirección también será errónea"
      ],
      "metadata": {
        "id": "RjbBSfGRdLEj"
      }
    },
    {
      "cell_type": "code",
      "source": [
        "email=input(\"Introduce tu email: \")\n",
        "veces=email.count(\"@\")\n",
        "final=email.endswith(\"@\")\n",
        "comienzo=email.find(\"@\")\n",
        "if veces != 1 or final or comienzo == 0:\n",
        "  print(\"Email invalido\")\n",
        "else:\n",
        "  print(\"Email valido\")"
      ],
      "metadata": {
        "colab": {
          "base_uri": "https://localhost:8080/"
        },
        "id": "scmsvte_dTt4",
        "outputId": "26610908-06a6-469e-958b-d8383ebd9c19"
      },
      "execution_count": null,
      "outputs": [
        {
          "output_type": "stream",
          "name": "stdout",
          "text": [
            "Introduce tu email: fe@li@gmail.com\n",
            "Email invalido\n"
          ]
        }
      ]
    }
  ]
}