{
  "nbformat": 4,
  "nbformat_minor": 0,
  "metadata": {
    "colab": {
      "provenance": [],
      "authorship_tag": "ABX9TyOzecXcOdWnNxYut8eM0ZVW",
      "include_colab_link": true
    },
    "kernelspec": {
      "name": "python3",
      "display_name": "Python 3"
    },
    "language_info": {
      "name": "python"
    }
  },
  "cells": [
    {
      "cell_type": "markdown",
      "metadata": {
        "id": "view-in-github",
        "colab_type": "text"
      },
      "source": [
        "<a href=\"https://colab.research.google.com/github/felipe24I/Curso-python/blob/main/Cadenas/M%C3%A9todos_de_cadenas.ipynb\" target=\"_parent\"><img src=\"https://colab.research.google.com/assets/colab-badge.svg\" alt=\"Open In Colab\"/></a>"
      ]
    },
    {
      "cell_type": "markdown",
      "source": [
        "#**Métodos de cadenas**"
      ],
      "metadata": {
        "id": "J84aZOgkZ-DU"
      }
    },
    {
      "cell_type": "markdown",
      "source": [
        "#**Método upper() , lower () , capitalize()**\n",
        "\n",
        "**upper()** = Retorna una copia del string con todos los caracteres convertidos a mayuscula\n",
        "\n",
        "**lower()** = Retorna una copia del string con todos los caracteres convertidos a minuscula\n",
        "\n",
        "**capitalize()** = Retorna una copia de el string con su primer caracter en mayúscula y el resto en minúscula"
      ],
      "metadata": {
        "id": "ym-viXvyrIbu"
      }
    },
    {
      "cell_type": "code",
      "execution_count": null,
      "metadata": {
        "id": "2TWdHVhJ3y77",
        "colab": {
          "base_uri": "https://localhost:8080/"
        },
        "outputId": "cda1f59e-df90-4934-9fd6-025ad4a2bfac"
      },
      "outputs": [
        {
          "output_type": "stream",
          "name": "stdout",
          "text": [
            "Introduce tu nombre: felipe\n",
            "Tu nombre es:  FELIPE\n",
            "Introduce tu nombre: FElipE\n",
            "Tu nombre es:  felipe\n",
            "Introduce tu nombre: feLIPE\n",
            "Tu nombre es:  Felipe\n"
          ]
        }
      ],
      "source": [
        "nombre=input(\"Introduce tu nombre: \")\n",
        "print(\"Tu nombre es: \",nombre.upper())\n",
        "\n",
        "nombre=input(\"Introduce tu nombre: \")\n",
        "print(\"Tu nombre es: \",nombre.lower())\n",
        "\n",
        "nombre=input(\"Introduce tu nombre: \")\n",
        "print(\"Tu nombre es: \",nombre.capitalize())"
      ]
    },
    {
      "cell_type": "markdown",
      "source": [
        "#**Método casefold()**\n",
        "es una versión avanzada del método lower() , este convierte todas las letras mayusculas a minusculas incluyendo algunos caracteres especiales que no estan especificados en la **tabla ASCII**.\n",
        "\n",
        "Por ejemplo **‘ß’** el cual es una letra Alemana y su letra minuscula es **'ss'**"
      ],
      "metadata": {
        "id": "yXsBU7VHcAzu"
      }
    },
    {
      "cell_type": "code",
      "source": [
        "originalString = 'DER FLUß'\n",
        "\n",
        "lowerString = originalString.lower()\n",
        "casefoldString = originalString.casefold()\n",
        "\n",
        "print(f\"Cadena original: {originalString}\") # f es una forma diferente de concatenar que la coma , pero retorna lo mismo\n",
        "print(\"Cadena con lower(): \",lowerString)\n",
        "print(\"Cadena con casefold(): \",casefoldString)"
      ],
      "metadata": {
        "id": "6-0dyMZ0hsaQ",
        "outputId": "efaca066-a483-49c6-a5fc-afcf39d8c5fe",
        "colab": {
          "base_uri": "https://localhost:8080/"
        }
      },
      "execution_count": 2,
      "outputs": [
        {
          "output_type": "stream",
          "name": "stdout",
          "text": [
            "Cadena original: DER FLUß\n",
            "Cadena con lower():  der fluß\n",
            "Cadena con casefold():  der fluss\n"
          ]
        }
      ]
    },
    {
      "cell_type": "markdown",
      "source": [
        "#**Método isdigit()**\n",
        "\n",
        "Retorna **True** si todos los caracteres del string son dígitos y si hay al menos un caracter, de otra forma, retorna **False**\n"
      ],
      "metadata": {
        "id": "newCQiXFr46l"
      }
    },
    {
      "cell_type": "code",
      "source": [
        "edad=input(\"introduce tu edad: \")\n",
        "while(edad.isdigit()==False):\n",
        "  print(\"Por favor, introduce un valor numérico\\n\")\n",
        "  edad=input(\"introduce tu edad: \")\n",
        "if (int(edad)<18):\n",
        "  print(\"No puedes pasar\")\n",
        "else:\n",
        "  print(\"Puedes pasar\")"
      ],
      "metadata": {
        "colab": {
          "base_uri": "https://localhost:8080/"
        },
        "id": "4o8gnIRcaEqX",
        "outputId": "83262f3c-bcce-486a-be8d-ddef269d00a9"
      },
      "execution_count": 1,
      "outputs": [
        {
          "output_type": "stream",
          "name": "stdout",
          "text": [
            "introduce tu edad: e4\n",
            "Por favor, introduce un valor numérico\n",
            "\n",
            "introduce tu edad: 3\n",
            "No puedes pasar\n"
          ]
        }
      ]
    },
    {
      "cell_type": "markdown",
      "source": [
        "#**Ejercicio de práctica:**\n",
        "\n",
        "Crea un programa que pida introducir una dirección de email por teclado. El programa debe imprimir en consola si la dirección de email es correcta o no en función de si esta tiene el símbolo ‘@’. Si tiene una ‘@’ la dirección será correcta. Si tiene más de una o ninguna ‘@’ la dirección será errónea. Si la ‘@’ está al comienzo de la dirección de email o al final, la dirección también será errónea"
      ],
      "metadata": {
        "id": "RjbBSfGRdLEj"
      }
    },
    {
      "cell_type": "code",
      "source": [
        "email=input(\"Introduce tu email: \")\n",
        "veces=email.count(\"@\")\n",
        "final=email.endswith(\"@\")\n",
        "comienzo=email.find(\"@\")\n",
        "if veces != 1 or final or comienzo == 0:\n",
        "  print(\"Email invalido\")\n",
        "else:\n",
        "  print(\"Email valido\")"
      ],
      "metadata": {
        "colab": {
          "base_uri": "https://localhost:8080/"
        },
        "id": "scmsvte_dTt4",
        "outputId": "26610908-06a6-469e-958b-d8383ebd9c19"
      },
      "execution_count": null,
      "outputs": [
        {
          "output_type": "stream",
          "name": "stdout",
          "text": [
            "Introduce tu email: fe@li@gmail.com\n",
            "Email invalido\n"
          ]
        }
      ]
    }
  ]
}