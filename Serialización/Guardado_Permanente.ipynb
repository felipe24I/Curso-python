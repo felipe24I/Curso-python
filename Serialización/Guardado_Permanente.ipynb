{
  "nbformat": 4,
  "nbformat_minor": 0,
  "metadata": {
    "colab": {
      "provenance": [],
      "authorship_tag": "ABX9TyN5ZIkM5MaSM15Kq3Nd51Zk",
      "include_colab_link": true
    },
    "kernelspec": {
      "name": "python3",
      "display_name": "Python 3"
    },
    "language_info": {
      "name": "python"
    }
  },
  "cells": [
    {
      "cell_type": "markdown",
      "metadata": {
        "id": "view-in-github",
        "colab_type": "text"
      },
      "source": [
        "<a href=\"https://colab.research.google.com/github/felipe24I/Curso-python/blob/main/Guardado_Permanente.ipynb\" target=\"_parent\"><img src=\"https://colab.research.google.com/assets/colab-badge.svg\" alt=\"Open In Colab\"/></a>"
      ]
    },
    {
      "cell_type": "markdown",
      "source": [
        "#**Guardado permanente**\n",
        "Guardar datos de forma permanente en un fichero"
      ],
      "metadata": {
        "id": "wvBu2o-sW2pZ"
      }
    },
    {
      "cell_type": "code",
      "execution_count": 7,
      "metadata": {
        "colab": {
          "base_uri": "https://localhost:8080/"
        },
        "id": "ehF5kAGDWxqf",
        "outputId": "50643ec0-29fa-41bc-df28-dde4af69f0db"
      },
      "outputs": [
        {
          "output_type": "stream",
          "name": "stdout",
          "text": [
            "Se cargaron 2 personas al fichero externo\n",
            "Se ha creado una persona nueva con el nombre de Sofía\n",
            "La información del fichero externo es la siguiente\n",
            "Felipe Masculino 21\n",
            "Samuel Masculino 20\n",
            "Sofía Femenino 19\n"
          ]
        }
      ],
      "source": [
        "import pickle\n",
        "\n",
        "\n",
        "class Persona():\n",
        "\n",
        "    def __init__(self, nombre, genero, edad):\n",
        "        self.nombre = nombre\n",
        "        self.genero = genero\n",
        "        self.edad = edad\n",
        "        print('Se ha creado una persona nueva con el nombre de', self.nombre)\n",
        "\n",
        "    def __str__(self):\n",
        "        return '{} {} {}'.format(self.nombre, self.genero, self.edad)\n",
        "\n",
        "\n",
        "class ListaPersonas():\n",
        "    personas = []\n",
        "\n",
        "    def __init__(self):\n",
        "        listaDePersonas = open('ficheroExterno', 'ab+')\n",
        "        listaDePersonas.seek(0)\n",
        "\n",
        "        try:\n",
        "            self.personas = pickle.load(listaDePersonas)\n",
        "            print('Se cargaron {} personas al fichero externo'.format(len(self.personas)))\n",
        "        except:\n",
        "            print('El fichero está vacío')\n",
        "        finally:\n",
        "            listaDePersonas.close()\n",
        "            del listaDePersonas\n",
        "\n",
        "    def agregarPersonas(self, p):\n",
        "        self.personas.append(p)\n",
        "        self.guardarPersonasEnFicheroExterno()\n",
        "\n",
        "    def mostrarPersonas(self):\n",
        "        for p in self.personas:\n",
        "            print(p)\n",
        "\n",
        "    def guardarPersonasEnFicheroExterno(self):\n",
        "        listaDePersonas = open('ficheroExterno', 'wb')\n",
        "        pickle.dump(self.personas, listaDePersonas)\n",
        "        listaDePersonas.close()\n",
        "        del listaDePersonas\n",
        "\n",
        "    def mostrarInfoFicheroExterno(self):\n",
        "        print('La información del fichero externo es la siguiente')\n",
        "        for p in self.personas:\n",
        "            print(p)\n",
        "\n",
        "\n",
        "miLista = ListaPersonas()\n",
        "persona = Persona('Sofía', 'Femenino', 19)\n",
        "miLista.agregarPersonas(persona)\n",
        "miLista.mostrarInfoFicheroExterno()\n"
      ]
    }
  ]
}