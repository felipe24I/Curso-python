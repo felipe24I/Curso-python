{
  "nbformat": 4,
  "nbformat_minor": 0,
  "metadata": {
    "colab": {
      "provenance": [],
      "authorship_tag": "ABX9TyPYIhYqV/J271YSxWChsr/+",
      "include_colab_link": true
    },
    "kernelspec": {
      "name": "python3",
      "display_name": "Python 3"
    },
    "language_info": {
      "name": "python"
    }
  },
  "cells": [
    {
      "cell_type": "markdown",
      "metadata": {
        "id": "view-in-github",
        "colab_type": "text"
      },
      "source": [
        "<a href=\"https://colab.research.google.com/github/felipe24I/Curso-python/blob/main/Serializaci%C3%B3n.ipynb\" target=\"_parent\"><img src=\"https://colab.research.google.com/assets/colab-badge.svg\" alt=\"Open In Colab\"/></a>"
      ]
    },
    {
      "cell_type": "markdown",
      "source": [
        "#**Serialización**\n",
        "Serialización consiste en guardar en un fichero externo una colección, diccionario u objeto codificado en código binario\n",
        "\n",
        "#**usos:**\n",
        "\n",
        "1.   Distribuir una colección, diccionario u objeto por internet\n",
        "2.   Guardar una colección, diccionario u objeto en un dispositivo de almacenamiento externo\n",
        "3. Guardar o almacenar una colección, diccionario u objeto en una base de datos\n",
        "\n",
        "#**Bibliotecas necesarias**\n",
        "\n",
        "#**Pickle**\n",
        "*   **Método dump():** Volcado de datos al fichero binario externo\n",
        "*   **Método load():** Carga de los datos del fichero binario externo\n",
        "\n",
        "\n",
        "\n"
      ],
      "metadata": {
        "id": "bFMC0HCr4U47"
      }
    },
    {
      "cell_type": "markdown",
      "source": [
        "#**Serialización de colecciones**\n",
        "\n",
        "En el siguiente ejemplo, se va a guardar en un fichero externo una lista de nombres y luego la rescataremos\n",
        "\n"
      ],
      "metadata": {
        "id": "eKIVvwsE6tuM"
      }
    },
    {
      "cell_type": "markdown",
      "source": [
        "#**Serialización**"
      ],
      "metadata": {
        "id": "ELrIRWLr-WFg"
      }
    },
    {
      "cell_type": "code",
      "execution_count": 1,
      "metadata": {
        "id": "mAowt0Qg4O3L"
      },
      "outputs": [],
      "source": [
        "import pickle\n",
        "\n",
        "name_list = ['Pedro','Ana','Maria','Isabel']\n",
        "\n",
        "bin_file = open('name_list','wb')\n",
        "\n",
        "pickle.dump(name_list,bin_file)\n",
        "\n",
        "bin_file.close()\n",
        "\n",
        "del(bin_file)"
      ]
    },
    {
      "cell_type": "markdown",
      "source": [
        "#**Rescate**"
      ],
      "metadata": {
        "id": "CjfQpyiV-Z0h"
      }
    },
    {
      "cell_type": "code",
      "source": [
        "import pickle\n",
        "\n",
        "text_file = open('name_list','rb')\n",
        "\n",
        "save_list = pickle.load(text_file)\n",
        "\n",
        "print(save_list)\n"
      ],
      "metadata": {
        "colab": {
          "base_uri": "https://localhost:8080/"
        },
        "id": "UWaGf-0E-c7k",
        "outputId": "16f946ad-eb96-4807-f363-5227eb82d115"
      },
      "execution_count": 2,
      "outputs": [
        {
          "output_type": "stream",
          "name": "stdout",
          "text": [
            "['Pedro', 'Ana', 'Maria', 'Isabel']\n"
          ]
        }
      ]
    },
    {
      "cell_type": "markdown",
      "source": [
        "#**Serialización de objetos**\n",
        "\n"
      ],
      "metadata": {
        "id": "nQgUbRj8-nqK"
      }
    },
    {
      "cell_type": "code",
      "source": [
        "import pickle\n",
        "\n",
        "class vehiculo():\n",
        "\n",
        "  def __init__(self, marca, modelo):\n",
        "    self.marca=marca\n",
        "    self.modelo=modelo\n",
        "    self.arranca=False\n",
        "    self.acelera=False\n",
        "    self.frena=False\n",
        "\n",
        "  def arrancar (self):\n",
        "    self.arranca=True\n",
        "\n",
        "  def acelerar (self):\n",
        "    self.acelera=True\n",
        "\n",
        "  def frena (self):\n",
        "    self.frena=True\n",
        "\n",
        "  def estado (self):\n",
        "    if self.arranca:\n",
        "      print(\"marca: \",self.marca, \"\\nmodelo: \",self.modelo, \"\\narrancando\")\n",
        "    elif self.acelera:\n",
        "      print(\"marca: \",self.marca, \"\\nmodelo: \",self.modelo, \"\\nacelerando\")\n",
        "    elif self.frena:\n",
        "      print(\"marca: \",self.marca, \"\\nmodelo: \",self.modelo, \"\\nfrenando\",)\n",
        "    else:\n",
        "      print(\"marca: \",self.marca, \"\\nmodelo: \",self.modelo, \"\\ndetenido\")\n",
        "\n",
        "carro1 = vehiculo('Renault', 'Sandero')\n",
        "carro2 = vehiculo('Ford', 'fiesta')\n",
        "carro3 = vehiculo('Susuki', 'vitara')\n",
        "\n",
        "carros = [carro1, carro2, carro3]\n",
        "cars_file = open('theCars','wb')\n",
        "pickle.dump(carros,cars_file)\n",
        "cars_file.close()\n",
        "del cars_file"
      ],
      "metadata": {
        "id": "3xBbwFCF_x5w"
      },
      "execution_count": 3,
      "outputs": []
    },
    {
      "cell_type": "markdown",
      "source": [
        "#**Lectura de objetos serializados**"
      ],
      "metadata": {
        "id": "SkxnjjsYH3A4"
      }
    },
    {
      "cell_type": "code",
      "source": [
        "import pickle\n",
        "\n",
        "class vehiculo():\n",
        "\n",
        "  def __init__(self, marca, modelo):\n",
        "    self.marca=marca\n",
        "    self.modelo=modelo\n",
        "    self.arranca=False\n",
        "    self.acelera=False\n",
        "    self.frena=False\n",
        "\n",
        "  def arrancar (self):\n",
        "    self.arranca=True\n",
        "\n",
        "  def acelerar (self):\n",
        "    self.acelera=True\n",
        "\n",
        "  def frena (self):\n",
        "    self.frena=True\n",
        "\n",
        "  def estado (self):\n",
        "    if self.arranca:\n",
        "      print(\"marca: \",self.marca, \"\\nmodelo: \",self.modelo, \"\\narrancando\")\n",
        "    elif self.acelera:\n",
        "      print(\"marca: \",self.marca, \"\\nmodelo: \",self.modelo, \"\\nacelerando\")\n",
        "    elif self.frena:\n",
        "      print(\"marca: \",self.marca, \"\\nmodelo: \",self.modelo, \"\\nfrenando\",)\n",
        "    else:\n",
        "      print(\"marca: \",self.marca, \"\\nmodelo: \",self.modelo, \"\\ndetenido\")\n",
        "\n",
        "cars_file_open = open('theCars','rb')\n",
        "theCars = pickle.load(cars_file_open)\n",
        "cars_file_open.close()\n",
        "\n",
        "for c in theCars:\n",
        "  print(c.estado())"
      ],
      "metadata": {
        "colab": {
          "base_uri": "https://localhost:8080/"
        },
        "id": "T6rH4_yQH2vx",
        "outputId": "33ca3e1f-0439-4bdc-fb3a-bf28cab13bd2"
      },
      "execution_count": 4,
      "outputs": [
        {
          "output_type": "stream",
          "name": "stdout",
          "text": [
            "marca:  Renault \n",
            "modelo:  Sandero \n",
            "detenido\n",
            "None\n",
            "marca:  Ford \n",
            "modelo:  fiesta \n",
            "detenido\n",
            "None\n",
            "marca:  Susuki \n",
            "modelo:  vitara \n",
            "detenido\n",
            "None\n"
          ]
        }
      ]
    }
  ]
}