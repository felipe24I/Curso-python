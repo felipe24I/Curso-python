{
  "nbformat": 4,
  "nbformat_minor": 0,
  "metadata": {
    "colab": {
      "provenance": [],
      "mount_file_id": "1dqNo2zbpCzpAPqdYy9ifaYme7kjbGL1l",
      "authorship_tag": "ABX9TyOFi5Egrb4pvjfNjYDiPxmt",
      "include_colab_link": true
    },
    "kernelspec": {
      "name": "python3",
      "display_name": "Python 3"
    },
    "language_info": {
      "name": "python"
    }
  },
  "cells": [
    {
      "cell_type": "markdown",
      "metadata": {
        "id": "view-in-github",
        "colab_type": "text"
      },
      "source": [
        "<a href=\"https://colab.research.google.com/github/felipe24I/Curso-python/blob/main/calculos_basicos.ipynb\" target=\"_parent\"><img src=\"https://colab.research.google.com/assets/colab-badge.svg\" alt=\"Open In Colab\"/></a>"
      ]
    },
    {
      "cell_type": "markdown",
      "source": [
        "#**Paquetes**\n",
        "\n",
        "Son directorios en donde se almacenan modulos relacionados entre sí\n",
        "\n",
        "Se crea una carpeta donde en su interior se debe guardar un archivo con el nombre \\_\\_init__.py"
      ],
      "metadata": {
        "id": "8Lh73O9w3lR-"
      }
    },
    {
      "cell_type": "markdown",
      "source": [
        "A continuación, se presenta un módulo el cual llamaremos **cálculos_básicos**"
      ],
      "metadata": {
        "id": "Of2jxHy8wnlF"
      }
    },
    {
      "cell_type": "markdown",
      "source": [
        "def sumar(op1,op2):\n",
        "\n",
        "  print(\"El resultado de la suma es: \",op1+op2)\n",
        "\n",
        "def restar(op1,op2):\n",
        "\n",
        "  print(\"El resultado de la resta es: \",op1-op2)\n",
        "\n",
        "def multiplicar(op1,op2):\n",
        "\n",
        "  print(\"El resultado de la multiplicación es: \",op1*op2)\n",
        "\n",
        "def dividir(dividendo,divisor):\n",
        "\n",
        "  print(\"El resultado de la división es: \",dividendo/divisor)\n",
        "\n",
        "\n"
      ],
      "metadata": {
        "id": "X1jYIR2hLZ8r"
      }
    },
    {
      "cell_type": "markdown",
      "source": [],
      "metadata": {
        "id": "qpoGWLwtLp7M"
      }
    },
    {
      "cell_type": "markdown",
      "source": [
        "Ahora, se presenta otro módulo el cuál llamaremos **Redondear_potencia**\n",
        "\n"
      ],
      "metadata": {
        "id": "jTwlZhIIxEK_"
      }
    },
    {
      "cell_type": "markdown",
      "source": [
        "def potencia(base,exponente):\n",
        "\n",
        "    print('El resultado de la potencia es: ',base**exponente)\n",
        "\n",
        "def redondear(numero):\n",
        "\n",
        "    print('El numero redondeado es: ',round(numero))\n"
      ],
      "metadata": {
        "id": "Q7hlq626LgLj"
      }
    },
    {
      "cell_type": "markdown",
      "source": [
        "Luego, se tendrá un paquete dentro de la raíz de un programa el cual usaremos los dos modulos de arriba llamado **Uso_módulos** y el paquete se llamará **Calculos**\n",
        "\n",
        "Luego tendremos dos subpaquetes, uno llamado **Básicos** para guardar el módulo **cálculos_básicos** y otro llamado **Redondeo_potencia** para guardar el módulo **Redondear_potencia**\n",
        "\n",
        "Para importar esos módulos que estan en los subpaquetes para usarlos en el programa **Uso_módulos** se hace de la siguiente manera\n",
        "\n",
        "#**Desde PyCharm u otro cualquier entorno de desarrollo de escritorio**\n",
        "from Calculos.Básicos.cálculos_básicos import *\n",
        "\n",
        "from Calculos.Redondeo_Potencia.Redondear_potencia import *\n",
        "\n",
        "Se ve claramente como se menciona la ruta empezando por paquete.subpaquete.modulo\n",
        "\n",
        "#**Desde google colab**\n",
        "\n",
        "A continuación se hara el ejemplo desde google colab"
      ],
      "metadata": {
        "id": "qM7H74QkxrCX"
      }
    },
    {
      "cell_type": "markdown",
      "source": [
        "#**1) Desde el escritorio**"
      ],
      "metadata": {
        "id": "mD5DZCOc1LlL"
      }
    },
    {
      "cell_type": "markdown",
      "source": [
        "#**2) Desde Google drive**"
      ],
      "metadata": {
        "id": "KxtVyUY11TJZ"
      }
    },
    {
      "cell_type": "code",
      "source": [
        "from setuptools import setup\n",
        "\n",
        "setup\n",
        "(\n",
        "    name= \"paquetecalculos\",\n",
        "    version= \"1.0\",\n",
        "    description= \"paquete de redondeo y potencia\"\n",
        "    author= \"Felipe\"\n",
        "    author_email= \"felipeiq24@gmail.com\"\n",
        "    packages=[\"calculos\", \"calculos.calculos_basicos\"]\n",
        "\n",
        ")"
      ],
      "metadata": {
        "id": "A5Ri7UjOVkX_"
      },
      "execution_count": null,
      "outputs": []
    }
  ]
}