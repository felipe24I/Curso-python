{
  "nbformat": 4,
  "nbformat_minor": 0,
  "metadata": {
    "colab": {
      "provenance": [],
      "mount_file_id": "1dqNo2zbpCzpAPqdYy9ifaYme7kjbGL1l",
      "authorship_tag": "ABX9TyM6a5IFc91xvoz3UayPrgCw",
      "include_colab_link": true
    },
    "kernelspec": {
      "name": "python3",
      "display_name": "Python 3"
    },
    "language_info": {
      "name": "python"
    }
  },
  "cells": [
    {
      "cell_type": "markdown",
      "metadata": {
        "id": "view-in-github",
        "colab_type": "text"
      },
      "source": [
        "<a href=\"https://colab.research.google.com/github/felipe24I/Curso-python/blob/main/calculos_basicos.ipynb\" target=\"_parent\"><img src=\"https://colab.research.google.com/assets/colab-badge.svg\" alt=\"Open In Colab\"/></a>"
      ]
    },
    {
      "cell_type": "markdown",
      "source": [
        "#**Paquetes**\n",
        "\n",
        "Son directorios en donde se almacenan modulos relacionados entre sí\n",
        "\n",
        "Se crea una carpeta donde en su interior se debe guardar un archivo con el nombre \\_\\_init__.py"
      ],
      "metadata": {
        "id": "8Lh73O9w3lR-"
      }
    },
    {
      "cell_type": "code",
      "execution_count": 1,
      "metadata": {
        "id": "LYzowOE23kl9"
      },
      "outputs": [],
      "source": [
        "def sumar(op1,op2):\n",
        "  print(\"El resultado de la suma es: \",op1+op2)\n",
        "\n",
        "def restar(op1,op2):\n",
        "  print(\"El resultado de la resta es: \",op1-op2)\n",
        "\n",
        "def multiplicar(op1,op2):\n",
        "  print(\"El resultado de la multiplicación es: \",op1*op2)\n",
        "\n",
        "def dividir(op1,op2):\n",
        "  print(\"El resultado de la división es: \",op1/op2)"
      ]
    }
  ]
}