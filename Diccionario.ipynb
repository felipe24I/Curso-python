{
  "nbformat": 4,
  "nbformat_minor": 0,
  "metadata": {
    "colab": {
      "provenance": [],
      "authorship_tag": "ABX9TyM++C+h4UJfpPD8W02RnIp8",
      "include_colab_link": true
    },
    "kernelspec": {
      "name": "python3",
      "display_name": "Python 3"
    },
    "language_info": {
      "name": "python"
    }
  },
  "cells": [
    {
      "cell_type": "markdown",
      "metadata": {
        "id": "view-in-github",
        "colab_type": "text"
      },
      "source": [
        "<a href=\"https://colab.research.google.com/github/felipe24I/Curso-python/blob/main/Diccionario.ipynb\" target=\"_parent\"><img src=\"https://colab.research.google.com/assets/colab-badge.svg\" alt=\"Open In Colab\"/></a>"
      ]
    },
    {
      "cell_type": "markdown",
      "source": [
        "#**Diccionario**\n",
        "\n",
        "*   Estructura de datos que nos permite almacenar cualquier tipo de valor, incluido una lista u otro diccionario\n",
        "\n",
        "*   Es de tipo Clave : Valor\n",
        "\n",
        "\n",
        "\n",
        "\n"
      ],
      "metadata": {
        "id": "HjlnBjKKd8fc"
      }
    },
    {
      "cell_type": "markdown",
      "source": [
        "#**Crear un diccionario**"
      ],
      "metadata": {
        "id": "cX3eayUpeuHK"
      }
    },
    {
      "cell_type": "code",
      "execution_count": 1,
      "metadata": {
        "colab": {
          "base_uri": "https://localhost:8080/"
        },
        "id": "NIDYPBNkddDx",
        "outputId": "1b0c16c5-15cf-476b-ed46-aa714a40539d"
      },
      "outputs": [
        {
          "output_type": "stream",
          "name": "stdout",
          "text": [
            "{'Felipe Idárraga': 3123633982, 'Álvaro Idárraga': 3218514297, 'Carolina Quintero': 3113120704}\n"
          ]
        }
      ],
      "source": [
        "numeros_telefonicos= {\"Felipe Idárraga\": 3123633982, \"Álvaro Idárraga\": 3218514297, \"Carolina Quintero\": 3113120704}\n",
        "print(numeros_telefonicos)"
      ]
    },
    {
      "cell_type": "markdown",
      "source": [
        "#**Agregar elementos a un diccionario**"
      ],
      "metadata": {
        "id": "bNH1QjCRfXJc"
      }
    },
    {
      "cell_type": "code",
      "source": [
        "numeros_telefonicos[\"Mariana García\"]=3153657423\n",
        "print(numeros_telefonicos)"
      ],
      "metadata": {
        "colab": {
          "base_uri": "https://localhost:8080/"
        },
        "id": "9xMb3jvYfhQf",
        "outputId": "34065a71-ba15-4011-fbb3-cb8e2c9262b5"
      },
      "execution_count": 3,
      "outputs": [
        {
          "output_type": "stream",
          "name": "stdout",
          "text": [
            "{'Felipe Idárraga': 3123633982, 'Álvaro Idárraga': 3218514297, 'Carolina Quintero': 3113120704, 'Mariana García': 3153657423}\n"
          ]
        }
      ]
    },
    {
      "cell_type": "markdown",
      "source": [
        "#**Modificar elementos de un diccionario**"
      ],
      "metadata": {
        "id": "oio1yT1rf_zB"
      }
    },
    {
      "cell_type": "code",
      "source": [
        "numeros_telefonicos[\"Felipe Idárraga\"]=3137552028\n",
        "print(numeros_telefonicos)"
      ],
      "metadata": {
        "colab": {
          "base_uri": "https://localhost:8080/"
        },
        "id": "OLbukH08f_AZ",
        "outputId": "3e6ca345-0536-4c9d-ffa3-313005b2a1e1"
      },
      "execution_count": 4,
      "outputs": [
        {
          "output_type": "stream",
          "name": "stdout",
          "text": [
            "{'Felipe Idárraga': 3137552028, 'Álvaro Idárraga': 3218514297, 'Carolina Quintero': 3113120704, 'Mariana García': 3153657423}\n"
          ]
        }
      ]
    },
    {
      "cell_type": "markdown",
      "source": [
        "#**Eliminar elementos de un diccionario**"
      ],
      "metadata": {
        "id": "wu_WKfqGgWWy"
      }
    },
    {
      "cell_type": "code",
      "source": [
        "del numeros_telefonicos[\"Carolina Quintero\"]\n",
        "print(numeros_telefonicos)"
      ],
      "metadata": {
        "colab": {
          "base_uri": "https://localhost:8080/"
        },
        "id": "rbmUK4XMgbAD",
        "outputId": "7866a535-c670-4084-b367-0cff65769b7a"
      },
      "execution_count": 5,
      "outputs": [
        {
          "output_type": "stream",
          "name": "stdout",
          "text": [
            "{'Felipe Idárraga': 3137552028, 'Álvaro Idárraga': 3218514297, 'Mariana García': 3153657423}\n"
          ]
        }
      ]
    },
    {
      "cell_type": "markdown",
      "source": [
        "#**Mostrar un elemento de un diccionario**"
      ],
      "metadata": {
        "id": "8w_LefFogo8U"
      }
    },
    {
      "cell_type": "code",
      "source": [
        "print(numeros_telefonicos[\"Mariana García\"])"
      ],
      "metadata": {
        "colab": {
          "base_uri": "https://localhost:8080/"
        },
        "id": "m-qfTqNPgy7s",
        "outputId": "ffd08f53-142d-4662-d7b7-f741841852c3"
      },
      "execution_count": 6,
      "outputs": [
        {
          "output_type": "stream",
          "name": "stdout",
          "text": [
            "3153657423\n"
          ]
        }
      ]
    },
    {
      "cell_type": "markdown",
      "source": [
        "#**Diccionario con diferentes valores**"
      ],
      "metadata": {
        "id": "ZvofSls0jqeA"
      }
    },
    {
      "cell_type": "code",
      "source": [
        "Datos_personales={\"Nombre\":\"Felipe\", 21: \"Edad\" , 2.5:\"nota final\", \"Hijos\":3 }\n",
        "print(Datos_personales)\n",
        "print(Datos_personales[21])"
      ],
      "metadata": {
        "colab": {
          "base_uri": "https://localhost:8080/"
        },
        "id": "Zf5PImHrjqLb",
        "outputId": "91449851-520b-447a-a6bb-542a7a38bac6"
      },
      "execution_count": 8,
      "outputs": [
        {
          "output_type": "stream",
          "name": "stdout",
          "text": [
            "{'Nombre': 'Felipe', 21: 'Edad', 2.5: 'nota final', 'Hijos': 3}\n",
            "Edad\n"
          ]
        }
      ]
    },
    {
      "cell_type": "markdown",
      "source": [
        "#**Asignar una tupla como claves en un diccionario**"
      ],
      "metadata": {
        "id": "wzVcQwHYkm_O"
      }
    },
    {
      "cell_type": "code",
      "source": [
        "tupla= (\"Cálculo\", \"Física\", \"Estadística\", \"Química\")\n",
        "materias={tupla[0]:3, tupla[1]: 4, tupla[2]: 3.8, tupla[3]: 3.3}\n",
        "print(materias)"
      ],
      "metadata": {
        "colab": {
          "base_uri": "https://localhost:8080/"
        },
        "id": "fPD5qRHxlFmk",
        "outputId": "3484f96f-bc9b-486a-e2fb-6b41eef29224"
      },
      "execution_count": 9,
      "outputs": [
        {
          "output_type": "stream",
          "name": "stdout",
          "text": [
            "{'Cálculo': 3, 'Física': 4, 'Estadística': 3.8, 'Química': 3.3}\n"
          ]
        }
      ]
    },
    {
      "cell_type": "markdown",
      "source": [
        "#**Una tupla dentro de un diccionario**"
      ],
      "metadata": {
        "id": "FubEoC0MlvSv"
      }
    },
    {
      "cell_type": "code",
      "source": [
        "jugador= {\"Nombre\": \"Novak Djokovic\", \"Edad\": 36, \"Roland Garros\": (2016, 2021, 2023)}\n",
        "print(jugador)"
      ],
      "metadata": {
        "colab": {
          "base_uri": "https://localhost:8080/"
        },
        "id": "nfCo4p-dmBZe",
        "outputId": "44a7607c-6343-48de-985c-1d2a02240a77"
      },
      "execution_count": 10,
      "outputs": [
        {
          "output_type": "stream",
          "name": "stdout",
          "text": [
            "{'Nombre': 'Novak Djokovic', 'Edad': 36, 'Roland Garros': (2016, 2021, 2023)}\n"
          ]
        }
      ]
    },
    {
      "cell_type": "markdown",
      "source": [
        "#**Un diccionario dentro de un diccionario**\n"
      ],
      "metadata": {
        "id": "QYdAaK_TmrHR"
      }
    },
    {
      "cell_type": "code",
      "source": [
        "jugador_2= {\"Nombre\": \"Rafael Nadal\", \"Edad\": 37, \"Grand slams\":{\"Australian Open\": 2, \"Roland Garros\": 14}}\n",
        "print(jugador_2)"
      ],
      "metadata": {
        "colab": {
          "base_uri": "https://localhost:8080/"
        },
        "id": "uzAfTbGpmxKE",
        "outputId": "1f4e50ca-c851-4b8d-dd8a-c2dd963dc05b"
      },
      "execution_count": 11,
      "outputs": [
        {
          "output_type": "stream",
          "name": "stdout",
          "text": [
            "{'Nombre': 'Rafael Nadal', 'Edad': 37, 'Grand slams': {'Australian Open': 2, 'Roland Garros': 14}}\n"
          ]
        }
      ]
    }
  ]
}