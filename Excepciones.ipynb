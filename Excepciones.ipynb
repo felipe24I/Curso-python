{
  "nbformat": 4,
  "nbformat_minor": 0,
  "metadata": {
    "colab": {
      "provenance": [],
      "authorship_tag": "ABX9TyPnaC+9/9c+oKpK7Z1v6TU6",
      "include_colab_link": true
    },
    "kernelspec": {
      "name": "python3",
      "display_name": "Python 3"
    },
    "language_info": {
      "name": "python"
    }
  },
  "cells": [
    {
      "cell_type": "markdown",
      "metadata": {
        "id": "view-in-github",
        "colab_type": "text"
      },
      "source": [
        "<a href=\"https://colab.research.google.com/github/felipe24I/Curso-python/blob/main/Excepciones.ipynb\" target=\"_parent\"><img src=\"https://colab.research.google.com/assets/colab-badge.svg\" alt=\"Open In Colab\"/></a>"
      ]
    },
    {
      "cell_type": "markdown",
      "source": [
        "#**Excepciones**\n",
        "\n",
        "Son errores que suceden durante la ejecución del programa debido a un suceso inesperado"
      ],
      "metadata": {
        "id": "G3OsHqw_-pSb"
      }
    },
    {
      "cell_type": "code",
      "source": [
        "def suma(num1,num2):\n",
        "  return num1+num2\n",
        "\n",
        "def resta(num1,num2):\n",
        "  return num1-num2\n",
        "\n",
        "def multiplica(num1,num2):\n",
        "  return num1*num2\n",
        "\n",
        "def divide(num1,num2):\n",
        "  return num1/num2\n",
        "\n",
        "op1=int(input(\"Ingrese el primer número: \"))\n",
        "op2=int(input(\"Ingrese el segundo número: \"))\n",
        "operacion=input(\"Ingrese la operacion a realizar: suma - resta - multiplica - divide :\")\n",
        "ope=operacion.lower()\n",
        "\n",
        "if ope == \"suma\":\n",
        "  print(suma(op1,op2))\n",
        "elif ope == \"resta\":\n",
        "  print(resta(op1,op2))\n",
        "elif ope == \"multiplica\":\n",
        "  print(multiplica(op1,op2))\n",
        "elif ope == \"divide\":\n",
        "  print(divide(op1,op2))\n",
        "else:\n",
        "  print(\"Operación no contemplada\")\n",
        "print(\"Fin de ejecucion del programa\")"
      ],
      "metadata": {
        "colab": {
          "base_uri": "https://localhost:8080/"
        },
        "id": "CDdcTqL1-3Oy",
        "outputId": "9d9a17dd-e258-44ae-e475-0f21179af89b"
      },
      "execution_count": 5,
      "outputs": [
        {
          "output_type": "stream",
          "name": "stdout",
          "text": [
            "Ingrese el primer número: 2\n",
            "Ingrese el segundo número: 2\n",
            "Ingrese la operacion a realizar: suma - resta - multiplica - divide :SUma\n",
            "4\n",
            "Fin de ejecucion del programa\n"
          ]
        }
      ]
    }
  ]
}