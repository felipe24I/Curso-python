{
  "nbformat": 4,
  "nbformat_minor": 0,
  "metadata": {
    "colab": {
      "provenance": [],
      "authorship_tag": "ABX9TyM5icM4fB2OJ1EkmoGRsVeO",
      "include_colab_link": true
    },
    "kernelspec": {
      "name": "python3",
      "display_name": "Python 3"
    },
    "language_info": {
      "name": "python"
    }
  },
  "cells": [
    {
      "cell_type": "markdown",
      "metadata": {
        "id": "view-in-github",
        "colab_type": "text"
      },
      "source": [
        "<a href=\"https://colab.research.google.com/github/felipe24I/Curso-python/blob/main/Excepciones.ipynb\" target=\"_parent\"><img src=\"https://colab.research.google.com/assets/colab-badge.svg\" alt=\"Open In Colab\"/></a>"
      ]
    },
    {
      "cell_type": "markdown",
      "source": [
        "#**Excepciones**\n",
        "\n",
        "Son errores que suceden durante la ejecución del programa debido a un suceso inesperado"
      ],
      "metadata": {
        "id": "G3OsHqw_-pSb"
      }
    },
    {
      "cell_type": "code",
      "source": [
        "def suma(num1,num2):\n",
        "  return num1+num2\n",
        "\n",
        "def resta(num1,num2):\n",
        "  return num1-num2\n",
        "\n",
        "def multiplica(num1,num2):\n",
        "  return num1*num2\n",
        "\n",
        "def divide(num1,num2):\n",
        "  try:\n",
        "   return num1/num2\n",
        "  except:\n",
        "    ZeroDivisionError\n",
        "    print(\"No se puede dividir un número entre cero\")\n",
        "    return (\"Operación inválida\")\n",
        "while True:\n",
        "  try:\n",
        "    op1=int(input(\"Ingrese el primer número: \"))\n",
        "    op2=int(input(\"Ingrese el segundo número: \"))\n",
        "    break\n",
        "  except ValueError:\n",
        "    print(\"Valores erroneos, inténtalo de nuevo\")\n",
        "\n",
        "operacion=input(\"Ingrese la operacion a realizar: suma - resta - multiplica - divide :\")\n",
        "ope=operacion.lower()\n",
        "\n",
        "if ope == \"suma\":\n",
        "  print(suma(op1,op2))\n",
        "elif ope == \"resta\":\n",
        "  print(resta(op1,op2))\n",
        "elif ope == \"multiplica\":\n",
        "  print(multiplica(op1,op2))\n",
        "elif ope == \"divide\":\n",
        "  print(divide(op1,op2))\n",
        "else:\n",
        "  print(\"Operación no contemplada\")\n",
        "print(\"Fin de ejecucion del programa\")"
      ],
      "metadata": {
        "colab": {
          "base_uri": "https://localhost:8080/"
        },
        "id": "CDdcTqL1-3Oy",
        "outputId": "3459e024-d751-46c2-fe8f-4fce1cbf7767"
      },
      "execution_count": null,
      "outputs": [
        {
          "output_type": "stream",
          "name": "stdout",
          "text": [
            "Ingrese el primer número: rrt\n",
            "Valores erroneos, inténtalo de nuevo\n",
            "Ingrese el primer número: 4\n",
            "Ingrese el segundo número: y\n",
            "Valores erroneos, inténtalo de nuevo\n",
            "Ingrese el primer número: 4\n",
            "Ingrese el segundo número: 5\n",
            "Ingrese la operacion a realizar: suma - resta - multiplica - divide :multiplica\n",
            "20\n",
            "Fin de ejecucion del programa\n"
          ]
        }
      ]
    },
    {
      "cell_type": "markdown",
      "source": [
        "#**Excepciones anidadas**\n",
        "\n",
        "Lo que se introduzca dentro del finally siempre se va a ejecutar\n",
        "\n",
        "\n",
        "\n"
      ],
      "metadata": {
        "id": "bPXK7avbMlDM"
      }
    },
    {
      "cell_type": "code",
      "source": [
        "def divide():\n",
        "    try:\n",
        "      op1=(int(input(\"Ingrese el primer número: \")))\n",
        "      op2=(int(input(\"Ingrese el segundo número: \")))\n",
        "      print(\"La division es: \",op1/op2)\n",
        "    except ValueError:\n",
        "      print(\"Valores no válidos\")\n",
        "    except ZeroDivisionError:\n",
        "      print(\"No se puede dividir un numero entre cero\")\n",
        "    finally:\n",
        "      print(\"Operación finalizada\")\n",
        "\n",
        "divide()\n",
        "\n"
      ],
      "metadata": {
        "id": "svNv-vsRMvMs",
        "outputId": "e574cc5c-9f50-4abf-a163-ff967630a599",
        "colab": {
          "base_uri": "https://localhost:8080/"
        }
      },
      "execution_count": null,
      "outputs": [
        {
          "output_type": "stream",
          "name": "stdout",
          "text": [
            "Ingrese el primer número: 4\n",
            "Ingrese el segundo número: rty\n",
            "Valores no válidos\n",
            "Operación finalizada\n"
          ]
        }
      ]
    },
    {
      "cell_type": "markdown",
      "source": [
        "Mismo ejemplo pero poner un except en general"
      ],
      "metadata": {
        "id": "RzhYsw2aPkWY"
      }
    },
    {
      "cell_type": "code",
      "source": [
        "def divide():\n",
        "    try:\n",
        "      op1=(int(input(\"Ingrese el primer número: \")))\n",
        "      op2=(int(input(\"Ingrese el segundo número: \")))\n",
        "      print(\"La division es: \",op1/op2)\n",
        "    except:\n",
        "      print(\"Ha ocurrido un error\")\n",
        "    finally:\n",
        "      print(\"Cálculo finalizado\")\n",
        "\n",
        "divide()"
      ],
      "metadata": {
        "id": "nPEnK0OgPyZt",
        "outputId": "b8481ff2-6c5c-4b2d-f5b8-6276cdd447d4",
        "colab": {
          "base_uri": "https://localhost:8080/"
        }
      },
      "execution_count": null,
      "outputs": [
        {
          "output_type": "stream",
          "name": "stdout",
          "text": [
            "Ingrese el primer número: 4\n",
            "Ingrese el segundo número: 5\n",
            "La division es:  0.8\n",
            "Cálculo finalizado\n"
          ]
        }
      ]
    },
    {
      "cell_type": "markdown",
      "source": [
        "Usando solo try y finally"
      ],
      "metadata": {
        "id": "1F_muksDRBgm"
      }
    },
    {
      "cell_type": "code",
      "source": [
        "def divide():\n",
        "    try:\n",
        "      op1=(int(input(\"Ingrese el primer número: \")))\n",
        "      op2=(int(input(\"Ingrese el segundo número: \")))\n",
        "      print(\"La division es: \",op1/op2)\n",
        "    finally:\n",
        "      print(\"Cálculo finalizado\")\n",
        "\n",
        "divide()"
      ],
      "metadata": {
        "id": "9lN2wLUlRE5R",
        "outputId": "905fd6a0-2963-4cba-8e51-fe2873c436fb",
        "colab": {
          "base_uri": "https://localhost:8080/",
          "height": 383
        }
      },
      "execution_count": null,
      "outputs": [
        {
          "output_type": "stream",
          "name": "stdout",
          "text": [
            "Ingrese el primer número: 4\n",
            "Ingrese el segundo número: yhg\n",
            "Cálculo finalizado\n"
          ]
        },
        {
          "output_type": "error",
          "ename": "ValueError",
          "evalue": "invalid literal for int() with base 10: 'yhg'",
          "traceback": [
            "\u001b[0;31m---------------------------------------------------------------------------\u001b[0m",
            "\u001b[0;31mValueError\u001b[0m                                Traceback (most recent call last)",
            "\u001b[0;32m<ipython-input-21-b0e9be0638ff>\u001b[0m in \u001b[0;36m<cell line: 9>\u001b[0;34m()\u001b[0m\n\u001b[1;32m      7\u001b[0m       \u001b[0mprint\u001b[0m\u001b[0;34m(\u001b[0m\u001b[0;34m\"Cálculo finalizado\"\u001b[0m\u001b[0;34m)\u001b[0m\u001b[0;34m\u001b[0m\u001b[0;34m\u001b[0m\u001b[0m\n\u001b[1;32m      8\u001b[0m \u001b[0;34m\u001b[0m\u001b[0m\n\u001b[0;32m----> 9\u001b[0;31m \u001b[0mdivide\u001b[0m\u001b[0;34m(\u001b[0m\u001b[0;34m)\u001b[0m\u001b[0;34m\u001b[0m\u001b[0;34m\u001b[0m\u001b[0m\n\u001b[0m",
            "\u001b[0;32m<ipython-input-21-b0e9be0638ff>\u001b[0m in \u001b[0;36mdivide\u001b[0;34m()\u001b[0m\n\u001b[1;32m      2\u001b[0m     \u001b[0;32mtry\u001b[0m\u001b[0;34m:\u001b[0m\u001b[0;34m\u001b[0m\u001b[0;34m\u001b[0m\u001b[0m\n\u001b[1;32m      3\u001b[0m       \u001b[0mop1\u001b[0m\u001b[0;34m=\u001b[0m\u001b[0;34m(\u001b[0m\u001b[0mint\u001b[0m\u001b[0;34m(\u001b[0m\u001b[0minput\u001b[0m\u001b[0;34m(\u001b[0m\u001b[0;34m\"Ingrese el primer número: \"\u001b[0m\u001b[0;34m)\u001b[0m\u001b[0;34m)\u001b[0m\u001b[0;34m)\u001b[0m\u001b[0;34m\u001b[0m\u001b[0;34m\u001b[0m\u001b[0m\n\u001b[0;32m----> 4\u001b[0;31m       \u001b[0mop2\u001b[0m\u001b[0;34m=\u001b[0m\u001b[0;34m(\u001b[0m\u001b[0mint\u001b[0m\u001b[0;34m(\u001b[0m\u001b[0minput\u001b[0m\u001b[0;34m(\u001b[0m\u001b[0;34m\"Ingrese el segundo número: \"\u001b[0m\u001b[0;34m)\u001b[0m\u001b[0;34m)\u001b[0m\u001b[0;34m)\u001b[0m\u001b[0;34m\u001b[0m\u001b[0;34m\u001b[0m\u001b[0m\n\u001b[0m\u001b[1;32m      5\u001b[0m       \u001b[0mprint\u001b[0m\u001b[0;34m(\u001b[0m\u001b[0;34m\"La division es: \"\u001b[0m\u001b[0;34m,\u001b[0m\u001b[0mop1\u001b[0m\u001b[0;34m/\u001b[0m\u001b[0mop2\u001b[0m\u001b[0;34m)\u001b[0m\u001b[0;34m\u001b[0m\u001b[0;34m\u001b[0m\u001b[0m\n\u001b[1;32m      6\u001b[0m     \u001b[0;32mfinally\u001b[0m\u001b[0;34m:\u001b[0m\u001b[0;34m\u001b[0m\u001b[0;34m\u001b[0m\u001b[0m\n",
            "\u001b[0;31mValueError\u001b[0m: invalid literal for int() with base 10: 'yhg'"
          ]
        }
      ]
    },
    {
      "cell_type": "markdown",
      "source": [
        "#**Excepciones provocadas por el programador**"
      ],
      "metadata": {
        "id": "4r0Onmn_ZtLg"
      }
    },
    {
      "cell_type": "code",
      "source": [
        "def EvaluaEdad(edad):\n",
        "  if edad < 0:\n",
        "    raise ValueError (\"La edad no puede ser negativa\")\n",
        "  elif edad <20:\n",
        "    print(\"Eres muy joven\")\n",
        "  elif edad <40:\n",
        "    print(\"Eres joven\")\n",
        "  elif edad <65:\n",
        "    print(\"Eres maduro\")\n",
        "  elif edad <100:\n",
        "    print(\"Cuidate\")\n",
        "\n",
        "edad=int(input(\"Ingrese su edad: \"))\n",
        "EvaluaEdad(edad)"
      ],
      "metadata": {
        "id": "9ZwfTyH-Z0w3",
        "outputId": "9a628f79-94ee-49a1-d092-0bef2e9f7196",
        "colab": {
          "base_uri": "https://localhost:8080/",
          "height": 349
        }
      },
      "execution_count": 22,
      "outputs": [
        {
          "name": "stdout",
          "output_type": "stream",
          "text": [
            "Ingrese su edad: -34\n"
          ]
        },
        {
          "output_type": "error",
          "ename": "ValueError",
          "evalue": "La edad no puede ser negativa",
          "traceback": [
            "\u001b[0;31m---------------------------------------------------------------------------\u001b[0m",
            "\u001b[0;31mValueError\u001b[0m                                Traceback (most recent call last)",
            "\u001b[0;32m<ipython-input-22-6fb943f9ed27>\u001b[0m in \u001b[0;36m<cell line: 14>\u001b[0;34m()\u001b[0m\n\u001b[1;32m     12\u001b[0m \u001b[0;34m\u001b[0m\u001b[0m\n\u001b[1;32m     13\u001b[0m \u001b[0medad\u001b[0m\u001b[0;34m=\u001b[0m\u001b[0mint\u001b[0m\u001b[0;34m(\u001b[0m\u001b[0minput\u001b[0m\u001b[0;34m(\u001b[0m\u001b[0;34m\"Ingrese su edad: \"\u001b[0m\u001b[0;34m)\u001b[0m\u001b[0;34m)\u001b[0m\u001b[0;34m\u001b[0m\u001b[0;34m\u001b[0m\u001b[0m\n\u001b[0;32m---> 14\u001b[0;31m \u001b[0mEvaluaEdad\u001b[0m\u001b[0;34m(\u001b[0m\u001b[0medad\u001b[0m\u001b[0;34m)\u001b[0m\u001b[0;34m\u001b[0m\u001b[0;34m\u001b[0m\u001b[0m\n\u001b[0m",
            "\u001b[0;32m<ipython-input-22-6fb943f9ed27>\u001b[0m in \u001b[0;36mEvaluaEdad\u001b[0;34m(edad)\u001b[0m\n\u001b[1;32m      1\u001b[0m \u001b[0;32mdef\u001b[0m \u001b[0mEvaluaEdad\u001b[0m\u001b[0;34m(\u001b[0m\u001b[0medad\u001b[0m\u001b[0;34m)\u001b[0m\u001b[0;34m:\u001b[0m\u001b[0;34m\u001b[0m\u001b[0;34m\u001b[0m\u001b[0m\n\u001b[1;32m      2\u001b[0m   \u001b[0;32mif\u001b[0m \u001b[0medad\u001b[0m \u001b[0;34m<\u001b[0m \u001b[0;36m0\u001b[0m\u001b[0;34m:\u001b[0m\u001b[0;34m\u001b[0m\u001b[0;34m\u001b[0m\u001b[0m\n\u001b[0;32m----> 3\u001b[0;31m     \u001b[0;32mraise\u001b[0m \u001b[0mValueError\u001b[0m \u001b[0;34m(\u001b[0m\u001b[0;34m\"La edad no puede ser negativa\"\u001b[0m\u001b[0;34m)\u001b[0m\u001b[0;34m\u001b[0m\u001b[0;34m\u001b[0m\u001b[0m\n\u001b[0m\u001b[1;32m      4\u001b[0m   \u001b[0;32melif\u001b[0m \u001b[0medad\u001b[0m \u001b[0;34m<\u001b[0m\u001b[0;36m20\u001b[0m\u001b[0;34m:\u001b[0m\u001b[0;34m\u001b[0m\u001b[0;34m\u001b[0m\u001b[0m\n\u001b[1;32m      5\u001b[0m     \u001b[0mprint\u001b[0m\u001b[0;34m(\u001b[0m\u001b[0;34m\"Eres muy joven\"\u001b[0m\u001b[0;34m)\u001b[0m\u001b[0;34m\u001b[0m\u001b[0;34m\u001b[0m\u001b[0m\n",
            "\u001b[0;31mValueError\u001b[0m: La edad no puede ser negativa"
          ]
        }
      ]
    },
    {
      "cell_type": "markdown",
      "source": [
        "Capturar nuestras propias excepciones"
      ],
      "metadata": {
        "id": "OOSw0GDzazz2"
      }
    },
    {
      "cell_type": "code",
      "source": [
        "import math\n",
        "def raizCuadrada(num):\n",
        "  if num < 0:\n",
        "    raise ValueError (\"El número no puede ser negativo\")\n",
        "  else:\n",
        "      raiz=math.sqrt(num)\n",
        "      print(\"La raiz cuadrada de \",num,\" es: \",raiz)\n",
        "\n",
        "\n",
        "try:\n",
        "  num=int(input(\"Ingrese un número: \"))\n",
        "  raizCuadrada(num)\n",
        "except ValueError as NumeroNegativo:\n",
        "  print(NumeroNegativo)\n",
        "finally:\n",
        "  print(\"Fin del programa\")"
      ],
      "metadata": {
        "id": "6Wb3SXfYa3TW",
        "outputId": "ac05a70e-a7f8-4f94-da89-15867456a1af",
        "colab": {
          "base_uri": "https://localhost:8080/"
        }
      },
      "execution_count": 26,
      "outputs": [
        {
          "output_type": "stream",
          "name": "stdout",
          "text": [
            "Ingrese un número: -144\n",
            "El número no puede ser negativo\n",
            "Fin del programa\n"
          ]
        }
      ]
    }
  ]
}