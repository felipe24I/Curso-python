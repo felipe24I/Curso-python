{
  "nbformat": 4,
  "nbformat_minor": 0,
  "metadata": {
    "colab": {
      "provenance": [],
      "authorship_tag": "ABX9TyMFiYbabQ5fuE5LSfYfSmhC",
      "include_colab_link": true
    },
    "kernelspec": {
      "name": "python3",
      "display_name": "Python 3"
    },
    "language_info": {
      "name": "python"
    }
  },
  "cells": [
    {
      "cell_type": "markdown",
      "metadata": {
        "id": "view-in-github",
        "colab_type": "text"
      },
      "source": [
        "<a href=\"https://colab.research.google.com/github/felipe24I/Curso-python/blob/main/Bucle_While.ipynb\" target=\"_parent\"><img src=\"https://colab.research.google.com/assets/colab-badge.svg\" alt=\"Open In Colab\"/></a>"
      ]
    },
    {
      "cell_type": "markdown",
      "source": [
        "#**Bucle while**\n"
      ],
      "metadata": {
        "id": "F7HqXPvMJVic"
      }
    },
    {
      "cell_type": "code",
      "source": [
        "i=1\n",
        "while i <=10:\n",
        "  print(f\"ejecucion {i}\")\n",
        "  i += 1"
      ],
      "metadata": {
        "colab": {
          "base_uri": "https://localhost:8080/"
        },
        "id": "k6p2vK59JeVQ",
        "outputId": "a1d2695e-60d3-4716-d3cf-120ff0a232d0"
      },
      "execution_count": 2,
      "outputs": [
        {
          "output_type": "stream",
          "name": "stdout",
          "text": [
            "ejecucion 1\n",
            "ejecucion 2\n",
            "ejecucion 3\n",
            "ejecucion 4\n",
            "ejecucion 5\n",
            "ejecucion 6\n",
            "ejecucion 7\n",
            "ejecucion 8\n",
            "ejecucion 9\n",
            "ejecucion 10\n"
          ]
        }
      ]
    },
    {
      "cell_type": "code",
      "source": [
        "edad=int(input(\"Ingrese su edad: \"))\n",
        "while  edad < 0 or edad>100:\n",
        "  print(\"Edad incorrecta\")\n",
        "  edad=int(input(\"Ingrese nuevamente su edad: \"))\n",
        "print(f\"su edad es {edad} años\")"
      ],
      "metadata": {
        "colab": {
          "base_uri": "https://localhost:8080/"
        },
        "id": "9SuMe3hIJ25g",
        "outputId": "da4f3383-3b03-4849-bff7-a28911d8cfd2"
      },
      "execution_count": 11,
      "outputs": [
        {
          "output_type": "stream",
          "name": "stdout",
          "text": [
            "Ingrese su edad: -2\n",
            "Edad incorrecta\n",
            "Ingrese nuevamente su edad: 112\n",
            "Edad incorrecta\n",
            "Ingrese nuevamente su edad: 25\n",
            "su edad es 25 años\n"
          ]
        }
      ]
    },
    {
      "cell_type": "code",
      "source": [
        "import math\n",
        "intentos=0\n",
        "numero=int(input(\"Ingrese un numero: \"))\n",
        "while numero < 0 :\n",
        "  intentos +=1\n",
        "  if intentos == 2:\n",
        "    print(\"Has consumido muchos intentos, el programa ha finalizado\")\n",
        "    break;\n",
        "  print(\"Numero negativo\")\n",
        "  numero=int(input(\"Ingrese de nuevo un numero: \"))\n",
        "if intentos != 2:\n",
        "  solucion=math.sqrt(numero)\n",
        "  print(\"La raíz cuadrada de \",numero, \" es \",solucion)"
      ],
      "metadata": {
        "colab": {
          "base_uri": "https://localhost:8080/"
        },
        "id": "Gy3xMffBLXeL",
        "outputId": "9b7e231f-a300-4cd0-e28b-25b694bc1736"
      },
      "execution_count": 22,
      "outputs": [
        {
          "output_type": "stream",
          "name": "stdout",
          "text": [
            "Ingrese un numero: -45\n",
            "Numero negativo\n",
            "Ingrese de nuevo un numero: -67\n",
            "Has consumido muchos intentos, el programa ha finalizado\n"
          ]
        }
      ]
    },
    {
      "cell_type": "markdown",
      "source": [
        "#**Ejercicios de práctica**\n"
      ],
      "metadata": {
        "id": "mjeE_uxZNrlC"
      }
    },
    {
      "cell_type": "markdown",
      "source": [
        "#**Ejercicio 1**\n",
        "\n",
        "Crea un programa que pida números infinitamente. Los números introducidos deben ser cada vez mayores El programa finalizará cuando se introduce un número menor que el anterior."
      ],
      "metadata": {
        "id": "QXggUHM2Nz-7"
      }
    },
    {
      "cell_type": "code",
      "source": [
        "numero_mayor= float(\"-inf\")\n",
        "numero= int(input(\"Ingresa un numero: \"))\n",
        "while numero>numero_mayor:\n",
        "  numero_mayor=numero\n",
        "  numero= int(input(\"Ingrese un numero: \"))\n"
      ],
      "metadata": {
        "colab": {
          "base_uri": "https://localhost:8080/"
        },
        "id": "MkLX87efN8wB",
        "outputId": "65104d2b-2284-442a-c440-6da5308b8e9b"
      },
      "execution_count": 27,
      "outputs": [
        {
          "name": "stdout",
          "output_type": "stream",
          "text": [
            "Ingresa un numero: 2\n",
            "Ingrese un numero: 4\n",
            "Ingrese un numero: 6\n",
            "Ingrese un numero: 28\n",
            "Ingrese un numero: 26\n"
          ]
        }
      ]
    },
    {
      "cell_type": "markdown",
      "source": [
        "#**Ejercicio 2**\n",
        "\n",
        "Crea un programa que pida números positivos indefinidamente. El programa termina cuando se introduce un número negativo. Finalmente el programa muestras la suma de todos los números introducidos"
      ],
      "metadata": {
        "id": "5DyOx8HHWkn9"
      }
    },
    {
      "cell_type": "code",
      "source": [
        "numero=int(input(\"Ingrese un numero positivo: \"))\n",
        "suma=0\n",
        "while numero>0:\n",
        "  suma = suma+numero\n",
        "  numero=int(input(\"Ingrese un numero positivo: \"))\n",
        "print(\"La suma de los numeros introducidos es: \",suma)"
      ],
      "metadata": {
        "colab": {
          "base_uri": "https://localhost:8080/"
        },
        "id": "OoQ6YI9yWxBq",
        "outputId": "04c392c5-38cb-444d-b394-4b97a1e48022"
      },
      "execution_count": 28,
      "outputs": [
        {
          "output_type": "stream",
          "name": "stdout",
          "text": [
            "Ingrese un numero positivo: 3\n",
            "Ingrese un numero positivo: 5\n",
            "Ingrese un numero positivo: 9\n",
            "Ingrese un numero positivo: -3\n",
            "La suma de los numeros introducidos es:  17\n"
          ]
        }
      ]
    }
  ]
}