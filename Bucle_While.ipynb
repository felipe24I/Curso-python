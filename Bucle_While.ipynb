{
  "nbformat": 4,
  "nbformat_minor": 0,
  "metadata": {
    "colab": {
      "provenance": [],
      "authorship_tag": "ABX9TyOc+jw0Z4eNMHZENbLR5UUo",
      "include_colab_link": true
    },
    "kernelspec": {
      "name": "python3",
      "display_name": "Python 3"
    },
    "language_info": {
      "name": "python"
    }
  },
  "cells": [
    {
      "cell_type": "markdown",
      "metadata": {
        "id": "view-in-github",
        "colab_type": "text"
      },
      "source": [
        "<a href=\"https://colab.research.google.com/github/felipe24I/Curso-python/blob/main/Bucle_While.ipynb\" target=\"_parent\"><img src=\"https://colab.research.google.com/assets/colab-badge.svg\" alt=\"Open In Colab\"/></a>"
      ]
    },
    {
      "cell_type": "markdown",
      "source": [
        "#**Bucle while**\n"
      ],
      "metadata": {
        "id": "F7HqXPvMJVic"
      }
    },
    {
      "cell_type": "code",
      "source": [
        "i=1\n",
        "while i <=10:\n",
        "  print(f\"ejecucion {i}\")\n",
        "  i += 1"
      ],
      "metadata": {
        "colab": {
          "base_uri": "https://localhost:8080/"
        },
        "id": "k6p2vK59JeVQ",
        "outputId": "a1d2695e-60d3-4716-d3cf-120ff0a232d0"
      },
      "execution_count": 2,
      "outputs": [
        {
          "output_type": "stream",
          "name": "stdout",
          "text": [
            "ejecucion 1\n",
            "ejecucion 2\n",
            "ejecucion 3\n",
            "ejecucion 4\n",
            "ejecucion 5\n",
            "ejecucion 6\n",
            "ejecucion 7\n",
            "ejecucion 8\n",
            "ejecucion 9\n",
            "ejecucion 10\n"
          ]
        }
      ]
    },
    {
      "cell_type": "code",
      "source": [
        "edad=int(input(\"Ingrese su edad: \"))\n",
        "while  edad < 0 or edad>100:\n",
        "  print(\"Edad incorrecta\")\n",
        "  edad=int(input(\"Ingrese nuevamente su edad: \"))\n",
        "print(f\"su edad es {edad} años\")"
      ],
      "metadata": {
        "colab": {
          "base_uri": "https://localhost:8080/"
        },
        "id": "9SuMe3hIJ25g",
        "outputId": "da4f3383-3b03-4849-bff7-a28911d8cfd2"
      },
      "execution_count": 11,
      "outputs": [
        {
          "output_type": "stream",
          "name": "stdout",
          "text": [
            "Ingrese su edad: -2\n",
            "Edad incorrecta\n",
            "Ingrese nuevamente su edad: 112\n",
            "Edad incorrecta\n",
            "Ingrese nuevamente su edad: 25\n",
            "su edad es 25 años\n"
          ]
        }
      ]
    },
    {
      "cell_type": "code",
      "source": [
        "import math\n",
        "intentos=0\n",
        "numero=int(input(\"Ingrese un numero: \"))\n",
        "while numero < 0 :\n",
        "  intentos +=1\n",
        "  if intentos == 2:\n",
        "    print(\"Has consumido muchos intentos, el programa ha finalizado\")\n",
        "    break;\n",
        "  print(\"Numero negativo\")\n",
        "  numero=int(input(\"Ingrese de nuevo un numero: \"))\n",
        "if intentos != 2:\n",
        "  solucion=math.sqrt(numero)\n",
        "  print(\"La raíz cuadrada de \",numero, \" es \",solucion)"
      ],
      "metadata": {
        "colab": {
          "base_uri": "https://localhost:8080/"
        },
        "id": "Gy3xMffBLXeL",
        "outputId": "9b7e231f-a300-4cd0-e28b-25b694bc1736"
      },
      "execution_count": 22,
      "outputs": [
        {
          "output_type": "stream",
          "name": "stdout",
          "text": [
            "Ingrese un numero: -45\n",
            "Numero negativo\n",
            "Ingrese de nuevo un numero: -67\n",
            "Has consumido muchos intentos, el programa ha finalizado\n"
          ]
        }
      ]
    }
  ]
}