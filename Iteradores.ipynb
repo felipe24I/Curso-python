{
  "nbformat": 4,
  "nbformat_minor": 0,
  "metadata": {
    "colab": {
      "provenance": [],
      "authorship_tag": "ABX9TyOWFS+909S6PYC9BquabfoV",
      "include_colab_link": true
    },
    "kernelspec": {
      "name": "python3",
      "display_name": "Python 3"
    },
    "language_info": {
      "name": "python"
    }
  },
  "cells": [
    {
      "cell_type": "markdown",
      "metadata": {
        "id": "view-in-github",
        "colab_type": "text"
      },
      "source": [
        "<a href=\"https://colab.research.google.com/github/felipe24I/Curso-python/blob/main/Iteradores.ipynb\" target=\"_parent\"><img src=\"https://colab.research.google.com/assets/colab-badge.svg\" alt=\"Open In Colab\"/></a>"
      ]
    },
    {
      "cell_type": "markdown",
      "source": [
        "#**Iteradores**\n",
        "\n",
        "Tiene un protocolo el cual contiene dos métodos\n",
        "\n",
        "__iter__() : este método retorna el mismo objeto iterador, es requerido implementar una interfaz iterable\n",
        "\n",
        "__next__() : esta método retorna el siguiente elemento del contenedor\n",
        "\n",
        "**objeto iterable:** Un objeto es llamado iterable si nosotros podemos obtener un iterador de él, ejemplos son listas, tuplas, diccionarios.\n",
        "\n"
      ],
      "metadata": {
        "id": "R3Cw6D7sldGu"
      }
    },
    {
      "cell_type": "code",
      "source": [
        "#objeto iterable\n",
        "lista: list = [1,2,3,4,5]\n",
        "\n",
        "#objeto iterador\n",
        "iterador= iter(lista)\n",
        "\n",
        "#uso del método next\n",
        "print(next(iterador))\n",
        "print(next(iterador))\n",
        "print(next(iterador))\n",
        "print(next(iterador))\n",
        "print(next(iterador))"
      ],
      "metadata": {
        "colab": {
          "base_uri": "https://localhost:8080/"
        },
        "id": "7t6SALBrZISE",
        "outputId": "dcea01d5-0589-46bd-c043-a72c86f4a5ff"
      },
      "execution_count": null,
      "outputs": [
        {
          "output_type": "stream",
          "name": "stdout",
          "text": [
            "1\n",
            "2\n",
            "3\n",
            "4\n",
            "5\n"
          ]
        }
      ]
    },
    {
      "cell_type": "markdown",
      "source": [
        "#**Iterador personalizado**\n",
        "Se puede crear un iterador personalizado haciendo uso de una clase y los métodos __iter__() y __next__()"
      ],
      "metadata": {
        "id": "kXp16wMZaYHf"
      }
    },
    {
      "cell_type": "code",
      "source": [
        "class Numeros:\n",
        "\n",
        "  def __init__(self, start, end):\n",
        "    self.current = start\n",
        "    self.end = end\n",
        "\n",
        "  def __iter__(self):\n",
        "    return self\n",
        "\n",
        "  def __next__(self):\n",
        "    if self.current <= self.end:\n",
        "      num = self.current\n",
        "      self.current +=1\n",
        "      return num\n",
        "    else:\n",
        "      raise StopIteration\n",
        "\n",
        "numbers = Numeros(1,5)\n",
        "for num in numbers:\n",
        "  print(num)\n",
        "\n"
      ],
      "metadata": {
        "id": "YXeXvZona7pi",
        "colab": {
          "base_uri": "https://localhost:8080/"
        },
        "outputId": "b5c306d1-6101-4550-a261-f868001cf2d6"
      },
      "execution_count": 9,
      "outputs": [
        {
          "output_type": "stream",
          "name": "stdout",
          "text": [
            "1\n",
            "2\n",
            "3\n",
            "4\n",
            "5\n"
          ]
        }
      ]
    },
    {
      "cell_type": "markdown",
      "source": [
        "#**Las funciones iter() y next()**\n",
        "**iter():**Esta función es usada para obtener un iterador a partir de un objeto iterable\n",
        "\n",
        "**next():**Esta función es usada para manualmente obtener el siguiente elemento del iterador"
      ],
      "metadata": {
        "id": "IqzideikDwt8"
      }
    },
    {
      "cell_type": "markdown",
      "source": [
        "#**Usando Generadores como Iteradores**\n",
        "\n",
        "Generadores son una simple manera para crear iteradores usando una función y la instrucción **yield**"
      ],
      "metadata": {
        "id": "VtNvyFIfEpcK"
      }
    },
    {
      "cell_type": "code",
      "source": [
        "def my_generator():\n",
        "    yield 1\n",
        "    yield 2\n",
        "    yield 3\n",
        "\n",
        "gen = my_generator()\n",
        "print(next(gen))  # Output: 1\n",
        "print(next(gen))  # Output: 2\n",
        "print(next(gen))  # Output: 3\n",
        "# print(next(gen))  # Raises StopIteration\n"
      ],
      "metadata": {
        "colab": {
          "base_uri": "https://localhost:8080/"
        },
        "id": "LJBDIkryFALT",
        "outputId": "9986eccc-8fa9-4dc0-cc6d-09489195e3c5"
      },
      "execution_count": 10,
      "outputs": [
        {
          "output_type": "stream",
          "name": "stdout",
          "text": [
            "1\n",
            "2\n",
            "3\n"
          ]
        }
      ]
    },
    {
      "cell_type": "markdown",
      "source": [
        "#**Resumen**\n",
        "**Iterable:** Un objeto que puede devolver un iterador. Ejemplos incluyen listas, tuplas, and diccionarios.\n",
        "\n",
        "**Iterator:** Un objeto con un método __next__() . Tu obtienes un iterador de un iterable usando la función iter().\n",
        "\n",
        "**Métodos de protocolo:** __iter__() y __next__() son el nucleo del protocolo de iterador.\n",
        "\n",
        "**Generadores**: Funciones que simplifican la creación de iteratores usando yield."
      ],
      "metadata": {
        "id": "A2OESgvLFJoF"
      }
    }
  ]
}