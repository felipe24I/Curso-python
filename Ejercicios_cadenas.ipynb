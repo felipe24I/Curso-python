{
  "nbformat": 4,
  "nbformat_minor": 0,
  "metadata": {
    "colab": {
      "provenance": [],
      "authorship_tag": "ABX9TyPUqZNC7Nd61vpZPSWJdKPk",
      "include_colab_link": true
    },
    "kernelspec": {
      "name": "python3",
      "display_name": "Python 3"
    },
    "language_info": {
      "name": "python"
    }
  },
  "cells": [
    {
      "cell_type": "markdown",
      "metadata": {
        "id": "view-in-github",
        "colab_type": "text"
      },
      "source": [
        "<a href=\"https://colab.research.google.com/github/felipe24I/Curso-python/blob/main/Ejercicios_cadenas.ipynb\" target=\"_parent\"><img src=\"https://colab.research.google.com/assets/colab-badge.svg\" alt=\"Open In Colab\"/></a>"
      ]
    },
    {
      "cell_type": "markdown",
      "source": [
        "#**Ejercicio 1**\n",
        "\n",
        "Escribir un programa que pregunte el nombre del usuario en la consola y un número entero e imprima por pantalla en líneas distintas el nombre del usuario tantas veces como el número introducido."
      ],
      "metadata": {
        "id": "rcCJEEAXPjh1"
      }
    },
    {
      "cell_type": "code",
      "execution_count": null,
      "metadata": {
        "colab": {
          "base_uri": "https://localhost:8080/"
        },
        "id": "vNHCKr27JOuz",
        "outputId": "ef5e4b4c-d79f-4391-bb2d-92b7982aaa35"
      },
      "outputs": [
        {
          "output_type": "stream",
          "name": "stdout",
          "text": [
            "Ingrese su nombre: Felipe\n",
            "Ingrese un número entero: 4\n",
            "Felipe\n",
            "Felipe\n",
            "Felipe\n",
            "Felipe\n"
          ]
        }
      ],
      "source": [
        "def Imprimir_nombre(nombre,num):\n",
        "  for i in range(0,num,1):\n",
        "    print(nombre)\n",
        "\n",
        "while True:\n",
        "  try:\n",
        "    nombre=input(\"Ingrese su nombre: \")\n",
        "    bandera=nombre.isalpha()\n",
        "    if bandera:\n",
        "      break\n",
        "    else:\n",
        "      raise ValueError (\"El nombre debe ser una cadena de caracteres\\nIntentalo de nuevo\")\n",
        "  except ValueError as NombreIncorrecto:\n",
        "    print(NombreIncorrecto)\n",
        "\n",
        "while True:\n",
        "  try:\n",
        "    num=int(input(\"Ingrese un número entero: \"))\n",
        "    if num>0:\n",
        "      break\n",
        "    else:\n",
        "      raise AttributeError (\"El numero entero debe ser mayor a cero\")\n",
        "  except ValueError:\n",
        "    print(\"Debe ingresar un número entero\\nIntentalo de nuevo\")\n",
        "  except AttributeError as NumeroIncorrecto:\n",
        "    print(NumeroIncorrecto)\n",
        "\n",
        "Imprimir_nombre(nombre,num)"
      ]
    },
    {
      "cell_type": "markdown",
      "source": [
        "#**Ejercicio 2**\n",
        "\n",
        "Escribir un programa que pregunte el nombre completo del usuario en la consola y después muestre por pantalla el nombre completo del usuario tres veces, una con todas las letras minúsculas, otra con todas las letras mayúsculas y otra solo con la primera letra del nombre y de los apellidos en mayúscula. El usuario puede introducir su nombre combinando mayúsculas y minúsculas como quiera."
      ],
      "metadata": {
        "id": "ElO1PxiiTInx"
      }
    },
    {
      "cell_type": "code",
      "source": [
        "def Imprimir_nombre_completo(nombre_completo):\n",
        "  nombre_mayuscula=nombre_completo.upper()\n",
        "  print(nombre_mayuscula)\n",
        "  nombre_minuscula=nombre_completo.lower()\n",
        "  print(nombre_minuscula)\n",
        "  nombre_separado=nombre_completo.split(\" \")\n",
        "  for i in range(len(nombre_separado)):\n",
        "    nombre_separado[i]=nombre_separado[i].capitalize()\n",
        "\n",
        "  print(\" \".join(nombre_separado))\n",
        "while True:\n",
        "  try:\n",
        "    nombre_completo=input(\"Ingrese su nombre completo: \")\n",
        "    nombre_sin_espacios=nombre_completo.replace(\" \",\"\")\n",
        "    bandera_2=nombre_sin_espacios.isalpha()\n",
        "    if bandera:\n",
        "      break\n",
        "    else:\n",
        "      raise AttributeError (\"El nombre completo debe ser una cadena de caracteres\\nIntentalo de nuevo\")\n",
        "  except AttributeError as NombreCompletoIncorrecto:\n",
        "    print(NombreCompletoIncorrecto)\n",
        "\n",
        "Imprimir_nombre_completo(nombre_completo)"
      ],
      "metadata": {
        "colab": {
          "base_uri": "https://localhost:8080/"
        },
        "id": "auSjSOk3Toa8",
        "outputId": "0055f9d5-13cc-4df6-9227-a474de6b0f20"
      },
      "execution_count": null,
      "outputs": [
        {
          "output_type": "stream",
          "name": "stdout",
          "text": [
            "Ingrese su nombre completo: FELIpe IdarraGa QuinterO\n",
            "FELIPE IDARRAGA QUINTERO\n",
            "felipe idarraga quintero\n",
            "Felipe Idarraga Quintero\n"
          ]
        }
      ]
    },
    {
      "cell_type": "markdown",
      "source": [
        "#**Ejercicio 3**\n",
        "\n",
        "Escribir un programa que pregunte el nombre del usuario en la consola y después de que el usuario lo introduzca muestre por pantalla $<NOMBRE>$ tiene $<n>$ letras, donde $<NOMBRE>$ es el nombre de usuario en mayúsculas y $<n>$ es el número de letras que tienen el nombre."
      ],
      "metadata": {
        "id": "Y__eWKy4rYWx"
      }
    },
    {
      "cell_type": "code",
      "source": [
        "def letras (nombre):\n",
        "  longitud=len(nombre)\n",
        "  return longitud\n",
        "\n",
        "while True:\n",
        "  try:\n",
        "    nombre=input(\"Introduzca su nombre: \")\n",
        "    nombre_sin_espacios=nombre.replace(\" \",\"\")\n",
        "    bandera=nombre_sin_espacios.isalpha()\n",
        "    if bandera:\n",
        "      break\n",
        "    else:\n",
        "      raise ValueError (\"El nombre debe ser una cadena de caracteres\\nIntentalo de nuevo\")\n",
        "  except ValueError as NombreIncorrecto:\n",
        "    print(NombreIncorrecto)\n",
        "\n",
        "n=letras(nombre_sin_espacios)\n",
        "print(nombre.upper(),\" tiene \",n,\" letras\")"
      ],
      "metadata": {
        "colab": {
          "base_uri": "https://localhost:8080/"
        },
        "id": "xzEWNIKFrjX5",
        "outputId": "9490e1ea-2837-4304-edfe-9f8fc3f6544f"
      },
      "execution_count": null,
      "outputs": [
        {
          "output_type": "stream",
          "name": "stdout",
          "text": [
            "Introduzca su nombre: fELIpe Idarraga Quintero\n",
            "FELIPE IDARRAGA QUINTERO  tiene  22  letras\n"
          ]
        }
      ]
    },
    {
      "cell_type": "markdown",
      "source": [
        "#**Ejercicio 4**\n",
        "\n",
        "Los teléfonos de una empresa tienen el siguiente formato prefijo-número-extension donde el prefijo es el código del país +34, y la extensión tiene dos dígitos (por ejemplo +34-913724710-56). Escribir un programa que pregunte por un número de teléfono con este formato y muestre por pantalla el número de teléfono sin el prefijo y la extensión."
      ],
      "metadata": {
        "id": "4x3YqtLOxnnE"
      }
    },
    {
      "cell_type": "code",
      "source": [
        "numero=input(\"Introduce un número de teléfono con el formato +xx-xxxxxxxxx-xx: \")\n",
        "print(\"El numero de telefono es: \",numero[4:-3])"
      ],
      "metadata": {
        "colab": {
          "base_uri": "https://localhost:8080/"
        },
        "id": "d-P9WdaAx_YL",
        "outputId": "efb4ab63-ba52-4204-e827-5acaede328be"
      },
      "execution_count": 44,
      "outputs": [
        {
          "output_type": "stream",
          "name": "stdout",
          "text": [
            "Introduce un número de teléfono con el formato +xx-xxxxxxxxx-xx: +34-913724710-56\n",
            "El numero de telefono es:  913724710\n"
          ]
        }
      ]
    },
    {
      "cell_type": "markdown",
      "source": [
        "#**Ejercicio 5**\n",
        "\n",
        "Escribir un programa que pida al usuario que introduzca una frase en la consola y muestre por pantalla la frase invertida."
      ],
      "metadata": {
        "id": "P8UQg8X3QHiP"
      }
    },
    {
      "cell_type": "code",
      "source": [
        "\n",
        "\n",
        "frase=input(\"Ingrese una frase: \")\n",
        "print(frase[::-1])"
      ],
      "metadata": {
        "colab": {
          "base_uri": "https://localhost:8080/"
        },
        "id": "u2mE3TB2RPgu",
        "outputId": "f664c4eb-5a48-4aea-f544-fd9cdd440b60"
      },
      "execution_count": 62,
      "outputs": [
        {
          "output_type": "stream",
          "name": "stdout",
          "text": [
            "Ingrese una frase: python\n",
            "nohtyp\n"
          ]
        }
      ]
    },
    {
      "cell_type": "markdown",
      "source": [
        "#**Ejercicio 6**\n",
        "\n",
        "Escribir un programa que pida al usuario que introduzca una frase en la consola y una vocal, y después muestre por pantalla la misma frase pero con la vocal introducida en mayúscula"
      ],
      "metadata": {
        "id": "1zpoHLnrqqLg"
      }
    },
    {
      "cell_type": "code",
      "source": [
        "def introducir_vocal(frase,vocal):\n",
        "  frase_final=frase.replace(vocal,vocal.upper())\n",
        "  return frase_final\n",
        "frase=input(\"Introduzca una frase: \")\n",
        "while True:\n",
        "  try:\n",
        "    vocal=input(\"introduzca una vocal: \")\n",
        "    if vocal == \"a\" or vocal == \"e\" or vocal == \"i\" or vocal == \"o\" or vocal== \"u\":\n",
        "      break\n",
        "    else:\n",
        "      raise AttributeError (\"Debe ingresar una vocal\\nIntentalo nuevamente\")\n",
        "  except AttributeError as VocalIncorrecta:\n",
        "    print(VocalIncorrecta)\n",
        "\n",
        "frase_final=introducir_vocal(frase,vocal)\n",
        "print(frase_final)"
      ],
      "metadata": {
        "colab": {
          "base_uri": "https://localhost:8080/"
        },
        "id": "JHYFggmTqxFr",
        "outputId": "e44669e8-add5-441c-d61d-9c157ca63113"
      },
      "execution_count": 67,
      "outputs": [
        {
          "output_type": "stream",
          "name": "stdout",
          "text": [
            "Introduzca una frase: hola\n",
            "introduzca una vocal: o\n",
            "hOla\n"
          ]
        }
      ]
    },
    {
      "cell_type": "markdown",
      "source": [
        "#**Ejercicio 7**\n",
        "\n",
        "Escribir un programa que pregunte el correo electrónico del usuario en la consola y muestre por pantalla otro correo electrónico con el mismo nombre (la parte delante de la arroba @) pero con dominio ceu.es."
      ],
      "metadata": {
        "id": "z8FSSr2HKsiP"
      }
    },
    {
      "cell_type": "code",
      "source": [
        "def cambio_correo(correo):\n",
        "  for i in range(len(correo)):\n",
        "    if correo[i]=='@':\n",
        "      posicion_clave=i\n",
        "      correo_nuevo=correo[:i+1]+\"ceu.es\"\n",
        "  return correo_nuevo\n",
        "\n",
        "\n",
        "\n",
        "\n",
        "while True:\n",
        "  try:\n",
        "    correo=input(\"Ingrese su correo electrónico: \")\n",
        "    arroba=\"@\" in correo\n",
        "    if arroba:\n",
        "      arrobas=correo.count(\"@\")\n",
        "      if arrobas==1:\n",
        "        final_arroba=correo.endswith(\"@\")\n",
        "        if final_arroba == False:\n",
        "          inicio_arroba=correo.find(\"@\")\n",
        "          if inicio_arroba == 0:\n",
        "            print(\"Hay un @ en el inicio del correo, esto no esta permitido\")\n",
        "          else:\n",
        "            break\n",
        "        else:\n",
        "          print(\"Hay un @ en el final del correo, esto no esta permitido\")\n",
        "      else:\n",
        "        print(\"Hay má de un @ en el correo, esto no esta permitido\")\n",
        "    else:\n",
        "      print(\"No hay @ en el correo, esto no esta permitido\")\n",
        "      raise ValueError (\"El correo electrónico digitado es incorrecto\\nIntentalo de nuevo\")\n",
        "  except ValueError as CorreoIncorrecto:\n",
        "    print(CorreoIncorrecto)\n",
        "\n",
        "correo_nuevo=cambio_correo(correo)\n",
        "print(correo_nuevo)\n"
      ],
      "metadata": {
        "colab": {
          "base_uri": "https://localhost:8080/"
        },
        "id": "CjGsnJmbK9y2",
        "outputId": "1fc21b75-7517-4b89-e1d4-73397e3eb900"
      },
      "execution_count": 71,
      "outputs": [
        {
          "output_type": "stream",
          "name": "stdout",
          "text": [
            "Ingrese su correo electrónico: felipeiq24@gmail.com\n",
            "felipeiq24@ceu.es\n"
          ]
        }
      ]
    }
  ]
}