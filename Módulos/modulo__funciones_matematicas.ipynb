{
  "nbformat": 4,
  "nbformat_minor": 0,
  "metadata": {
    "colab": {
      "provenance": [],
      "authorship_tag": "ABX9TyOZ24u3oVMPKs8Ac+knHHXL",
      "include_colab_link": true
    },
    "kernelspec": {
      "name": "python3",
      "display_name": "Python 3"
    },
    "language_info": {
      "name": "python"
    }
  },
  "cells": [
    {
      "cell_type": "markdown",
      "metadata": {
        "id": "view-in-github",
        "colab_type": "text"
      },
      "source": [
        "<a href=\"https://colab.research.google.com/github/felipe24I/Curso-python/blob/main/modulo__funciones_matematicas.ipynb\" target=\"_parent\"><img src=\"https://colab.research.google.com/assets/colab-badge.svg\" alt=\"Open In Colab\"/></a>"
      ]
    },
    {
      "cell_type": "markdown",
      "source": [
        "#**Módulos**\n",
        "\n",
        "Son archivos python que nos sirven para reutilizarlos en otro archivo importandolos"
      ],
      "metadata": {
        "id": "sRKyFz_ZteFX"
      }
    },
    {
      "cell_type": "code",
      "execution_count": 1,
      "metadata": {
        "id": "hraw4PnOtZ3M"
      },
      "outputs": [],
      "source": [
        "def sumar(op1,op2):\n",
        "  print(\"El resultado de la suma es: \",op1+op2)\n",
        "\n",
        "def restar(op1,op2):\n",
        "  print(\"El resultado de la suma es: \",op1-op2)\n",
        "\n",
        "def multiplicar(op1,op2):\n",
        "  print(\"El resultado de la multiplicación es: \",op1*op2)\n"
      ]
    }
  ]
}