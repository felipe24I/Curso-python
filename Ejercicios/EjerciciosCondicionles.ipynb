{
  "nbformat": 4,
  "nbformat_minor": 0,
  "metadata": {
    "colab": {
      "provenance": [],
      "authorship_tag": "ABX9TyO4BQe2JYzmImgw6qsunw+v",
      "include_colab_link": true
    },
    "kernelspec": {
      "name": "python3",
      "display_name": "Python 3"
    },
    "language_info": {
      "name": "python"
    }
  },
  "cells": [
    {
      "cell_type": "markdown",
      "metadata": {
        "id": "view-in-github",
        "colab_type": "text"
      },
      "source": [
        "<a href=\"https://colab.research.google.com/github/felipe24I/Curso-python/blob/main/EjerciciosCondicionles.ipynb\" target=\"_parent\"><img src=\"https://colab.research.google.com/assets/colab-badge.svg\" alt=\"Open In Colab\"/></a>"
      ]
    },
    {
      "cell_type": "markdown",
      "source": [
        "#**Ejercicio 1**\n",
        "\n",
        "Escribir un programa que pregunte al usuario su edad y muestre por pantalla si es mayor de edad o no."
      ],
      "metadata": {
        "id": "dzI9XO3oOcH3"
      }
    },
    {
      "cell_type": "code",
      "source": [
        "def Clasi_edad (edad):\n",
        "  if edad >=18:\n",
        "    return \"Usted es mayor de edad\"\n",
        "  else:\n",
        "    return \"Usted es menor de edad\"\n",
        "\n",
        "while True:\n",
        "  try:\n",
        "    edad=int(input(\"Inngrese su edad: \"))\n",
        "    if edad >0 and edad <130:\n",
        "      break\n",
        "    else:\n",
        "      raise AttributeError (\"La edad ingresada no es válida\\nIntentalo de nuevo\")\n",
        "  except ValueError:\n",
        "    print(\"La edad debe ser un número entero\\nIntentalo de nuevo\")\n",
        "  except AttributeError as EdadIncorrecta:\n",
        "    print(EdadIncorrecta)\n",
        "\n",
        "clasi_edad=Clasi_edad(edad)\n",
        "print(clasi_edad)\n"
      ],
      "metadata": {
        "colab": {
          "base_uri": "https://localhost:8080/"
        },
        "id": "5PRDaAuaOjR4",
        "outputId": "1ca3d5d8-8643-4a5b-a734-489d2cbb3a61"
      },
      "execution_count": null,
      "outputs": [
        {
          "output_type": "stream",
          "name": "stdout",
          "text": [
            "Inngrese su edad: er\n",
            "La edad debe ser un número entero\n",
            "Intentalo de nuevo\n",
            "Inngrese su edad: -1\n",
            "La edad ingresada no es válida\n",
            "Intentalo de nuevo\n",
            "Inngrese su edad: 0\n",
            "La edad ingresada no es válida\n",
            "Intentalo de nuevo\n",
            "Inngrese su edad: 132\n",
            "La edad ingresada no es válida\n",
            "Intentalo de nuevo\n",
            "Inngrese su edad: 23\n",
            "Usted es mayor de edad\n"
          ]
        }
      ]
    },
    {
      "cell_type": "markdown",
      "source": [
        "#**Ejercicio 2**\n",
        "\n",
        "Escribir un programa que almacene la cadena de caracteres contraseña en una variable, pregunte al usuario por la contraseña e imprima por pantalla si la contraseña introducida por el usuario coincide con la guardada en la variable sin tener en cuenta mayúsculas y minúsculas."
      ],
      "metadata": {
        "id": "WocVxmfaQKf6"
      }
    },
    {
      "cell_type": "code",
      "source": [
        "def validar_contraseña(variable,contraseña):\n",
        "  if variable == contraseña:\n",
        "    return \"Contraseña correcta\"\n",
        "  else:\n",
        "    return \"Contraseña incorrecta\"\n",
        "\n",
        "variable=\"contraseña\"\n",
        "contraseña= input(\"Introduzca la contraseña: \")\n",
        "validacion= validar_contraseña(variable,contraseña)\n",
        "print(validacion)\n"
      ],
      "metadata": {
        "colab": {
          "base_uri": "https://localhost:8080/"
        },
        "id": "FzrN-EERQJ_Z",
        "outputId": "f51f5f2d-14b0-4590-e116-aab68a45ae81"
      },
      "execution_count": null,
      "outputs": [
        {
          "output_type": "stream",
          "name": "stdout",
          "text": [
            "Introduzca la contraseña: contraseña\n",
            "Contraseña correcta\n"
          ]
        }
      ]
    },
    {
      "cell_type": "markdown",
      "source": [
        "#**Ejercicio 3**\n",
        "\n",
        "Escribir un programa que pida al usuario dos números y muestre por pantalla su división. Si el divisor es cero el programa debe mostrar un error."
      ],
      "metadata": {
        "id": "6_LJQXjDRJkU"
      }
    },
    {
      "cell_type": "code",
      "source": [
        "def Division (num1,num2):\n",
        "  if num2 == 0:\n",
        "    return \"Error\"\n",
        "  else:\n",
        "    div=num1/num2\n",
        "    return div\n",
        "\n",
        "\n",
        "while True:\n",
        "  try:\n",
        "    num1=int(input(\"Ingrese un numero: \"))\n",
        "    break\n",
        "  except ValueError:\n",
        "    print(\"Debe ingresar un número entero\")\n",
        "\n",
        "while True:\n",
        "  try:\n",
        "    num2=int(input(\"Ingrese otro numero: \"))\n",
        "    break\n",
        "  except ValueError:\n",
        "    print(\"Debe ingresar un número entero\")\n",
        "\n",
        "division=Division(num1,num2)\n",
        "print(division)"
      ],
      "metadata": {
        "colab": {
          "base_uri": "https://localhost:8080/"
        },
        "id": "mBA7yxWGTMb0",
        "outputId": "616060ff-5215-462b-ef9a-c841d2a816a7"
      },
      "execution_count": null,
      "outputs": [
        {
          "output_type": "stream",
          "name": "stdout",
          "text": [
            "Ingrese un numero: e\n",
            "Debe ingresar un número entero\n",
            "Ingrese un numero: 2\n",
            "Ingrese otro numero: 0\n",
            "Error\n"
          ]
        }
      ]
    },
    {
      "cell_type": "markdown",
      "source": [
        "#**Ejercicio 4**\n",
        "\n",
        "Escribir un programa que pida al usuario un número entero y muestre por pantalla si es par o impar."
      ],
      "metadata": {
        "id": "CSzGbyfLUc-B"
      }
    },
    {
      "cell_type": "code",
      "source": [
        "def par_impar(num):\n",
        "  if num%2==0:\n",
        "    return \"El numero es par\"\n",
        "  else:\n",
        "    return \"El numero es impar\"\n",
        "\n",
        "while True:\n",
        "  try:\n",
        "    num=int(input(\"Ingrese un numero: \"))\n",
        "    break\n",
        "  except ValueError:\n",
        "    print(\"Debe ingresar un número entero\")\n",
        "\n",
        "clasi=par_impar(num)\n",
        "print(clasi)"
      ],
      "metadata": {
        "colab": {
          "base_uri": "https://localhost:8080/"
        },
        "id": "9I_t2NKGVY_z",
        "outputId": "161c25a4-bd17-40e3-94f9-214fdbf808ec"
      },
      "execution_count": null,
      "outputs": [
        {
          "output_type": "stream",
          "name": "stdout",
          "text": [
            "Ingrese un numero: -67\n",
            "El numero es impar\n"
          ]
        }
      ]
    },
    {
      "cell_type": "markdown",
      "source": [
        "#**Ejercicio 5**\n",
        "\n",
        "Para tributar un determinado impuesto se debe ser mayor de 16 años y tener unos ingresos iguales o superiores a 1000 € mensuales. Escribir un programa que pregunte al usuario su edad y sus ingresos mensuales y muestre por pantalla si el usuario tiene que tributar o no."
      ],
      "metadata": {
        "id": "Lo8sbc6rWxN3"
      }
    },
    {
      "cell_type": "code",
      "source": [
        "def Tributar(edad,ingresos):\n",
        "  if edad>16 and ingresos>=1000:\n",
        "    return \"Debe tributar\"\n",
        "  else:\n",
        "    return \"No debe tributar\"\n",
        "\n",
        "while True:\n",
        "  try:\n",
        "    edad=int(input(\"Inngrese su edad: \"))\n",
        "    if edad >0 and edad <130:\n",
        "      break\n",
        "    else:\n",
        "      raise AttributeError (\"La edad ingresada no es válida\\nIntentalo de nuevo\")\n",
        "  except ValueError:\n",
        "    print(\"La edad debe ser un número entero\\nIntentalo de nuevo\")\n",
        "  except AttributeError as EdadIncorrecta:\n",
        "    print(EdadIncorrecta)\n",
        "\n",
        "while True:\n",
        "  try:\n",
        "    ingresos=int(input(\"Ingrese sus ingresos: \"))\n",
        "    if ingresos >=0:\n",
        "      break\n",
        "    else:\n",
        "      raise AttributeError (\"Los ingresos ingresados no son válidos\\nIntentalo de nuevo\")\n",
        "  except ValueError:\n",
        "    print(\"Los ingresos deben ser un número entero\\nIntentalo de nuevo\")\n",
        "  except AttributeError as IngresoIncorrecto:\n",
        "    print(IngresoIncorrecto)\n",
        "\n",
        "tributo=Tributar(edad,ingresos)\n",
        "print(tributo)"
      ],
      "metadata": {
        "colab": {
          "base_uri": "https://localhost:8080/"
        },
        "id": "45DZM_l5XO8b",
        "outputId": "411dc44a-1f3c-496f-f622-44ccf748a43f"
      },
      "execution_count": null,
      "outputs": [
        {
          "output_type": "stream",
          "name": "stdout",
          "text": [
            "Inngrese su edad: 21\n",
            "Ingrese sus ingresos: 0\n",
            "No debe tributar\n"
          ]
        }
      ]
    },
    {
      "cell_type": "markdown",
      "source": [
        "#**Ejercicio 6**\n",
        "\n",
        "Los alumnos de un curso se han dividido en dos grupos A y B de acuerdo al sexo y el nombre. El grupo A esta formado por las mujeres con un nombre anterior a la M y los hombres con un nombre posterior a la N y el grupo B por el resto. Escribir un programa que pregunte al usuario su nombre y sexo, y muestre por pantalla el grupo que le corresponde."
      ],
      "metadata": {
        "id": "8FSHLtGqobvG"
      }
    },
    {
      "cell_type": "code",
      "source": [
        "import string\n",
        "\n",
        "def seleccion(nombre,sexo):\n",
        "  lista=[]\n",
        "  lista.append(nombre)\n",
        "  abecedario=string.ascii_lowercase\n",
        "  for i in abecedario:\n",
        "    if (lista[0] <=\"m\" and sexo == \"femenino\") or (lista[0]>=\"n\" and sexo == \"Masculino\"):\n",
        "      return \"corresponde al grupo A\"\n",
        "    else:\n",
        "      return \"corresponde al grupo B\"\n",
        "\n",
        "while True:\n",
        "  try:\n",
        "    nombre=input(\"Ingrese su nombre: \")\n",
        "    nombre_def=nombre.lower()\n",
        "    bandera=nombre.isalpha()\n",
        "    if bandera:\n",
        "      break\n",
        "    else:\n",
        "      raise AttributeError (\"El nombre ingresado no es válido\\nIntentalo de nuevo\")\n",
        "  except AttributeError as nombreIncorrecto:\n",
        "    print(nombreIncorrecto)\n",
        "\n",
        "while True:\n",
        "  try:\n",
        "    sexo=input(\"Ingrese su sexo: \")\n",
        "    sexo_def=sexo.lower()\n",
        "    if sexo_def==\"masculino\" or sexo_def==\"femenino\":\n",
        "      break\n",
        "    else:\n",
        "      raise AttributeError (\"El nombre ingresado no es válido\\nIntentalo de nuevo\")\n",
        "  except AttributeError as nombreIncorrecto:\n",
        "    print(nombreIncorrecto)\n",
        "\n",
        "mensaje=seleccion(nombre,sexo_def)\n",
        "print(mensaje)"
      ],
      "metadata": {
        "colab": {
          "base_uri": "https://localhost:8080/"
        },
        "id": "yLrD0ATMo0V9",
        "outputId": "b8aa438a-6a45-46a2-ce1b-f1a2608ab2aa"
      },
      "execution_count": null,
      "outputs": [
        {
          "output_type": "stream",
          "name": "stdout",
          "text": [
            "Ingrese su nombre: felipe\n",
            "Ingrese su sexo: masculino\n",
            "corresponde al grupo B\n"
          ]
        }
      ]
    },
    {
      "cell_type": "markdown",
      "source": [
        "#**Ejercicio 7**\n",
        "\n",
        "Los tramos impositivos para la declaración de la renta en un determinado país son los siguientes:\n",
        "\n",
        "\n",
        "| Renta                | Tipo Impositivo |\n",
        "|----------------------|-----------------|\n",
        "|Menos de 10000€       | 5%              |\n",
        "|Entre 10000€ y 20000€ | 15%             |\n",
        "|Entre 20000€ y 35000€ |20%              |\n",
        "|Entre 35000€ y 60000€ |30%              |\n",
        "|Mas de 60000€         |45%              |\n",
        "\n",
        "Escribir un programa que pregunte al usuario su renta anual y muestre por pantalla el tipo impositivo que le corresponde."
      ],
      "metadata": {
        "id": "YwfulPgpz2jv"
      }
    },
    {
      "cell_type": "code",
      "source": [
        "def Tipo_impositivo (renta):\n",
        "  if renta < 10000:\n",
        "    return \"5%\"\n",
        "  elif renta >=10000 and renta <20000:\n",
        "    return \"15%\"\n",
        "  elif renta >=20000 and renta < 35000:\n",
        "    return \"20%\"\n",
        "  elif renta >=35000 and renta <= 60000:\n",
        "    return \"30%\"\n",
        "  else:\n",
        "    return \"45%\"\n",
        "\n",
        "while True:\n",
        "  try:\n",
        "    renta=int(input(\"Ingrese su renta anual: \"))\n",
        "    if renta>0:\n",
        "      break\n",
        "    else:\n",
        "      raise AttributeError (\"La renta anual ingresada no es válida\\nIntentalo de nuevo\")\n",
        "  except ValueError:\n",
        "    print(\"La renta anual debe ser un número entero\\nIntentalo de nuevo\")\n",
        "  except AttributeError as RentaIncorrecta:\n",
        "    print(RentaIncorrecta)\n",
        "\n",
        "mensaje=Tipo_impositivo(renta)\n",
        "print(\"El tipo impodsitivo que le corresponde es del \",mensaje)"
      ],
      "metadata": {
        "id": "h-zwcOPWOhBv",
        "outputId": "58453586-7943-42ea-c92d-247312f2990b",
        "colab": {
          "base_uri": "https://localhost:8080/"
        }
      },
      "execution_count": null,
      "outputs": [
        {
          "output_type": "stream",
          "name": "stdout",
          "text": [
            "Ingrese su renta anual: 34000\n",
            "El tipo impodsitivo que le corresponde es del  20%\n"
          ]
        }
      ]
    },
    {
      "cell_type": "markdown",
      "source": [
        "#**Ejercicio 8**\n",
        "\n",
        "En una determinada empresa, sus empleados son evaluados al final de cada año. Los puntos que pueden obtener en la evaluación comienzan en 0.0 y pueden ir aumentando, traduciéndose en mejores beneficios. Los puntos que pueden conseguir los empleados pueden ser 0.0, 0.4, 0.6 o más, pero no valores intermedios entre las cifras mencionadas. A continuación se muestra una tabla con los niveles correspondientes a cada puntuación. La cantidad de dinero conseguida en cada nivel es de 2.400€ multiplicada por la puntuación del nivel.\n",
        "\n",
        "|Nivel             |Puntuacion          |\n",
        "|------------------|--------------------|\n",
        "|Inaceptable       |0.0                 |\n",
        "|Aceptable         |0.4                 |\n",
        "|Meritorio         |0.6 o más           |\n",
        "\n",
        "Escribir un programa que lea la puntuación del usuario e indique su nivel de rendimiento, así como la cantidad de dinero que recibirá el usuario."
      ],
      "metadata": {
        "id": "vYkVlBTzQ-jZ"
      }
    },
    {
      "cell_type": "code",
      "source": [
        "def Nivel(puntuacion):\n",
        "  if puntuacion == 0.0:\n",
        "    return \"Inaceptable\"\n",
        "  elif puntuacion == 0.4:\n",
        "    return \"Aceptable\"\n",
        "  else:\n",
        "    return \"Meritorio\"\n",
        "\n",
        "def Dinero(puntuacion):\n",
        "  dinero_nivel=2400\n",
        "  dinero=dinero_nivel*puntuacion\n",
        "  return dinero\n",
        "\n",
        "while True:\n",
        "  try:\n",
        "    puntuacion=float(input(\"Ingrese su puntuación: \"))\n",
        "    if puntuacion == 0.0 or puntuacion == 0.4 or puntuacion >=0.6 :\n",
        "      break\n",
        "    else:\n",
        "      raise AttributeError (\"La puntuación ingresada no es válida\\nIntentalo de nuevo\")\n",
        "  except ValueError:\n",
        "    print(\"La puntuacion debe ser un número\\nIntentalo de nuevo\")\n",
        "  except AttributeError as PuntuacionIncorrecta:\n",
        "    print(PuntuacionIncorrecta)\n",
        "\n",
        "nivel=Nivel(puntuacion)\n",
        "dinero=Dinero(puntuacion)\n",
        "print(\"Su nivel de rendimiento es: \",nivel)\n",
        "print(\"La cantidad de dinero que recibira es: \",dinero)"
      ],
      "metadata": {
        "id": "PJshSSc3Ieed",
        "outputId": "fcfc91d0-71df-4ebf-a651-ce058aafee71",
        "colab": {
          "base_uri": "https://localhost:8080/"
        }
      },
      "execution_count": 3,
      "outputs": [
        {
          "output_type": "stream",
          "name": "stdout",
          "text": [
            "Ingrese su puntuación: 0.4\n",
            "Su nivel de rendimiento es:  Aceptable\n",
            "La cantidad de dinero que recibira es:  960.0\n"
          ]
        }
      ]
    },
    {
      "cell_type": "markdown",
      "source": [
        "#**Ejercicio 9**\n",
        "\n",
        "Escribir un programa para una empresa que tiene salas de juegos para todas las edades y quiere calcular de forma automática el precio que debe cobrar a sus clientes por entrar. El programa debe preguntar al usuario la edad del cliente y mostrar el precio de la entrada. Si el cliente es menor de 4 años puede entrar gratis, si tiene entre 4 y 18 años debe pagar 5€ y si es mayor de 18 años, 10€."
      ],
      "metadata": {
        "id": "lGinOBx6LWuK"
      }
    },
    {
      "cell_type": "code",
      "source": [
        "def Precio(edad):\n",
        "  if edad < 4:\n",
        "    return \"Puede entrar gratis\"\n",
        "  elif edad >=4 and edad <18:\n",
        "    return \"Debe pagar 5€\"\n",
        "  else:\n",
        "    return \"Debe pagar 10€\"\n",
        "\n",
        "while True:\n",
        "  try:\n",
        "    edad=int(input(\"Ingrese su edad: \"))\n",
        "    if edad >0 and edad <130:\n",
        "      break\n",
        "    else:\n",
        "      raise AttributeError (\"La edad ingresada no es válida\\nIntentalo de nuevo\")\n",
        "  except ValueError:\n",
        "    print(\"La edad debe ser un número entero\\nIntentalo de nuevo\")\n",
        "  except AttributeError as EdadIncorrecta:\n",
        "    print(EdadIncorrecta)\n",
        "\n",
        "mensaje=Precio(edad)\n",
        "print(mensaje)"
      ],
      "metadata": {
        "id": "i3nKVkqELk9K",
        "outputId": "9b0e3dab-3d49-4963-a6e4-0e74c7ea9dcb",
        "colab": {
          "base_uri": "https://localhost:8080/"
        }
      },
      "execution_count": 6,
      "outputs": [
        {
          "output_type": "stream",
          "name": "stdout",
          "text": [
            "Ingrese su edad: 7\n",
            "Debe pagar 5€\n"
          ]
        }
      ]
    },
    {
      "cell_type": "markdown",
      "source": [
        "#**Ejercicio 10**\n",
        "\n",
        "La pizzería Bella Napoli ofrece pizzas vegetarianas y no vegetarianas a sus clientes. Los ingredientes para cada tipo de pizza aparecen a continuación.\n",
        "\n",
        "Ingredientes vegetarianos: Pimiento y tofu.\n",
        "Ingredientes no vegetarianos: Peperoni, Jamón y Salmón.\n",
        "Escribir un programa que pregunte al usuario si quiere una pizza vegetariana o no, y en función de su respuesta le muestre un menú con los ingredientes disponibles para que elija. Solo se puede eligir un ingrediente además de la mozzarella y el tomate que están en todas la pizzas. Al final se debe mostrar por pantalla si la pizza elegida es vegetariana o no y todos los ingredientes que lleva."
      ],
      "metadata": {
        "id": "Y8KB5Sc4Ma2a"
      }
    },
    {
      "cell_type": "code",
      "source": [
        "print(\"Bienvenido usuario a la pizzería Bella Napoli\")\n",
        "\n",
        "\n",
        "\n",
        "def Pizza(nombre_def):\n",
        "  ingredientes_vegetarianos=[\"Pimiento\",\"tofu\"]\n",
        "  pizza_base=[\"mozzarella\",\"tomate\"]\n",
        "  ingredientes_novegetarianos=[\"Peperoni\",\"Jamon\",\"Salmon\"]\n",
        "  while True:\n",
        "    try:\n",
        "      if nombre_def == \"no vegetariana\":\n",
        "        print(\"Ha seleccionado pizza no vegetariana, los ingredientes no vegetarianos son: \",ingredientes_novegetarianos,\"\\nPuede elegir solo uno\")\n",
        "        ingrediente_extra=input(\"cual desea: \")\n",
        "        ingrediente_extra_def=ingrediente_extra.lower()\n",
        "        if ingrediente_extra_def == \"peperoni\" or ingrediente_extra_def == \"jamon\" or ingrediente_extra_def == \"salmon\":\n",
        "          pizza_base.append(ingrediente_extra_def)\n",
        "          break\n",
        "        else:\n",
        "          raise AttributeError (\"La opción ingresada no es válida\\nIntentalo de nuevo\")\n",
        "      else:\n",
        "        print(\"Ha seleccionado pizza vegetariana, los ingredientes vegetarianos son: \",ingredientes_vegetarianos,\"\\nPuede elegir solo uno\")\n",
        "        ingrediente_extra=input(\"cual desea: \")\n",
        "        ingrediente_extra_def=ingrediente_extra.lower()\n",
        "        if ingrediente_extra_def == \"pimiento\" or ingrediente_extra_def == \"tofu\":\n",
        "          pizza_base.append(ingrediente_extra_def)\n",
        "          break\n",
        "    except AttributeError as nombreIncorrecto:\n",
        "      print(nombreIncorrecto)\n",
        "  return pizza_base\n",
        "\n",
        "while True:\n",
        "  try:\n",
        "    nombre=input(\"Ingrese si quiere pizza vegetariana la palabra vegetariana, o si quiere pizza no vegetariana la palabra no vegetariana:\" )\n",
        "    nombre_def=nombre.lower()\n",
        "    if nombre_def == \"vegetariana\" or nombre_def == \"no vegetariana\":\n",
        "        break\n",
        "    else:\n",
        "        raise AttributeError (\"La opción ingresada no es válida\\nIntentalo de nuevo\")\n",
        "  except AttributeError as nombreIncorrecto:\n",
        "    print(nombreIncorrecto)\n",
        "\n",
        "pizza=Pizza(nombre_def)\n",
        "print(\"Usted ha elegido \",nombre_def, \" y los ingredientes de su pizza son: \",pizza)"
      ],
      "metadata": {
        "id": "ZDFW-01cMqBR",
        "outputId": "53331eb4-b1d2-464e-99d1-4c9d86053a2e",
        "colab": {
          "base_uri": "https://localhost:8080/"
        }
      },
      "execution_count": 13,
      "outputs": [
        {
          "output_type": "stream",
          "name": "stdout",
          "text": [
            "Bienvenido usuario a la pizzería Bella Napoli\n",
            "Ingrese si quiere pizza vegetariana la palabra vegetariana, o si quiere pizza no vegetariana la palabra no vegetariana:no VEGEtariana\n",
            "Ha seleccionado pizza no vegetariana, los ingredientes no vegetarianos son:  ['Peperoni', 'Jamon', 'Salmon'] \n",
            "Puede elegir solo uno\n",
            "cual desea: SAlmon\n",
            "Usted ha elegido  no vegetariana  y los ingredientes de su pizza son:  ['mozzarella', 'tomate', 'salmon']\n"
          ]
        }
      ]
    }
  ]
}