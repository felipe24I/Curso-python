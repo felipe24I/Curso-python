{
  "nbformat": 4,
  "nbformat_minor": 0,
  "metadata": {
    "colab": {
      "provenance": [],
      "authorship_tag": "ABX9TyPuvw4WGZO4y+qGDITvXo06",
      "include_colab_link": true
    },
    "kernelspec": {
      "name": "python3",
      "display_name": "Python 3"
    },
    "language_info": {
      "name": "python"
    }
  },
  "cells": [
    {
      "cell_type": "markdown",
      "metadata": {
        "id": "view-in-github",
        "colab_type": "text"
      },
      "source": [
        "<a href=\"https://colab.research.google.com/github/felipe24I/Curso-python/blob/main/POO.ipynb\" target=\"_parent\"><img src=\"https://colab.research.google.com/assets/colab-badge.svg\" alt=\"Open In Colab\"/></a>"
      ]
    },
    {
      "cell_type": "markdown",
      "source": [
        "#**Programación orientada a objetos**\n",
        "\n",
        "*   Trasladar la naturaleza de los objetos de la vida real al código de\n",
        "programación\n",
        "*   Los objetos tienen un estado, un compoprtamiento (¿Qué puede hacer?), y unas propiedades\n",
        "\n",
        "\n"
      ],
      "metadata": {
        "id": "aAnSkb9DpJTN"
      }
    },
    {
      "cell_type": "markdown",
      "source": [
        "#**Ejemplo: El objeto coche**\n",
        "\n",
        "**Estado del coche:** Un coche puede estar parado, circulando, aparcado etc\n",
        "\n",
        "**Propiedades del coche:** Un coche tiene un color, un peso, un tamaño etc.\n",
        "\n",
        "**Comportamiento coche:** Un coche puede arrancar, frenar, acelerar, girar etc"
      ],
      "metadata": {
        "id": "tEqyPltAwA8w"
      }
    },
    {
      "cell_type": "markdown",
      "source": [
        "#**Objeto**\n",
        "\n",
        "**Tiene propiedades (atributos)**\n",
        "\n",
        "*   Color\n",
        "*   Peso\n",
        "*   Alto\n",
        "*   Largo\n",
        "\n",
        "**Tiene un comportamiento (¿Qué es capaz de hacer?)**\n",
        "\n",
        "*   Arrancar\n",
        "*   Frenar\n",
        "*   Girar\n",
        "*   Acelerar\n",
        "\n",
        "\n",
        "\n",
        "\n",
        "\n",
        "\n",
        "\n"
      ],
      "metadata": {
        "id": "rMZbKnYowwkc"
      }
    },
    {
      "cell_type": "markdown",
      "source": [
        "#**Ventajas**\n",
        "\n",
        "*   Programas divididos en \"trozos\", \"partes\", \"módulos\" o \"clases\". Modularización\n",
        "*   Muy reutilizable. Herencia\n",
        "*   Si existe algún fallo en alguna línea, el programa continuará con su funcionamiento, tratamiento de excepciones\n",
        "*  Encapsulamiento\n",
        "\n",
        "\n",
        "\n"
      ],
      "metadata": {
        "id": "dO3KhLDXxgdI"
      }
    },
    {
      "cell_type": "markdown",
      "source": [
        "#**Vocabulario de la POO**\n",
        "\n",
        "*   Clase\n",
        "*   Objeto\n",
        "*   Instanciar una clase\n",
        "*   Encapsulamiento\n",
        "*   Herencia\n",
        "*   Polimorfismo\n",
        "\n",
        "\n",
        "\n",
        "\n",
        "\n"
      ],
      "metadata": {
        "id": "JkZ-Z0LPzBKI"
      }
    },
    {
      "cell_type": "markdown",
      "source": [
        "#**Clase**\n",
        "\n",
        "modelo que tienen en común diferentes objetos\n",
        "\n",
        "**Ej:** un chasis y 4 llantas serían la clase de los diferentes carros"
      ],
      "metadata": {
        "id": "W-vCwr6J3hou"
      }
    },
    {
      "cell_type": "markdown",
      "source": [
        "#**Instancia**\n",
        "\n",
        "Es un objeto de una clase\n",
        "\n",
        "**Ej:** Un carro renault es una instancia de la clase carro, un carro susuki es otra instancia de la clase carro"
      ],
      "metadata": {
        "id": "FxESOFKW4DXZ"
      }
    },
    {
      "cell_type": "markdown",
      "source": [
        "#**Modularización**\n",
        "\n",
        "Los programas orientados a objetos están construidos por diferentes clases, modularización es dividir un programa en clases"
      ],
      "metadata": {
        "id": "P2bNxzZ84bm5"
      }
    },
    {
      "cell_type": "markdown",
      "source": [
        "#**Encapsulamiento**\n",
        "\n",
        "Encapsulamiento es restringir o proteger algunos comportamientos de una clase"
      ],
      "metadata": {
        "id": "V2x_7xdo4vm_"
      }
    },
    {
      "cell_type": "markdown",
      "source": [
        "#**Crear y llamar propiedades y comportamientos de un objeto**\n",
        "\n",
        "**Crear propiedades**\n",
        "\n",
        "miCoche.peso= 1000\n",
        "\n",
        "miCoche.color= \"Rojo\"\n",
        "\n",
        "miCoche.largo= 60\n",
        "\n",
        "**Lammar comportamientos**\n",
        "\n",
        "miCoche.arrancar()\n",
        "\n",
        "miCoche.frenar()\n",
        "\n",
        "miCoche.girar()"
      ],
      "metadata": {
        "id": "n56z0mqD5qzn"
      }
    }
  ]
}