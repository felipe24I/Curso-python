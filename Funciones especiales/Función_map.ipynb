{
  "nbformat": 4,
  "nbformat_minor": 0,
  "metadata": {
    "colab": {
      "provenance": [],
      "authorship_tag": "ABX9TyOCLVf5YY3DPNfuxUQEWS5k",
      "include_colab_link": true
    },
    "kernelspec": {
      "name": "python3",
      "display_name": "Python 3"
    },
    "language_info": {
      "name": "python"
    }
  },
  "cells": [
    {
      "cell_type": "markdown",
      "metadata": {
        "id": "view-in-github",
        "colab_type": "text"
      },
      "source": [
        "<a href=\"https://colab.research.google.com/github/felipe24I/Curso-python/blob/main/Funci%C3%B3n_map.ipynb\" target=\"_parent\"><img src=\"https://colab.research.google.com/assets/colab-badge.svg\" alt=\"Open In Colab\"/></a>"
      ]
    },
    {
      "cell_type": "markdown",
      "source": [
        "#**Función Map**\n",
        "Aplica una función a cada elemento de una lista iterable (listas, tuplas, etc) devolviendo una lista con los resultados"
      ],
      "metadata": {
        "id": "r8hMrR_Y_8h3"
      }
    },
    {
      "cell_type": "markdown",
      "source": [
        "En el siguiente ejemplo, se le aplicara comisión a empleados que tengan un sueldo menor o igual a 3000 dólares usando la función map"
      ],
      "metadata": {
        "id": "2K3K977NCMdK"
      }
    },
    {
      "cell_type": "code",
      "execution_count": 2,
      "metadata": {
        "colab": {
          "base_uri": "https://localhost:8080/"
        },
        "id": "A28WQ6Hu_qWT",
        "outputId": "8c6a7f54-481f-4d33-bece-f59246696f93"
      },
      "outputs": [
        {
          "output_type": "stream",
          "name": "stdout",
          "text": [
            "Juan que trabaja como Director tiene un salario de 6700 $\n",
            "Ana que trabaja como Presidenta tiene un salario de 7500 $\n",
            "Antonio que trabaja como Administrativo tiene un salario de 2163.0 $\n",
            "Sara que trabaja como Secretaria tiene un salario de 2214.5 $\n",
            "Mario que trabaja como Botones tiene un salario de 1854.0 $\n"
          ]
        }
      ],
      "source": [
        "class Empleado:\n",
        "\n",
        "  def __init__ (self, nombre, cargo, salario):\n",
        "    self.nombre = nombre\n",
        "    self.cargo = cargo\n",
        "    self.salario = salario\n",
        "\n",
        "  #Función __str__ devuelve un string con los atributos de cada objeto\n",
        "  def __str__(self):\n",
        "    return '{} que trabaja como {} tiene un salario de {} $'.format(self.nombre, self.cargo, self.salario)\n",
        "\n",
        "lista_empleados=[\n",
        "\n",
        "Empleado('Juan', 'Director', 6700),\n",
        "Empleado('Ana', 'Presidenta', 7500),\n",
        "Empleado('Antonio', 'Administrativo', 2100),\n",
        "Empleado('Sara', 'Secretaria', 2150),\n",
        "Empleado('Mario', 'Botones', 1800)\n",
        "\n",
        "]\n",
        "\n",
        "def calculo_comision (empleado):\n",
        "\n",
        "  if empleado.salario <= 3000:\n",
        "    empleado.salario = empleado.salario * 1.03\n",
        "\n",
        "  return empleado\n",
        "\n",
        "listaEmpleadosComision = map(calculo_comision, lista_empleados)\n",
        "\n",
        "for empleado in listaEmpleadosComision:\n",
        "  print(empleado)"
      ]
    }
  ]
}