{
  "nbformat": 4,
  "nbformat_minor": 0,
  "metadata": {
    "colab": {
      "provenance": [],
      "authorship_tag": "ABX9TyMkZEgJ6TvMIcetJTvzAwja",
      "include_colab_link": true
    },
    "kernelspec": {
      "name": "python3",
      "display_name": "Python 3"
    },
    "language_info": {
      "name": "python"
    }
  },
  "cells": [
    {
      "cell_type": "markdown",
      "metadata": {
        "id": "view-in-github",
        "colab_type": "text"
      },
      "source": [
        "<a href=\"https://colab.research.google.com/github/felipe24I/Curso-python/blob/main/Funci%C3%B3n_filter.ipynb\" target=\"_parent\"><img src=\"https://colab.research.google.com/assets/colab-badge.svg\" alt=\"Open In Colab\"/></a>"
      ]
    },
    {
      "cell_type": "markdown",
      "source": [
        "#**Función Filter**\n",
        "Es una función de orden superior, que permite el uso de la programación funcional\n",
        "\n",
        "Verifica que los elementos de una secuencia cumplen una condición, devolviendo un iterador con los elementos que cumplen dicha condición"
      ],
      "metadata": {
        "id": "Qq88FF8f1FoO"
      }
    },
    {
      "cell_type": "markdown",
      "source": [
        "Por ejemplo, se realizará una función que me devuelva los números pares de una lista"
      ],
      "metadata": {
        "id": "nf8au_KK2ACI"
      }
    },
    {
      "cell_type": "code",
      "execution_count": 3,
      "metadata": {
        "colab": {
          "base_uri": "https://localhost:8080/"
        },
        "id": "ax9LIuqF0-ep",
        "outputId": "5612939f-c002-4409-980c-b5291f9b20df"
      },
      "outputs": [
        {
          "output_type": "stream",
          "name": "stdout",
          "text": [
            "[24, 8, 92]\n"
          ]
        }
      ],
      "source": [
        "'''def numero_par (num):\n",
        "  if num % 2 == 0:\n",
        "    return True'''\n",
        "\n",
        "numeros = [17,24,7,39,8,51,92]\n",
        "print(list(filter(lambda numero_par : numero_par % 2 == 0, numeros))) #Nos devuelve un objeto, se le pone list para ver ese objeto en formato de lista\n"
      ]
    },
    {
      "cell_type": "markdown",
      "source": [
        "El uso más común de filter es para filtrar objetos"
      ],
      "metadata": {
        "id": "3ZS8zCLl4tZV"
      }
    },
    {
      "cell_type": "markdown",
      "source": [
        "En este ejemplo, se crearan objetos de tipo empleado con un nombre, un cargo y un salario, para que la función filter me filtre los empleados con un salario mayor a 50000 dolares"
      ],
      "metadata": {
        "id": "AJfO95Po40SR"
      }
    },
    {
      "cell_type": "code",
      "source": [
        "class Empleado:\n",
        "\n",
        "  def __init__ (self, nombre, cargo, salario):\n",
        "    self.nombre = nombre\n",
        "    self.cargo = cargo\n",
        "    self.salario = salario\n",
        "\n",
        "  #Función __str__ devuelve un string con los atributos de cada objeto\n",
        "  def __str__(self):\n",
        "    return '{} que trabaja como {} tiene un salario de {} $'.format(self.nombre, self.cargo, self.salario)\n",
        "\n",
        "lista_empleados=[\n",
        "\n",
        "Empleado('Juan', 'Director', 75000),\n",
        "Empleado('Ana', 'Presidenta', 85000),\n",
        "Empleado('Antonio', 'Administrativo', 25000),\n",
        "Empleado('Sara', 'Secretaria', 27000),\n",
        "Empleado('Mario', 'Botones', 21000)\n",
        "\n",
        "]\n",
        "\n",
        "salarios_altos = filter(lambda empleado : empleado.salario > 50000, lista_empleados)\n",
        "\n",
        "for empleado_salario in salarios_altos:\n",
        "\n",
        "  print(empleado_salario)\n",
        "\n",
        "#Nos devuelve el string de los objetos que cumplen esa condición"
      ],
      "metadata": {
        "colab": {
          "base_uri": "https://localhost:8080/"
        },
        "id": "_o_tpnDS5X7q",
        "outputId": "80707390-6714-42fa-8f0a-6b2200f39c2d"
      },
      "execution_count": 4,
      "outputs": [
        {
          "output_type": "stream",
          "name": "stdout",
          "text": [
            "Juan que trabaja como Director tiene un salario de 75000 $\n",
            "Ana que trabaja como Presidenta tiene un salario de 85000 $\n"
          ]
        }
      ]
    }
  ]
}