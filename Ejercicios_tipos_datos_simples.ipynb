{
  "nbformat": 4,
  "nbformat_minor": 0,
  "metadata": {
    "colab": {
      "provenance": [],
      "authorship_tag": "ABX9TyNA5ecb2Z2pBHFmXXX/c19Q",
      "include_colab_link": true
    },
    "kernelspec": {
      "name": "python3",
      "display_name": "Python 3"
    },
    "language_info": {
      "name": "python"
    }
  },
  "cells": [
    {
      "cell_type": "markdown",
      "metadata": {
        "id": "view-in-github",
        "colab_type": "text"
      },
      "source": [
        "<a href=\"https://colab.research.google.com/github/felipe24I/Curso-python/blob/main/Ejercicios_tipos_datos_simples.ipynb\" target=\"_parent\"><img src=\"https://colab.research.google.com/assets/colab-badge.svg\" alt=\"Open In Colab\"/></a>"
      ]
    },
    {
      "cell_type": "markdown",
      "source": [
        "#**Ejercicios de Tipos de Datos Simples**"
      ],
      "metadata": {
        "id": "bVgzLkHmgen2"
      }
    },
    {
      "cell_type": "markdown",
      "source": [
        "#**Ejercicio 1**\n",
        "\n",
        "Escribir un programa que muestre por pantalla la cadena ¡Hola Mundo!."
      ],
      "metadata": {
        "id": "kCZyOV1cghYu"
      }
    },
    {
      "cell_type": "code",
      "execution_count": null,
      "metadata": {
        "colab": {
          "base_uri": "https://localhost:8080/"
        },
        "id": "jvH7wLakgWm2",
        "outputId": "caf71863-9ef4-4f23-bea5-8f12ad28ac75"
      },
      "outputs": [
        {
          "output_type": "stream",
          "name": "stdout",
          "text": [
            "!Hola Mundo!.\n"
          ]
        }
      ],
      "source": [
        "print(\"!Hola Mundo!.\")"
      ]
    },
    {
      "cell_type": "markdown",
      "source": [
        "#**Ejercicio 2**\n",
        "\n",
        "Escribir un programa que almacene la cadena ¡Hola Mundo! en una variable y luego muestre por pantalla el contenido de la variable."
      ],
      "metadata": {
        "id": "g7qED0U0hIx2"
      }
    },
    {
      "cell_type": "code",
      "source": [
        "cadena=\"!Hola Mundo!.\"\n",
        "print(cadena)"
      ],
      "metadata": {
        "colab": {
          "base_uri": "https://localhost:8080/"
        },
        "id": "pThCUdMnhRiU",
        "outputId": "a8475c22-05bf-46ef-d0c2-dcb6ef797daa"
      },
      "execution_count": null,
      "outputs": [
        {
          "output_type": "stream",
          "name": "stdout",
          "text": [
            "!Hola Mundo!.\n"
          ]
        }
      ]
    },
    {
      "cell_type": "markdown",
      "source": [
        "#**Ejercicio 3**\n",
        "\n",
        "Escribir un programa que pregunte el nombre del usuario en la consola y después de que el usuario lo introduzca muestre por pantalla la cadena ¡Hola <nombre>!, donde <nombre> es el nombre que el usuario haya introducido."
      ],
      "metadata": {
        "id": "vePGgJyhhlsw"
      }
    },
    {
      "cell_type": "code",
      "source": [
        "nombre=input(\"Ingrese su nombre: \")\n",
        "print(\"Hola\",nombre)"
      ],
      "metadata": {
        "colab": {
          "base_uri": "https://localhost:8080/"
        },
        "id": "o5hFQ5ERhr1b",
        "outputId": "e7a1f87c-3f6e-44de-91ac-c391cea9b58d"
      },
      "execution_count": null,
      "outputs": [
        {
          "output_type": "stream",
          "name": "stdout",
          "text": [
            "Ingrese su nombre: Felipe\n",
            "Hola Felipe\n"
          ]
        }
      ]
    },
    {
      "cell_type": "markdown",
      "source": [
        "#**Ejercicio 4**\n",
        "\n",
        "Escribir un programa que muestre por pantalla el resultado de la siguiente operación aritmética $(\\frac{3+2}{2*5})^2$"
      ],
      "metadata": {
        "id": "ncGOv2euiFAI"
      }
    },
    {
      "cell_type": "code",
      "source": [
        "num=3+2\n",
        "dem=2*5\n",
        "result=(num/dem)**2\n",
        "print(result)"
      ],
      "metadata": {
        "colab": {
          "base_uri": "https://localhost:8080/"
        },
        "id": "NRaY2na8ikhP",
        "outputId": "d4192b0f-01f1-4f51-c9c7-5224f8c9057e"
      },
      "execution_count": null,
      "outputs": [
        {
          "output_type": "stream",
          "name": "stdout",
          "text": [
            "0.25\n"
          ]
        }
      ]
    },
    {
      "cell_type": "markdown",
      "source": [
        "#**Ejercicio 5**\n",
        "\n",
        "Escribir un programa que pregunte al usuario por el número de horas trabajadas y el coste por hora. Después debe mostrar por pantalla la paga que le corresponde."
      ],
      "metadata": {
        "id": "ALkRzHvlnk5v"
      }
    },
    {
      "cell_type": "code",
      "source": [
        "horas=int(input(\"Ingrese el numero de horas trabajadas: \"))\n",
        "coste=int(input(\"Ingrese el coste por hora: \"))\n",
        "pago=coste*horas\n",
        "print(\"Su pago correspondiente es: \",pago)"
      ],
      "metadata": {
        "colab": {
          "base_uri": "https://localhost:8080/"
        },
        "id": "qqRKqt2untiG",
        "outputId": "c4d1f2cb-66af-498e-c836-2070e2fb6c5b"
      },
      "execution_count": null,
      "outputs": [
        {
          "output_type": "stream",
          "name": "stdout",
          "text": [
            "Ingrese el numero de horas trabajadas: 8\n",
            "Ingrese el coste por hora: 7000\n",
            "Su pago correspondiente es:  56000\n"
          ]
        }
      ]
    },
    {
      "cell_type": "markdown",
      "source": [
        "#**Ejercicio 6**\n",
        "\n",
        "Escribir un programa que lea un entero positivo, $n$\n",
        ", introducido por el usuario y después muestre en pantalla la suma de todos los enteros desde 1 hasta $n$\n",
        ". La suma de los\n",
        " $n$ primeros enteros positivos puede ser calculada de la siguiente forma:\n",
        "\n",
        " $$ \\mbox{suma} = \\frac{n(n+1)}{2} $$"
      ],
      "metadata": {
        "id": "pMj0foa0o007"
      }
    },
    {
      "cell_type": "code",
      "source": [
        "n=int(input(\"Introduzca un entero positivo: \"))\n",
        "suma=(n*(n+1))/2\n",
        "print(\"La suma de todos los enteros desde 1 hasta n es: \",suma)"
      ],
      "metadata": {
        "colab": {
          "base_uri": "https://localhost:8080/"
        },
        "id": "SrLJzDXCpDhr",
        "outputId": "70df3454-badd-4969-d17b-4dca05350ec3"
      },
      "execution_count": null,
      "outputs": [
        {
          "output_type": "stream",
          "name": "stdout",
          "text": [
            "Introduzca un entero positivo: 3\n",
            "La suma de todos los enteros desde 1 hasta n es:  6.0\n"
          ]
        }
      ]
    },
    {
      "cell_type": "markdown",
      "source": [
        "#**Ejercicio 7**\n",
        "\n",
        "Escribir un programa que pida al usuario su peso (en kg) y estatura (en metros), calcule el índice de masa corporal y lo almacene en una variable, y muestre por pantalla la frase Tu índice de masa corporal es <imc> donde <imc> es el índice de masa corporal calculado redondeado con dos decimales."
      ],
      "metadata": {
        "id": "n_XUMc_AsQNN"
      }
    },
    {
      "cell_type": "code",
      "source": [
        "try:\n",
        "  peso=float(input(\"Ingrese su peso (Kg): \"))\n",
        "  estatura=float(input(\"Ingrese su estatura (Mts): \"))\n",
        "except ValueError:\n",
        "  print(\"Los valores deben ser numéricos\")\n",
        "  IMC=0\n",
        "\n",
        "if peso <=0 or estatura <=0:\n",
        "  print(\"El peso y la estatura deben ser mayor a cero\")\n",
        "\n",
        "while peso <=0 or estatura <=0:\n",
        "  try:\n",
        "    peso=float(input(\"Ingrese su peso (Kg): \"))\n",
        "    estatura=float(input(\"Ingrese su estatura (Mts): \"))\n",
        "  except ValueError:\n",
        "    print(\"Los valores deben ser numéricos\")\n",
        "    IMC=0\n",
        "  if peso <=0 or estatura <=0:\n",
        "    print(\"El peso y la estatura deben ser mayor a cero\")\n",
        "\n",
        "IMC= peso/estatura**2\n",
        "IMC_aprox=round(IMC,2)\n",
        "print(\"Su IMC es: \",IMC_aprox)"
      ],
      "metadata": {
        "colab": {
          "base_uri": "https://localhost:8080/"
        },
        "id": "6zGDq4NQsP7h",
        "outputId": "d0b960b1-ca1b-4cac-ffde-440c22d9c599"
      },
      "execution_count": 2,
      "outputs": [
        {
          "output_type": "stream",
          "name": "stdout",
          "text": [
            "Ingrese su peso (Kg): 0\n",
            "Ingrese su estatura (Mts): 23\n",
            "El peso y la estatura deben ser mayor a cero\n",
            "Ingrese su peso (Kg): 34\n",
            "Ingrese su estatura (Mts): 0\n",
            "El peso y la estatura deben ser mayor a cero\n",
            "Ingrese su peso (Kg): 54\n",
            "Ingrese su estatura (Mts): 1.54\n",
            "Su IMC es:  22.77\n"
          ]
        }
      ]
    },
    {
      "cell_type": "markdown",
      "source": [
        "#**Ejercicio 8**\n",
        "\n",
        "Escribir un programa que pida al usuario dos números enteros y muestre por pantalla la $n$ entre $m$ da un cociente $c$ y un resto $r$ donde $n$ y $m$ son los números introducidos por el usuario, y $c$ y $r$ son el cociente y el resto de la división entera respectivamente."
      ],
      "metadata": {
        "id": "vRvnJBvFPbb_"
      }
    },
    {
      "cell_type": "code",
      "source": [
        "bandera=True\n",
        "m=0\n",
        "while m == 0 or bandera:\n",
        " try:\n",
        "  n=int(input(\"Ingrese un numero entero: \"))\n",
        "  m=int(input(\"Ingrese otro numero entero: \"))\n",
        "  bandera=False\n",
        "  if m==0:\n",
        "    print(\"El divisor debe ser diferente de cero\")\n",
        "    print(\"Intentalo de nuevo\")\n",
        " except ValueError:\n",
        "  print(\"Los valores deben ser numeros enteros\")\n",
        "  print(\"intentalo de nuevo\")\n",
        "\n",
        "c=n/m\n",
        "r=n%m\n",
        "print(n,\" entre \",m,\" da un cociente \",c,\" y un resto \",r)\n",
        "\n",
        "\n"
      ],
      "metadata": {
        "colab": {
          "base_uri": "https://localhost:8080/"
        },
        "id": "6ZLkSXurP3rb",
        "outputId": "07b1691a-2366-402e-fe1a-14d7fcb4e2ae"
      },
      "execution_count": 17,
      "outputs": [
        {
          "output_type": "stream",
          "name": "stdout",
          "text": [
            "Ingrese un numero entero: edf\n",
            "Los valores deben ser numeros enteros\n",
            "intentalo de nuevo\n",
            "Ingrese un numero entero: eff\n",
            "Los valores deben ser numeros enteros\n",
            "intentalo de nuevo\n",
            "Ingrese un numero entero: 56\n",
            "Ingrese otro numero entero: 0\n",
            "El divisor debe ser diferente de cero\n",
            "Intentalo de nuevo\n",
            "Ingrese un numero entero: 4\n",
            "Ingrese otro numero entero: -5\n",
            "4  entre  -5  da un cociente  -0.8  y un resto  -1\n"
          ]
        }
      ]
    },
    {
      "cell_type": "markdown",
      "source": [
        "#**Ejercicio 9**\n",
        "\n",
        "Escribir un programa que pregunte al usuario una cantidad a invertir, el interés anual y el número de años, y muestre por pantalla el capital obtenido en la inversión."
      ],
      "metadata": {
        "id": "HxO1F9J9Xuda"
      }
    },
    {
      "cell_type": "code",
      "source": [
        "\n",
        "while True:\n",
        "  try:\n",
        "    invertir=int(input(\"Ingrese la cantidad a invertir: \"))\n",
        "    if invertir<=0:\n",
        "      raise ZeroDivisionError (\"La inversion no puede ser menores o iguales a cero\")\n",
        "    interes_anual=int(input(\"Ingrese el interes anual: \"))\n",
        "    if interes_anual<=0:\n",
        "      raise ZeroDivisionError (\"El interés anual no puede ser menor o igual a cero\")\n",
        "    num_años=int(input(\"Ingrese el numero de años: \"))\n",
        "    if num_años<=0:\n",
        "      raise ZeroDivisionError (\"El numero de años no puede ser menores o iguales a cero\")\n",
        "    break\n",
        "\n",
        "  except ValueError:\n",
        "    print(\"Los valores deben ser enteros\")\n",
        "    print(\"Intentalo nuevamente\")\n",
        "  except ZeroDivisionError as NumeroNegativo:\n",
        "    print(NumeroNegativo)\n",
        "\n",
        "\n",
        "capital=(invertir*interes_anual)/100\n",
        "capital=capital*num_años\n",
        "print(\"El capital obtenido en la inversion es: \",capital)"
      ],
      "metadata": {
        "colab": {
          "base_uri": "https://localhost:8080/"
        },
        "id": "ao-GMvuSXo_C",
        "outputId": "ccfd0248-d947-418c-9a98-b3a48107a63b"
      },
      "execution_count": 24,
      "outputs": [
        {
          "output_type": "stream",
          "name": "stdout",
          "text": [
            "Ingrese la cantidad a invertir: -23\n",
            "La inversion no puede ser menores o iguales a cero\n",
            "Ingrese la cantidad a invertir: 1000000\n",
            "Ingrese el interes anual: -25\n",
            "El interés anual no puede ser menor o igual a cero\n",
            "Ingrese la cantidad a invertir: 1000000\n",
            "Ingrese el interes anual: 15\n",
            "Ingrese el numero de años: 0\n",
            "El numero de años no puede ser menores o iguales a cero\n",
            "Ingrese la cantidad a invertir: 1000000\n",
            "Ingrese el interes anual: 15\n",
            "Ingrese el numero de años: 2\n",
            "El capital obtenido en la inversion es:  300000.0\n"
          ]
        }
      ]
    }
  ]
}