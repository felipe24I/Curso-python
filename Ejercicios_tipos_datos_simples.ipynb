{
  "nbformat": 4,
  "nbformat_minor": 0,
  "metadata": {
    "colab": {
      "provenance": [],
      "authorship_tag": "ABX9TyPfP/kT8w82IWaESxGb//kt",
      "include_colab_link": true
    },
    "kernelspec": {
      "name": "python3",
      "display_name": "Python 3"
    },
    "language_info": {
      "name": "python"
    }
  },
  "cells": [
    {
      "cell_type": "markdown",
      "metadata": {
        "id": "view-in-github",
        "colab_type": "text"
      },
      "source": [
        "<a href=\"https://colab.research.google.com/github/felipe24I/Curso-python/blob/main/Ejercicios_tipos_datos_simples.ipynb\" target=\"_parent\"><img src=\"https://colab.research.google.com/assets/colab-badge.svg\" alt=\"Open In Colab\"/></a>"
      ]
    },
    {
      "cell_type": "markdown",
      "source": [
        "#**Ejercicios de Tipos de Datos Simples**"
      ],
      "metadata": {
        "id": "bVgzLkHmgen2"
      }
    },
    {
      "cell_type": "markdown",
      "source": [
        "#**Ejercicio 1**\n",
        "\n",
        "Escribir un programa que muestre por pantalla la cadena ¡Hola Mundo!."
      ],
      "metadata": {
        "id": "kCZyOV1cghYu"
      }
    },
    {
      "cell_type": "code",
      "execution_count": null,
      "metadata": {
        "colab": {
          "base_uri": "https://localhost:8080/"
        },
        "id": "jvH7wLakgWm2",
        "outputId": "caf71863-9ef4-4f23-bea5-8f12ad28ac75"
      },
      "outputs": [
        {
          "output_type": "stream",
          "name": "stdout",
          "text": [
            "!Hola Mundo!.\n"
          ]
        }
      ],
      "source": [
        "print(\"!Hola Mundo!.\")"
      ]
    },
    {
      "cell_type": "markdown",
      "source": [
        "#**Ejercicio 2**\n",
        "\n",
        "Escribir un programa que almacene la cadena ¡Hola Mundo! en una variable y luego muestre por pantalla el contenido de la variable."
      ],
      "metadata": {
        "id": "g7qED0U0hIx2"
      }
    },
    {
      "cell_type": "code",
      "source": [
        "cadena=\"!Hola Mundo!.\"\n",
        "print(cadena)"
      ],
      "metadata": {
        "colab": {
          "base_uri": "https://localhost:8080/"
        },
        "id": "pThCUdMnhRiU",
        "outputId": "a8475c22-05bf-46ef-d0c2-dcb6ef797daa"
      },
      "execution_count": null,
      "outputs": [
        {
          "output_type": "stream",
          "name": "stdout",
          "text": [
            "!Hola Mundo!.\n"
          ]
        }
      ]
    },
    {
      "cell_type": "markdown",
      "source": [
        "#**Ejercicio 3**\n",
        "\n",
        "Escribir un programa que pregunte el nombre del usuario en la consola y después de que el usuario lo introduzca muestre por pantalla la cadena ¡Hola <nombre>!, donde <nombre> es el nombre que el usuario haya introducido."
      ],
      "metadata": {
        "id": "vePGgJyhhlsw"
      }
    },
    {
      "cell_type": "code",
      "source": [
        "nombre=input(\"Ingrese su nombre: \")\n",
        "print(\"Hola\",nombre)"
      ],
      "metadata": {
        "colab": {
          "base_uri": "https://localhost:8080/"
        },
        "id": "o5hFQ5ERhr1b",
        "outputId": "e7a1f87c-3f6e-44de-91ac-c391cea9b58d"
      },
      "execution_count": null,
      "outputs": [
        {
          "output_type": "stream",
          "name": "stdout",
          "text": [
            "Ingrese su nombre: Felipe\n",
            "Hola Felipe\n"
          ]
        }
      ]
    },
    {
      "cell_type": "markdown",
      "source": [
        "#**Ejercicio 4**\n",
        "\n",
        "Escribir un programa que muestre por pantalla el resultado de la siguiente operación aritmética $(\\frac{3+2}{2*5})^2$"
      ],
      "metadata": {
        "id": "ncGOv2euiFAI"
      }
    },
    {
      "cell_type": "code",
      "source": [
        "num=3+2\n",
        "dem=2*5\n",
        "result=(num/dem)**2\n",
        "print(result)"
      ],
      "metadata": {
        "colab": {
          "base_uri": "https://localhost:8080/"
        },
        "id": "NRaY2na8ikhP",
        "outputId": "d4192b0f-01f1-4f51-c9c7-5224f8c9057e"
      },
      "execution_count": null,
      "outputs": [
        {
          "output_type": "stream",
          "name": "stdout",
          "text": [
            "0.25\n"
          ]
        }
      ]
    },
    {
      "cell_type": "markdown",
      "source": [
        "#**Ejercicio 5**\n",
        "\n",
        "Escribir un programa que pregunte al usuario por el número de horas trabajadas y el coste por hora. Después debe mostrar por pantalla la paga que le corresponde."
      ],
      "metadata": {
        "id": "ALkRzHvlnk5v"
      }
    },
    {
      "cell_type": "code",
      "source": [
        "horas=int(input(\"Ingrese el numero de horas trabajadas: \"))\n",
        "coste=int(input(\"Ingrese el coste por hora: \"))\n",
        "pago=coste*horas\n",
        "print(\"Su pago correspondiente es: \",pago)"
      ],
      "metadata": {
        "colab": {
          "base_uri": "https://localhost:8080/"
        },
        "id": "qqRKqt2untiG",
        "outputId": "c4d1f2cb-66af-498e-c836-2070e2fb6c5b"
      },
      "execution_count": null,
      "outputs": [
        {
          "output_type": "stream",
          "name": "stdout",
          "text": [
            "Ingrese el numero de horas trabajadas: 8\n",
            "Ingrese el coste por hora: 7000\n",
            "Su pago correspondiente es:  56000\n"
          ]
        }
      ]
    },
    {
      "cell_type": "markdown",
      "source": [
        "#**Ejercicio 6**\n",
        "\n",
        "Escribir un programa que lea un entero positivo, $n$\n",
        ", introducido por el usuario y después muestre en pantalla la suma de todos los enteros desde 1 hasta $n$\n",
        ". La suma de los\n",
        " $n$ primeros enteros positivos puede ser calculada de la siguiente forma:\n",
        "\n",
        " $$ \\mbox{suma} = \\frac{n(n+1)}{2} $$"
      ],
      "metadata": {
        "id": "pMj0foa0o007"
      }
    },
    {
      "cell_type": "code",
      "source": [
        "n=int(input(\"Introduzca un entero positivo: \"))\n",
        "suma=(n*(n+1))/2\n",
        "print(\"La suma de todos los enteros desde 1 hasta n es: \",suma)"
      ],
      "metadata": {
        "colab": {
          "base_uri": "https://localhost:8080/"
        },
        "id": "SrLJzDXCpDhr",
        "outputId": "70df3454-badd-4969-d17b-4dca05350ec3"
      },
      "execution_count": null,
      "outputs": [
        {
          "output_type": "stream",
          "name": "stdout",
          "text": [
            "Introduzca un entero positivo: 3\n",
            "La suma de todos los enteros desde 1 hasta n es:  6.0\n"
          ]
        }
      ]
    },
    {
      "cell_type": "markdown",
      "source": [
        "#**Ejercicio 7**\n",
        "\n",
        "Escribir un programa que pida al usuario su peso (en kg) y estatura (en metros), calcule el índice de masa corporal y lo almacene en una variable, y muestre por pantalla la frase Tu índice de masa corporal es <imc> donde <imc> es el índice de masa corporal calculado redondeado con dos decimales."
      ],
      "metadata": {
        "id": "n_XUMc_AsQNN"
      }
    },
    {
      "cell_type": "code",
      "source": [
        "try:\n",
        "  peso=float(input(\"Ingrese su peso (Kg): \"))\n",
        "  estatura=float(input(\"Ingrese su estatura (Mts): \"))\n",
        "except ValueError:\n",
        "  print(\"Los valores deben ser numéricos\")\n",
        "  IMC=0\n",
        "\n",
        "if peso <=0 or estatura <=0:\n",
        "  print(\"El peso y la estatura deben ser mayor a cero\")\n",
        "\n",
        "while peso <=0 or estatura <=0:\n",
        "  try:\n",
        "    peso=float(input(\"Ingrese su peso (Kg): \"))\n",
        "    estatura=float(input(\"Ingrese su estatura (Mts): \"))\n",
        "  except ValueError:\n",
        "    print(\"Los valores deben ser numéricos\")\n",
        "    IMC=0\n",
        "  if peso <=0 or estatura <=0:\n",
        "    print(\"El peso y la estatura deben ser mayor a cero\")\n",
        "\n",
        "IMC= peso/estatura**2\n",
        "IMC_aprox=round(IMC,2)\n",
        "print(\"Su IMC es: \",IMC_aprox)"
      ],
      "metadata": {
        "colab": {
          "base_uri": "https://localhost:8080/"
        },
        "id": "6zGDq4NQsP7h",
        "outputId": "d0b960b1-ca1b-4cac-ffde-440c22d9c599"
      },
      "execution_count": 2,
      "outputs": [
        {
          "output_type": "stream",
          "name": "stdout",
          "text": [
            "Ingrese su peso (Kg): 0\n",
            "Ingrese su estatura (Mts): 23\n",
            "El peso y la estatura deben ser mayor a cero\n",
            "Ingrese su peso (Kg): 34\n",
            "Ingrese su estatura (Mts): 0\n",
            "El peso y la estatura deben ser mayor a cero\n",
            "Ingrese su peso (Kg): 54\n",
            "Ingrese su estatura (Mts): 1.54\n",
            "Su IMC es:  22.77\n"
          ]
        }
      ]
    },
    {
      "cell_type": "markdown",
      "source": [
        "#**Ejercicio 8**\n",
        "\n",
        "Escribir un programa que pida al usuario dos números enteros y muestre por pantalla la $n$ entre $m$ da un cociente $c$ y un resto $r$ donde $n$ y $m$ son los números introducidos por el usuario, y $c$ y $r$ son el cociente y el resto de la división entera respectivamente."
      ],
      "metadata": {
        "id": "vRvnJBvFPbb_"
      }
    },
    {
      "cell_type": "code",
      "source": [
        "bandera=True\n",
        "m=0\n",
        "while m == 0 or bandera:\n",
        " try:\n",
        "  n=int(input(\"Ingrese un numero entero: \"))\n",
        "  m=int(input(\"Ingrese otro numero entero: \"))\n",
        "  bandera=False\n",
        "  if m==0:\n",
        "    print(\"El divisor debe ser diferente de cero\")\n",
        "    print(\"Intentalo de nuevo\")\n",
        " except ValueError:\n",
        "  print(\"Los valores deben ser numeros enteros\")\n",
        "  print(\"intentalo de nuevo\")\n",
        "\n",
        "c=n/m\n",
        "r=n%m\n",
        "print(n,\" entre \",m,\" da un cociente \",c,\" y un resto \",r)\n",
        "\n",
        "\n"
      ],
      "metadata": {
        "colab": {
          "base_uri": "https://localhost:8080/"
        },
        "id": "6ZLkSXurP3rb",
        "outputId": "07b1691a-2366-402e-fe1a-14d7fcb4e2ae"
      },
      "execution_count": 17,
      "outputs": [
        {
          "output_type": "stream",
          "name": "stdout",
          "text": [
            "Ingrese un numero entero: edf\n",
            "Los valores deben ser numeros enteros\n",
            "intentalo de nuevo\n",
            "Ingrese un numero entero: eff\n",
            "Los valores deben ser numeros enteros\n",
            "intentalo de nuevo\n",
            "Ingrese un numero entero: 56\n",
            "Ingrese otro numero entero: 0\n",
            "El divisor debe ser diferente de cero\n",
            "Intentalo de nuevo\n",
            "Ingrese un numero entero: 4\n",
            "Ingrese otro numero entero: -5\n",
            "4  entre  -5  da un cociente  -0.8  y un resto  -1\n"
          ]
        }
      ]
    },
    {
      "cell_type": "markdown",
      "source": [
        "#**Ejercicio 9**\n",
        "\n",
        "Escribir un programa que pregunte al usuario una cantidad a invertir, el interés anual y el número de años, y muestre por pantalla el capital obtenido en la inversión."
      ],
      "metadata": {
        "id": "HxO1F9J9Xuda"
      }
    },
    {
      "cell_type": "code",
      "source": [
        "\n",
        "while True:\n",
        "  try:\n",
        "    invertir=int(input(\"Ingrese la cantidad a invertir: \"))\n",
        "    if invertir<=0:\n",
        "      raise ZeroDivisionError (\"La inversion no puede ser menores o iguales a cero\\nintentalo de nuevo\")\n",
        "    break\n",
        "  except ValueError:\n",
        "    print(\"La cantidad a invertir debe ser un numero entero\")\n",
        "    print(\"Intentalo nuevamente\")\n",
        "  except ZeroDivisionError as NumeroNegativo:\n",
        "    print(NumeroNegativo)\n",
        "\n",
        "while True:\n",
        "  try:\n",
        "    interes_anual=int(input(\"Ingrese el interes anual: \"))\n",
        "    if interes_anual<=0:\n",
        "      raise ZeroDivisionError (\"El interés anual no puede ser menor o igual a cero\\nintentalo de nuevo\")\n",
        "    break\n",
        "  except ValueError:\n",
        "    print(\"El interes anual debe ser un numero entero\")\n",
        "    print(\"Intentalo nuevamente\")\n",
        "  except ZeroDivisionError as NumeroNegativo:\n",
        "    print(NumeroNegativo)\n",
        "\n",
        "while True:\n",
        "  try:\n",
        "    num_años=int(input(\"Ingrese el numero de años: \"))\n",
        "    if num_años<=0:\n",
        "      raise ZeroDivisionError (\"El numero de años no puede ser menores o iguales a cero\\nintentalo de nuevo\")\n",
        "    break\n",
        "  except ValueError:\n",
        "    print(\"El numero de años debe ser un numero entero\")\n",
        "    print(\"Intentalo nuevamente\")\n",
        "  except ZeroDivisionError as NumeroNegativo:\n",
        "    print(NumeroNegativo)\n",
        "\n",
        "\n",
        "\n",
        "capital=(invertir*interes_anual)/100\n",
        "capital=capital*num_años\n",
        "print(\"El capital obtenido en la inversion es: \",capital)"
      ],
      "metadata": {
        "colab": {
          "base_uri": "https://localhost:8080/"
        },
        "id": "ao-GMvuSXo_C",
        "outputId": "1716f5b8-6a39-4c85-f2d9-572c9374b90f"
      },
      "execution_count": 26,
      "outputs": [
        {
          "output_type": "stream",
          "name": "stdout",
          "text": [
            "Ingrese la cantidad a invertir: e\n",
            "La cantidad a invertir debe ser un numero entero\n",
            "Intentalo nuevamente\n",
            "Ingrese la cantidad a invertir: 1000000\n",
            "Ingrese el interes anual: e\n",
            "El interes anual debe ser un numero entero\n",
            "Intentalo nuevamente\n",
            "Ingrese el interes anual: -12\n",
            "El interés anual no puede ser menor o igual a cero\n",
            "intentalo de nuevo\n",
            "Ingrese el interes anual: 15\n",
            "Ingrese el numero de años: o\n",
            "El numero de años debe ser un numero entero\n",
            "Intentalo nuevamente\n",
            "Ingrese el numero de años: 0\n",
            "El numero de años no puede ser menores o iguales a cero\n",
            "intentalo de nuevo\n",
            "Ingrese el numero de años: 2\n",
            "El capital obtenido en la inversion es:  300000.0\n"
          ]
        }
      ]
    },
    {
      "cell_type": "markdown",
      "source": [
        "#**Ejercicio 10**\n",
        "\n",
        "Una juguetería tiene mucho éxito en dos de sus productos: payasos y muñecas. Suele hacer venta por correo y la empresa de logística les cobra por peso de cada paquete así que deben calcular el peso de los payasos y muñecas que saldrán en cada paquete a demanda. Cada payaso pesa 112 g y cada muñeca 75 g. Escribir un programa que lea el número de payasos y muñecas vendidos en el último pedido y calcule el peso total del paquete que será enviado.\n",
        "\n"
      ],
      "metadata": {
        "id": "XM5w3-Xmtrms"
      }
    },
    {
      "cell_type": "code",
      "source": [
        "\n",
        "def cal_peso_total (num_payasos,num_munecas):\n",
        "  peso_payaso=112\n",
        "  peso_muneca=75\n",
        "  peso_paquete=(peso_payaso*num_payasos)+(peso_muneca*num_munecas)\n",
        "  return peso_paquete\n",
        "\n",
        "while True:\n",
        "  try:\n",
        "    num_payasos=int(input(\"Ingrese el numero de payasos vendidos en el último pedido: \"))\n",
        "    if num_payasos <0:\n",
        "      raise ZeroDivisionError(\"El numero de payasos vendidos en el último pedido no puede ser menor que cero\\nIntentalo de nuevo\")\n",
        "    break\n",
        "  except ValueError:\n",
        "    print(\"El número de payasos vendidos debe ser entero\\nintentalo de nuevo \")\n",
        "  except ZeroDivisionError as NumeroNegativo:\n",
        "    print(NumeroNegativo)\n",
        "\n",
        "while True:\n",
        "  try:\n",
        "    num_munecas=int(input(\"Ingrese el numero de muñecas vendidas en el último pedido: \"))\n",
        "    if num_munecas <0:\n",
        "      raise ZeroDivisionError(\"El numero de mueñcas vendidas en el último pedido no puede ser menor que cero\\nIntentalo de nuevo\")\n",
        "    break\n",
        "  except ValueError:\n",
        "    print(\"El número de muñecas vendidos debe ser entero\\nintentalo de nuevo \")\n",
        "  except ZeroDivisionError as NumeroNegativo:\n",
        "    print(NumeroNegativo)\n",
        "\n",
        "peso_paquete=cal_peso_total(num_payasos,num_munecas)\n",
        "print(\"El peso total del paquete es: \",peso_paquete,\" g\")"
      ],
      "metadata": {
        "colab": {
          "base_uri": "https://localhost:8080/"
        },
        "id": "JVTfhqQ7v8PF",
        "outputId": "05c40ab1-9612-46aa-f957-1125a6807e8b"
      },
      "execution_count": 28,
      "outputs": [
        {
          "output_type": "stream",
          "name": "stdout",
          "text": [
            "Ingrese el numero de payasos vendidos en el último pedido: e\n",
            "El número de payasos vendidos debe ser entero\n",
            "intentalo de nuevo \n",
            "Ingrese el numero de payasos vendidos en el último pedido: -23\n",
            "El numero de payasos vendidos en el último pedido no puede ser menor que cero\n",
            "Intentalo de nuevo\n",
            "Ingrese el numero de payasos vendidos en el último pedido: e\n",
            "El número de payasos vendidos debe ser entero\n",
            "intentalo de nuevo \n",
            "Ingrese el numero de payasos vendidos en el último pedido: -5\n",
            "El numero de payasos vendidos en el último pedido no puede ser menor que cero\n",
            "Intentalo de nuevo\n",
            "Ingrese el numero de payasos vendidos en el último pedido: 2\n",
            "Ingrese el numero de muñecas vendidas en el último pedido: e\n",
            "El número de muñecas vendidos debe ser entero\n",
            "intentalo de nuevo \n",
            "Ingrese el numero de muñecas vendidas en el último pedido: -34\n",
            "El numero de mueñcas vendidas en el último pedido no puede ser menor que cero\n",
            "Intentalo de nuevo\n",
            "Ingrese el numero de muñecas vendidas en el último pedido: 2\n",
            "El peso total del paquete es:  374  g\n"
          ]
        }
      ]
    },
    {
      "cell_type": "markdown",
      "source": [
        "#**Ejercicio 11**\n",
        "\n",
        "Imagina que acabas de abrir una nueva cuenta de ahorros que te ofrece el 4% de interés al año. Estos ahorros debido a intereses, que no se cobran hasta finales de año, se te añaden al balance final de tu cuenta de ahorros. Escribir un programa que comience leyendo la cantidad de dinero depositada en la cuenta de ahorros, introducida por el usuario. Después el programa debe calcular y mostrar por pantalla la cantidad de ahorros tras el primer, segundo y tercer años. Redondear cada cantidad a dos decimales."
      ],
      "metadata": {
        "id": "2dgTJRwizlL_"
      }
    },
    {
      "cell_type": "code",
      "source": [
        "class cuenta_ahorros:\n",
        "\n",
        "  def __init__(self):\n",
        "    print(\"Bienvenido usuario\\n\")\n",
        "    self.nombre=input(\"Ingrese su nombre: \")\n",
        "    self.cedula=int(input(\"Ingrese su numero de cedula: \"))\n",
        "    self.telefono=int(input(\"Ingrese su numero de telefono: \"))\n",
        "    self.correo=input(\"Ingrese su correo electrónico: \")\n",
        "\n",
        "  def depositar(self):\n",
        "    dinero=int(input(\"Ingrese cuanto dinero va a depositar en tu cuenta de ahorros: \"))\n",
        "    self.dinero=dinero\n",
        "    print(\"Gracias por su deposito, que tenga buen día\")\n",
        "\n",
        "  def retirar(self):\n",
        "    retiro=int(input(\"Ingrese cuanto dinero piensa retirar: \"))\n",
        "    self.dinero=self.dinero-retiro\n",
        "\n",
        "  def estado_cuenta(self):\n",
        "    print(\"Nombre: \",self.nombre,\"\\nDinero disponible: \",self.dinero)\n",
        "\n",
        "  def proyeccion(self):\n",
        "    interes_año=4\n",
        "    interes_1año=(self.dinero*interes_año)/100\n",
        "    ahorro_1año=round(self.dinero+interes_1año,2)\n",
        "    print(\"La cantidad de ahorros tras el primer año es: \",ahorro_1año)\n",
        "    interes_2año=(ahorro_1año*interes_año)/100\n",
        "    ahorro_2año=round(ahorro_1año+interes_2año,2)\n",
        "    print(\"La cantidad de ahorros tras el segundo año es: \",ahorro_2año)\n",
        "    interes_3año=(ahorro_2año*interes_año)/100\n",
        "    ahorro_3año=round(ahorro_2año+interes_3año,2)\n",
        "    print(\"La cantidad de ahorros tras el tercer año es: \",ahorro_3año)\n",
        "\n",
        "cuenta1=cuenta_ahorros()\n",
        "cuenta1.depositar()\n",
        "cuenta1.estado_cuenta()\n",
        "cuenta1.proyeccion()\n",
        "cuenta1.retirar()\n",
        "cuenta1.estado_cuenta()\n",
        "\n",
        "\n"
      ],
      "metadata": {
        "colab": {
          "base_uri": "https://localhost:8080/"
        },
        "id": "YdW8z5bZznBH",
        "outputId": "1dfbc310-62ee-4bcf-f854-357b78e9ec9c"
      },
      "execution_count": 39,
      "outputs": [
        {
          "output_type": "stream",
          "name": "stdout",
          "text": [
            "Bienvenido usuario\n",
            "\n",
            "Ingrese su nombre: Felipe\n",
            "Ingrese su numero de cedula: 1002632670\n",
            "Ingrese su numero de telefono: 3123633982\n",
            "Ingrese su correo electrónico: felipeiq24@gmail.com\n",
            "Ingrese cuanto dinero va a depositar en tu cuenta de ahorros: 1000000\n",
            "Gracias por su deposito, que tenga buen día\n",
            "Nombre:  Felipe \n",
            "Dinero disponible:  1000000\n",
            "La cantidad de ahorros tras el primer año es:  1040000.0\n",
            "La cantidad de ahorros tras el segundo año es:  1081600.0\n",
            "La cantidad de ahorros tras el tercer año es:  1124864.0\n",
            "Ingrese cuanto dinero piensa retirar: 120000\n",
            "Nombre:  Felipe \n",
            "Dinero disponible:  880000\n"
          ]
        }
      ]
    }
  ]
}