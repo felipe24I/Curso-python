{
  "nbformat": 4,
  "nbformat_minor": 0,
  "metadata": {
    "colab": {
      "provenance": [],
      "authorship_tag": "ABX9TyNQAaYomMHX+mprN166j4vu",
      "include_colab_link": true
    },
    "kernelspec": {
      "name": "python3",
      "display_name": "Python 3"
    },
    "language_info": {
      "name": "python"
    }
  },
  "cells": [
    {
      "cell_type": "markdown",
      "metadata": {
        "id": "view-in-github",
        "colab_type": "text"
      },
      "source": [
        "<a href=\"https://colab.research.google.com/github/felipe24I/Curso-python/blob/main/Ejercicios_tipos_datos_simples.ipynb\" target=\"_parent\"><img src=\"https://colab.research.google.com/assets/colab-badge.svg\" alt=\"Open In Colab\"/></a>"
      ]
    },
    {
      "cell_type": "markdown",
      "source": [
        "#**Ejercicios de Tipos de Datos Simples**"
      ],
      "metadata": {
        "id": "bVgzLkHmgen2"
      }
    },
    {
      "cell_type": "markdown",
      "source": [
        "#**Ejercicio 1**\n",
        "\n",
        "Escribir un programa que muestre por pantalla la cadena ¡Hola Mundo!."
      ],
      "metadata": {
        "id": "kCZyOV1cghYu"
      }
    },
    {
      "cell_type": "code",
      "execution_count": null,
      "metadata": {
        "colab": {
          "base_uri": "https://localhost:8080/"
        },
        "id": "jvH7wLakgWm2",
        "outputId": "caf71863-9ef4-4f23-bea5-8f12ad28ac75"
      },
      "outputs": [
        {
          "output_type": "stream",
          "name": "stdout",
          "text": [
            "!Hola Mundo!.\n"
          ]
        }
      ],
      "source": [
        "print(\"!Hola Mundo!.\")"
      ]
    },
    {
      "cell_type": "markdown",
      "source": [
        "#**Ejercicio 2**\n",
        "\n",
        "Escribir un programa que almacene la cadena ¡Hola Mundo! en una variable y luego muestre por pantalla el contenido de la variable."
      ],
      "metadata": {
        "id": "g7qED0U0hIx2"
      }
    },
    {
      "cell_type": "code",
      "source": [
        "cadena=\"!Hola Mundo!.\"\n",
        "print(cadena)"
      ],
      "metadata": {
        "colab": {
          "base_uri": "https://localhost:8080/"
        },
        "id": "pThCUdMnhRiU",
        "outputId": "a8475c22-05bf-46ef-d0c2-dcb6ef797daa"
      },
      "execution_count": null,
      "outputs": [
        {
          "output_type": "stream",
          "name": "stdout",
          "text": [
            "!Hola Mundo!.\n"
          ]
        }
      ]
    },
    {
      "cell_type": "markdown",
      "source": [
        "#**Ejercicio 3**\n",
        "\n",
        "Escribir un programa que pregunte el nombre del usuario en la consola y después de que el usuario lo introduzca muestre por pantalla la cadena ¡Hola <nombre>!, donde <nombre> es el nombre que el usuario haya introducido."
      ],
      "metadata": {
        "id": "vePGgJyhhlsw"
      }
    },
    {
      "cell_type": "code",
      "source": [
        "nombre=input(\"Ingrese su nombre: \")\n",
        "print(\"Hola\",nombre)"
      ],
      "metadata": {
        "colab": {
          "base_uri": "https://localhost:8080/"
        },
        "id": "o5hFQ5ERhr1b",
        "outputId": "e7a1f87c-3f6e-44de-91ac-c391cea9b58d"
      },
      "execution_count": null,
      "outputs": [
        {
          "output_type": "stream",
          "name": "stdout",
          "text": [
            "Ingrese su nombre: Felipe\n",
            "Hola Felipe\n"
          ]
        }
      ]
    },
    {
      "cell_type": "markdown",
      "source": [
        "#**Ejercicio 4**\n",
        "\n",
        "Escribir un programa que muestre por pantalla el resultado de la siguiente operación aritmética $(\\frac{3+2}{2*5})^2$"
      ],
      "metadata": {
        "id": "ncGOv2euiFAI"
      }
    },
    {
      "cell_type": "code",
      "source": [
        "num=3+2\n",
        "dem=2*5\n",
        "result=(num/dem)**2\n",
        "print(result)"
      ],
      "metadata": {
        "colab": {
          "base_uri": "https://localhost:8080/"
        },
        "id": "NRaY2na8ikhP",
        "outputId": "d4192b0f-01f1-4f51-c9c7-5224f8c9057e"
      },
      "execution_count": null,
      "outputs": [
        {
          "output_type": "stream",
          "name": "stdout",
          "text": [
            "0.25\n"
          ]
        }
      ]
    },
    {
      "cell_type": "markdown",
      "source": [
        "#**Ejercicio 5**\n",
        "\n",
        "Escribir un programa que pregunte al usuario por el número de horas trabajadas y el coste por hora. Después debe mostrar por pantalla la paga que le corresponde."
      ],
      "metadata": {
        "id": "ALkRzHvlnk5v"
      }
    },
    {
      "cell_type": "code",
      "source": [
        "horas=int(input(\"Ingrese el numero de horas trabajadas: \"))\n",
        "coste=int(input(\"Ingrese el coste por hora: \"))\n",
        "pago=coste*horas\n",
        "print(\"Su pago correspondiente es: \",pago)"
      ],
      "metadata": {
        "colab": {
          "base_uri": "https://localhost:8080/"
        },
        "id": "qqRKqt2untiG",
        "outputId": "c4d1f2cb-66af-498e-c836-2070e2fb6c5b"
      },
      "execution_count": null,
      "outputs": [
        {
          "output_type": "stream",
          "name": "stdout",
          "text": [
            "Ingrese el numero de horas trabajadas: 8\n",
            "Ingrese el coste por hora: 7000\n",
            "Su pago correspondiente es:  56000\n"
          ]
        }
      ]
    },
    {
      "cell_type": "markdown",
      "source": [
        "#**Ejercicio 6**\n",
        "\n",
        "Escribir un programa que lea un entero positivo, $n$\n",
        ", introducido por el usuario y después muestre en pantalla la suma de todos los enteros desde 1 hasta $n$\n",
        ". La suma de los\n",
        " $n$ primeros enteros positivos puede ser calculada de la siguiente forma:\n",
        "\n",
        " $$ \\mbox{suma} = \\frac{n(n+1)}{2} $$"
      ],
      "metadata": {
        "id": "pMj0foa0o007"
      }
    },
    {
      "cell_type": "code",
      "source": [
        "n=int(input(\"Introduzca un entero positivo: \"))\n",
        "suma=(n*(n+1))/2\n",
        "print(\"La suma de todos los enteros desde 1 hasta n es: \",suma)"
      ],
      "metadata": {
        "colab": {
          "base_uri": "https://localhost:8080/"
        },
        "id": "SrLJzDXCpDhr",
        "outputId": "70df3454-badd-4969-d17b-4dca05350ec3"
      },
      "execution_count": null,
      "outputs": [
        {
          "output_type": "stream",
          "name": "stdout",
          "text": [
            "Introduzca un entero positivo: 3\n",
            "La suma de todos los enteros desde 1 hasta n es:  6.0\n"
          ]
        }
      ]
    },
    {
      "cell_type": "markdown",
      "source": [
        "#**Ejercicio 7**\n",
        "\n",
        "Escribir un programa que pida al usuario su peso (en kg) y estatura (en metros), calcule el índice de masa corporal y lo almacene en una variable, y muestre por pantalla la frase Tu índice de masa corporal es <imc> donde <imc> es el índice de masa corporal calculado redondeado con dos decimales."
      ],
      "metadata": {
        "id": "n_XUMc_AsQNN"
      }
    },
    {
      "cell_type": "code",
      "source": [
        "try:\n",
        "  peso=float(input(\"Ingrese su peso (Kg): \"))\n",
        "  estatura=float(input(\"Ingrese su estatura (Mts): \"))\n",
        "except ValueError:\n",
        "  print(\"Los valores deben ser numéricos\")\n",
        "  IMC=0\n",
        "\n",
        "while peso <=0 or estatura <=0:\n",
        "  try:\n",
        "    peso=float(input(\"Ingrese su peso (Kg): \"))\n",
        "    estatura=float(input(\"Ingrese su estatura (Mts): \"))\n",
        "  except ValueError:\n",
        "    print(\"Los valores deben ser numéricos\")\n",
        "    IMC=0\n",
        "\n",
        "IMC= peso/estatura**2\n",
        "IMC_aprox=round(IMC,2)\n",
        "print(\"Su IMC es: \",IMC_aprox)"
      ],
      "metadata": {
        "colab": {
          "base_uri": "https://localhost:8080/"
        },
        "id": "6zGDq4NQsP7h",
        "outputId": "68fca841-01a6-492f-8724-4e1038b1a88d"
      },
      "execution_count": null,
      "outputs": [
        {
          "output_type": "stream",
          "name": "stdout",
          "text": [
            "Ingrese su peso (Kg): 60\n",
            "Ingrese su estatura (Mts): 1.81\n",
            "Su IMC es:  18.31\n"
          ]
        }
      ]
    }
  ]
}