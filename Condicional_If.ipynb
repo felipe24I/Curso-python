{
  "nbformat": 4,
  "nbformat_minor": 0,
  "metadata": {
    "colab": {
      "provenance": [],
      "authorship_tag": "ABX9TyPbtubxoD4yXJizxQDFyuzp",
      "include_colab_link": true
    },
    "kernelspec": {
      "name": "python3",
      "display_name": "Python 3"
    },
    "language_info": {
      "name": "python"
    }
  },
  "cells": [
    {
      "cell_type": "markdown",
      "metadata": {
        "id": "view-in-github",
        "colab_type": "text"
      },
      "source": [
        "<a href=\"https://colab.research.google.com/github/felipe24I/Curso-python/blob/main/Condicional_If.ipynb\" target=\"_parent\"><img src=\"https://colab.research.google.com/assets/colab-badge.svg\" alt=\"Open In Colab\"/></a>"
      ]
    },
    {
      "cell_type": "markdown",
      "source": [
        "#**Condicional If en python**\n",
        "\n",
        "#**Ejemplo**"
      ],
      "metadata": {
        "id": "znHo_MxwuamY"
      }
    },
    {
      "cell_type": "code",
      "execution_count": 6,
      "metadata": {
        "colab": {
          "base_uri": "https://localhost:8080/"
        },
        "id": "jR-8e7cpuVFt",
        "outputId": "2c94ccca-fa2e-416e-91f4-f92da30e74a5"
      },
      "outputs": [
        {
          "output_type": "stream",
          "name": "stdout",
          "text": [
            "Programa de calificación de alumnos\n",
            "Igrese su nota: 4\n",
            "Aprobado\n"
          ]
        }
      ],
      "source": [
        "print(\"Programa de calificación de alumnos\")\n",
        "nota_alumno=input(\"Igrese su nota: \")\n",
        "\n",
        "def evaluacion (nota):\n",
        "  calificacion=\"Aprobado\"\n",
        "  if nota < 3:\n",
        "    calificacion=\"Reprobado\"\n",
        "  return calificacion\n",
        "\n",
        "print(evaluacion(float(nota_alumno)))"
      ]
    }
  ]
}