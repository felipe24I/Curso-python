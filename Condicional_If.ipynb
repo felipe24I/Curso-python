{
  "nbformat": 4,
  "nbformat_minor": 0,
  "metadata": {
    "colab": {
      "provenance": [],
      "authorship_tag": "ABX9TyP1nX5NQmPfrH4hL+nv5Jsl",
      "include_colab_link": true
    },
    "kernelspec": {
      "name": "python3",
      "display_name": "Python 3"
    },
    "language_info": {
      "name": "python"
    }
  },
  "cells": [
    {
      "cell_type": "markdown",
      "metadata": {
        "id": "view-in-github",
        "colab_type": "text"
      },
      "source": [
        "<a href=\"https://colab.research.google.com/github/felipe24I/Curso-python/blob/main/Condicional_If.ipynb\" target=\"_parent\"><img src=\"https://colab.research.google.com/assets/colab-badge.svg\" alt=\"Open In Colab\"/></a>"
      ]
    },
    {
      "cell_type": "markdown",
      "source": [
        "#**Condicional If en python**\n",
        "\n",
        "#**Ejemplo**"
      ],
      "metadata": {
        "id": "znHo_MxwuamY"
      }
    },
    {
      "cell_type": "code",
      "execution_count": 6,
      "metadata": {
        "colab": {
          "base_uri": "https://localhost:8080/"
        },
        "id": "jR-8e7cpuVFt",
        "outputId": "2c94ccca-fa2e-416e-91f4-f92da30e74a5"
      },
      "outputs": [
        {
          "output_type": "stream",
          "name": "stdout",
          "text": [
            "Programa de calificación de alumnos\n",
            "Igrese su nota: 4\n",
            "Aprobado\n"
          ]
        }
      ],
      "source": [
        "print(\"Programa de calificación de alumnos\")\n",
        "nota_alumno=input(\"Igrese su nota: \")\n",
        "\n",
        "def evaluacion (nota):\n",
        "  calificacion=\"Aprobado\"\n",
        "  if nota < 3:\n",
        "    calificacion=\"Reprobado\"\n",
        "  return calificacion\n",
        "\n",
        "print(evaluacion(float(nota_alumno)))"
      ]
    },
    {
      "cell_type": "markdown",
      "source": [
        "#**Uso de elif y else**"
      ],
      "metadata": {
        "id": "rt5o0jZS1g0q"
      }
    },
    {
      "cell_type": "code",
      "source": [
        "print(\"Programa de verificación de acceso\")\n",
        "edad=int(input(\"Ingrese su edad: \"))\n",
        "if edad < 18:\n",
        "  print(\"No puede pasar\")\n",
        "elif edad > 18 and edad < 100:\n",
        "  print(\"Puede pasar\")\n",
        "else:\n",
        "  print(\"Edad incorrecta\")"
      ],
      "metadata": {
        "colab": {
          "base_uri": "https://localhost:8080/"
        },
        "id": "wU9y5TaA1nMN",
        "outputId": "0747ef48-01cc-4dc9-9b49-6432578d5967"
      },
      "execution_count": 9,
      "outputs": [
        {
          "output_type": "stream",
          "name": "stdout",
          "text": [
            "Programa de verificación de acceso\n",
            "Ingrese su edad: 15\n",
            "No puede pasar\n"
          ]
        }
      ]
    },
    {
      "cell_type": "code",
      "source": [
        "print(\"Programa de valoración de notas alumnos\")\n",
        "nota_alumno= float(input(\"Por favor ingrese su nota: \"))\n",
        "if nota_alumno < 5 :\n",
        "  print(\"Insuficiente\")\n",
        "elif nota_alumno < 6:\n",
        "  print(\"Suficiente\")\n",
        "elif nota_alumno < 7:\n",
        "  print(\"Bien\")\n",
        "elif nota_alumno < 9:\n",
        "  print(\"Notable\")\n",
        "else:\n",
        "  print(\"Sobresaliente\")"
      ],
      "metadata": {
        "colab": {
          "base_uri": "https://localhost:8080/"
        },
        "id": "_5FjbLp12fNE",
        "outputId": "3d0e0b52-febf-4148-d6ac-bd8e5e4d41c5"
      },
      "execution_count": 14,
      "outputs": [
        {
          "output_type": "stream",
          "name": "stdout",
          "text": [
            "Programa de valoración de notas alumnos\n",
            "Por favor ingrese su nota: 8.9\n",
            "Notable\n"
          ]
        }
      ]
    },
    {
      "cell_type": "markdown",
      "source": [
        "#**Ejercicios de práctica**\n"
      ],
      "metadata": {
        "id": "F77W7NzF3pfj"
      }
    },
    {
      "cell_type": "markdown",
      "source": [
        "#**Ejercicio 1**\n",
        "\n",
        "Crea un programa que pida dos números por teclado. El programa tendrá una función llamada “DevuelveMax” encargada de devolver el número más alto de los dos introducidos."
      ],
      "metadata": {
        "id": "lejAS5kF3xSb"
      }
    },
    {
      "cell_type": "code",
      "source": [
        "numero1= int(input(\"ingrese un número: \"))\n",
        "numero2= int(input(\"Ingrese otro número: \"))\n",
        "\n",
        "def DevuelveMax (numero1, numero2):\n",
        "  if numero1 > numero2:\n",
        "    print(numero1)\n",
        "  elif numero2 > numero1:\n",
        "    print(numero2)\n",
        "  else:\n",
        "    print(\"Son iguales\")\n",
        "\n",
        "DevuelveMax(numero1,numero2)\n"
      ],
      "metadata": {
        "colab": {
          "base_uri": "https://localhost:8080/"
        },
        "id": "mSAjiq9c4OG_",
        "outputId": "0489ccba-0ca3-4bf1-83b5-c49248691b2b"
      },
      "execution_count": 31,
      "outputs": [
        {
          "output_type": "stream",
          "name": "stdout",
          "text": [
            "ingrese un número: 4\n",
            "Ingrese otro número: 8\n",
            "8\n"
          ]
        }
      ]
    },
    {
      "cell_type": "markdown",
      "source": [
        "#**Ejercicio 2**\n",
        "\n",
        "Crea un programa que pida por teclado “Nombre”, “Dirección” y “Tfno”. Esos tres datos deberán ser almacenados en una lista y mostrar en consola el mensaje: “Los datos personales son: nombre apellido teléfono” (Se mostrarán los datos introducidos por teclado).\n"
      ],
      "metadata": {
        "id": "DlpsASlB6Dk1"
      }
    },
    {
      "cell_type": "code",
      "source": [
        "#Forma 1\n",
        "datos_personales=[]\n",
        "nombre=input(\"Ingrese su nombre: \")\n",
        "datos_personales.append(nombre)\n",
        "direccion=input(\"ingrese su direccion: \")\n",
        "datos_personales.append(direccion)\n",
        "telefono=input(\"ingrese su teléfono: \")\n",
        "datos_personales.append(telefono)\n",
        "print(\"Los datos personales son: \",datos_personales[0],\" , \",datos_personales[1],\" , \",datos_personales[2])\n",
        "\n",
        "#Forma 2\n",
        "\n",
        "nombre=input(\"Ingrese su nombre: \")\n",
        "direccion=input(\"ingrese su direccion: \")\n",
        "telefono=input(\"ingrese su teléfono: \")\n",
        "datos_personales=[nombre,direccion,telefono]\n",
        "print(\"Los datos personales son: \"+ datos_personales[0] +\" , \"+ datos_personales[1] +\" , \"+ datos_personales[2])"
      ],
      "metadata": {
        "colab": {
          "base_uri": "https://localhost:8080/"
        },
        "id": "8rtOKKEP6avi",
        "outputId": "e3e9f077-f909-48ad-c663-1b0f429e59c1"
      },
      "execution_count": 32,
      "outputs": [
        {
          "output_type": "stream",
          "name": "stdout",
          "text": [
            "Ingrese su nombre: felipe\n",
            "ingrese su direccion: cll93\n",
            "ingrese su teléfono: 3123633982\n",
            "Los datos personales son:  felipe  ,  cll93  ,  3123633982\n",
            "Ingrese su nombre: felipe\n",
            "ingrese su direccion: cll93\n",
            "ingrese su teléfono: 3123633982\n",
            "Los datos personales son: felipe , cll93 , 3123633982\n"
          ]
        }
      ]
    },
    {
      "cell_type": "markdown",
      "source": [
        "#**Ejercicio 3**\n",
        "\n",
        "Crea un programa que pida tres números por teclado. El programa imprime en consola la media aritmética de los números introducidos."
      ],
      "metadata": {
        "id": "H4X8gttm8nra"
      }
    },
    {
      "cell_type": "code",
      "source": [
        "numero1 = int(input(\"Ingrese el primer número: \"))\n",
        "numero2 = int(input(\"Ingrese el segundo número: \"))\n",
        "numero3 = int(input(\"Ingrese el tercer número: \"))\n",
        "\n",
        "def media_aritmetica(numero1, num2, num3):\n",
        "  media=(numero1+num2+num3)/3\n",
        "  return media\n",
        "\n",
        "media_aritmetica= media_aritmetica(numero1,numero2,numero3)\n",
        "print(\"La media aritmetica de los numeros es: \",media_aritmetica)"
      ],
      "metadata": {
        "colab": {
          "base_uri": "https://localhost:8080/"
        },
        "id": "aIXEai6Z80w3",
        "outputId": "93d1a311-f4b3-457d-eeb4-520f2ff5ba37"
      },
      "execution_count": 34,
      "outputs": [
        {
          "output_type": "stream",
          "name": "stdout",
          "text": [
            "Ingrese el primer número: 3\n",
            "Ingrese el segundo número: 6\n",
            "Ingrese el tercer número: 5\n",
            "La media aritmetica de los numeros es:  4.666666666666667\n"
          ]
        }
      ]
    },
    {
      "cell_type": "markdown",
      "source": [
        "#**Condiciones por concatenación de operadores de comparación**"
      ],
      "metadata": {
        "id": "EjUAcGtmVUkf"
      }
    },
    {
      "cell_type": "code",
      "source": [
        "edad=int(input(\"Ingrese su edad: \"))\n",
        "if 0<edad<100:\n",
        "  print(\"La edad es correcta\")\n",
        "else:\n",
        "  print(\"La edad es incorrecta\")"
      ],
      "metadata": {
        "colab": {
          "base_uri": "https://localhost:8080/"
        },
        "id": "9n3w2tg9Vgvk",
        "outputId": "eaf1e37b-52c5-418f-92f2-6390bd745cc0"
      },
      "execution_count": 37,
      "outputs": [
        {
          "output_type": "stream",
          "name": "stdout",
          "text": [
            "Ingrese su edad: -3\n",
            "La edad es incorrecta\n"
          ]
        }
      ]
    },
    {
      "cell_type": "code",
      "source": [
        "salario_presidente=int(input(\"Ingrese el salario del presidente: \"))\n",
        "print(\"Salario presidente: \", salario_presidente)\n",
        "salario_director=int(input(\"Ingrese el salario del director: \"))\n",
        "print(\"Salario director: \", salario_director)\n",
        "salario_jefe_area=int(input(\"Ingrese el salario del jefe de area: \"))\n",
        "print(\"Salario jefe de area: \", salario_jefe_area)\n",
        "salario_administrativo=int(input(\"Ingrese el salario del administrativo: \"))\n",
        "print(\"Salario administrativo: \", salario_administrativo)\n",
        "\n",
        "if salario_administrativo < salario_jefe_area < salario_director < salario_presidente:\n",
        "  print(\"Todo esta en orden\")\n",
        "else:\n",
        "  print(\"Algo falla en esta empresa\")"
      ],
      "metadata": {
        "colab": {
          "base_uri": "https://localhost:8080/"
        },
        "id": "-tngWWttV0TZ",
        "outputId": "9a11b303-f0fa-498d-b405-dc0e906eba29"
      },
      "execution_count": 42,
      "outputs": [
        {
          "output_type": "stream",
          "name": "stdout",
          "text": [
            "Ingrese el salario del presidente: 3000\n",
            "Salario presidente:  3000\n",
            "Ingrese el salario del director: 2000\n",
            "Salario director:  2000\n",
            "Ingrese el salario del jefe de area: 1000\n",
            "Salario jefe de area:  1000\n",
            "Ingrese el salario del administrativo: 2500\n",
            "Salario administrativo:  2500\n",
            "Algo falla en esta empresa\n"
          ]
        }
      ]
    },
    {
      "cell_type": "markdown",
      "source": [
        "#**Condicionales usando and, or e in**"
      ],
      "metadata": {
        "id": "j9GSliOIlU1-"
      }
    },
    {
      "cell_type": "code",
      "source": [
        "print(\"Programa de becas a estudiantes\")\n",
        "distancia=int(input(\"Ingrese la distancia de su casa al colegio en km: \"))\n",
        "print(distancia, \" km\")\n",
        "hermanos=int(input(\"Ingrese el numero de hermanos: \"))\n",
        "print(hermanos, \" hermanos\")\n",
        "salario_familiar=int(input(\"Ingrese el salario familiar bruto anual: \"))\n",
        "print(salario_familiar)\n",
        "\n",
        "if distancia >= 40 and hermanos >=2 or salario_familiar <= 20000:\n",
        "  print(\"Tiene derecho a beca\")\n",
        "else:\n",
        "  print(\"No tiene derecho a beca\")"
      ],
      "metadata": {
        "colab": {
          "base_uri": "https://localhost:8080/"
        },
        "id": "fDCijlPJlbH-",
        "outputId": "39b99f2d-f180-473e-86b3-c9172f837184"
      },
      "execution_count": 46,
      "outputs": [
        {
          "output_type": "stream",
          "name": "stdout",
          "text": [
            "Programa de becas a estudiantes\n",
            "Ingrese la distancia de su casa al colegio en km: 2\n",
            "2  km\n",
            "Ingrese el numero de hermanos: 0\n",
            "0  hermanos\n",
            "Ingrese el salario familiar bruto anual: 45000\n",
            "45000\n",
            "No tiene derecho a beca\n"
          ]
        }
      ]
    },
    {
      "cell_type": "code",
      "source": [
        "print(\"Programa de asignaturas optativas 2024\")\n",
        "print(\"Asignaturas optativas ingenieria electrónica: Procesamiento digital de señales - sistemas en tiempo real - robótica\")\n",
        "opcion=input(\"Ingrese la asignatura optativa: \")\n",
        "asignatura= opcion.lower()\n",
        "if asignatura in (\"procesamiento digital de señales\", \"sistemas en tiempo real\", \"robótica\"):\n",
        "  print(\"La asignatura elegida es: \",asignatura)\n",
        "else:\n",
        "  print(\"Asignatura no contemplada\")"
      ],
      "metadata": {
        "colab": {
          "base_uri": "https://localhost:8080/"
        },
        "id": "h8QRoLPanGay",
        "outputId": "022bd379-c565-41f1-b5f2-6fd057f6acee"
      },
      "execution_count": 57,
      "outputs": [
        {
          "output_type": "stream",
          "name": "stdout",
          "text": [
            "Programa de asignaturas optativas 2024\n",
            "Asignaturas optativas ingenieria electrónica: Procesamiento digital de señales - sistemas en tiempo real - robótica\n",
            "Ingrese la asignatura optativa: PROcesamiento Digital De SeÑalES\n",
            "La asignatura elegida es:  procesamiento digital de señales\n"
          ]
        }
      ]
    }
  ]
}