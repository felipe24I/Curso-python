{
  "nbformat": 4,
  "nbformat_minor": 0,
  "metadata": {
    "colab": {
      "provenance": [],
      "authorship_tag": "ABX9TyPwzb7SqEEttCp1WPAqigrf",
      "include_colab_link": true
    },
    "kernelspec": {
      "name": "python3",
      "display_name": "Python 3"
    },
    "language_info": {
      "name": "python"
    }
  },
  "cells": [
    {
      "cell_type": "markdown",
      "metadata": {
        "id": "view-in-github",
        "colab_type": "text"
      },
      "source": [
        "<a href=\"https://colab.research.google.com/github/felipe24I/Curso-python/blob/main/Bucle_For.ipynb\" target=\"_parent\"><img src=\"https://colab.research.google.com/assets/colab-badge.svg\" alt=\"Open In Colab\"/></a>"
      ]
    },
    {
      "cell_type": "markdown",
      "source": [
        "#**Bucle for**"
      ],
      "metadata": {
        "id": "AzeNzHgP2LOs"
      }
    },
    {
      "cell_type": "code",
      "execution_count": 7,
      "metadata": {
        "colab": {
          "base_uri": "https://localhost:8080/"
        },
        "id": "PtEXepVS2FpF",
        "outputId": "0b758b2a-fe94-4dac-ad4e-c0a863f40bd9"
      },
      "outputs": [
        {
          "output_type": "stream",
          "name": "stdout",
          "text": [
            "Hola\n",
            "Hola\n",
            "Hola\n"
          ]
        }
      ],
      "source": [
        "for i in [1,2,3]:\n",
        "  print(\"Hola\")"
      ]
    },
    {
      "cell_type": "code",
      "source": [
        "for estaciones_año in [\"Primavera\", \"Verano\", \"Otoño\", \"Invierno\"]:\n",
        "  print(estaciones_año)"
      ],
      "metadata": {
        "colab": {
          "base_uri": "https://localhost:8080/"
        },
        "id": "VNygljn32ieo",
        "outputId": "2d4ac46c-1bea-4103-950d-29f0d9f1428d"
      },
      "execution_count": 8,
      "outputs": [
        {
          "output_type": "stream",
          "name": "stdout",
          "text": [
            "Primavera\n",
            "Verano\n",
            "Otoño\n",
            "Invierno\n"
          ]
        }
      ]
    },
    {
      "cell_type": "code",
      "source": [
        "for i in [23, \"Hola\", 24.3, \"adidas\"]:\n",
        "  print(\"bucle for\")\n"
      ],
      "metadata": {
        "colab": {
          "base_uri": "https://localhost:8080/"
        },
        "id": "qaYDPz628Yoq",
        "outputId": "1eee2d07-9fae-4d30-dbb7-b96e9b8bb714"
      },
      "execution_count": 9,
      "outputs": [
        {
          "output_type": "stream",
          "name": "stdout",
          "text": [
            "bucle for\n",
            "bucle for\n",
            "bucle for\n",
            "bucle for\n"
          ]
        }
      ]
    },
    {
      "cell_type": "code",
      "source": [
        "mi_email=input(\"Ingrese su email: \")\n",
        "contador_arrobas=0\n",
        "contador_puntos=0\n",
        "for i in mi_email:\n",
        "  if i==\"@\":\n",
        "    contador_arrobas += 1\n",
        "  elif i==\".\":\n",
        "    contador_puntos += 1\n",
        "if contador_arrobas == 1 and contador_puntos >=1:\n",
        "  print(\"Email válido\")\n",
        "else:\n",
        "  print(\"Email inválido\")\n",
        "\n",
        "\n"
      ],
      "metadata": {
        "colab": {
          "base_uri": "https://localhost:8080/"
        },
        "id": "jr7GkCD78oyc",
        "outputId": "dc5464f4-08af-4571-f028-7ed6bf6fc76e"
      },
      "execution_count": 11,
      "outputs": [
        {
          "output_type": "stream",
          "name": "stdout",
          "text": [
            "Ingrese su email: felipe.unal\n",
            "Email inválido\n"
          ]
        }
      ]
    },
    {
      "cell_type": "code",
      "source": [
        "for i in range(5):\n",
        "  print(i)"
      ],
      "metadata": {
        "colab": {
          "base_uri": "https://localhost:8080/"
        },
        "id": "VWiBEnJa9w2a",
        "outputId": "3aaea907-d3b4-4a32-a11d-e2568a85b9f6"
      },
      "execution_count": 12,
      "outputs": [
        {
          "output_type": "stream",
          "name": "stdout",
          "text": [
            "0\n",
            "1\n",
            "2\n",
            "3\n",
            "4\n"
          ]
        }
      ]
    },
    {
      "cell_type": "code",
      "source": [
        "for i in range(0, 5, 1):\n",
        "  print(i)"
      ],
      "metadata": {
        "colab": {
          "base_uri": "https://localhost:8080/"
        },
        "id": "iuX3Zy5f92Dz",
        "outputId": "4e463fc7-bb71-455b-cdd7-b8333933bba2"
      },
      "execution_count": 13,
      "outputs": [
        {
          "output_type": "stream",
          "name": "stdout",
          "text": [
            "0\n",
            "1\n",
            "2\n",
            "3\n",
            "4\n"
          ]
        }
      ]
    },
    {
      "cell_type": "code",
      "source": [
        "valido=False\n",
        "email=input(\"Ingrese su email: \")\n",
        "for i in range(len(email)):\n",
        "  if email[i]==\"@\":\n",
        "    valido=True\n",
        "\n",
        "if valido:\n",
        "  print(\"Email correcto\")\n",
        "else:\n",
        "  print(\"Email incorrecto\")"
      ],
      "metadata": {
        "colab": {
          "base_uri": "https://localhost:8080/"
        },
        "id": "-1sSdSdVApfO",
        "outputId": "494fee8b-1425-47d0-d23c-31e6418da689"
      },
      "execution_count": 17,
      "outputs": [
        {
          "output_type": "stream",
          "name": "stdout",
          "text": [
            "Ingrese su email: felipe@\n",
            "Email correcto\n"
          ]
        }
      ]
    }
  ]
}