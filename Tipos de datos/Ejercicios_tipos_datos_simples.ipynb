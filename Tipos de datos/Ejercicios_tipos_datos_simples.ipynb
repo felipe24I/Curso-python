{
  "nbformat": 4,
  "nbformat_minor": 0,
  "metadata": {
    "colab": {
      "provenance": [],
      "authorship_tag": "ABX9TyOKvZ8CI1Gp3wMO/wl4MM4X",
      "include_colab_link": true
    },
    "kernelspec": {
      "name": "python3",
      "display_name": "Python 3"
    },
    "language_info": {
      "name": "python"
    }
  },
  "cells": [
    {
      "cell_type": "markdown",
      "metadata": {
        "id": "view-in-github",
        "colab_type": "text"
      },
      "source": [
        "<a href=\"https://colab.research.google.com/github/felipe24I/Curso-python/blob/main/Ejercicios_tipos_datos_simples.ipynb\" target=\"_parent\"><img src=\"https://colab.research.google.com/assets/colab-badge.svg\" alt=\"Open In Colab\"/></a>"
      ]
    },
    {
      "cell_type": "markdown",
      "source": [
        "#**Ejercicios de Tipos de Datos Simples**"
      ],
      "metadata": {
        "id": "bVgzLkHmgen2"
      }
    },
    {
      "cell_type": "markdown",
      "source": [
        "#**Ejercicio 1**\n",
        "\n",
        "Escribir un programa que muestre por pantalla la cadena ¡Hola Mundo!."
      ],
      "metadata": {
        "id": "kCZyOV1cghYu"
      }
    },
    {
      "cell_type": "code",
      "execution_count": 1,
      "metadata": {
        "colab": {
          "base_uri": "https://localhost:8080/"
        },
        "id": "jvH7wLakgWm2",
        "outputId": "b304fe75-3fad-4360-ee7b-9db3866dbd29"
      },
      "outputs": [
        {
          "output_type": "stream",
          "name": "stdout",
          "text": [
            "!Hola Mundo!.\n"
          ]
        }
      ],
      "source": [
        "def imprimir():\n",
        "  print(\"!Hola Mundo!.\")\n",
        "\n",
        "imprimir()"
      ]
    },
    {
      "cell_type": "markdown",
      "source": [
        "#**Ejercicio 2**\n",
        "\n",
        "Escribir un programa que almacene la cadena ¡Hola Mundo! en una variable y luego muestre por pantalla el contenido de la variable."
      ],
      "metadata": {
        "id": "g7qED0U0hIx2"
      }
    },
    {
      "cell_type": "code",
      "source": [
        "def imprimir(cadena):\n",
        "  print(cadena)\n",
        "\n",
        "imprimir(\"!Hola Mundo!.\")\n"
      ],
      "metadata": {
        "colab": {
          "base_uri": "https://localhost:8080/"
        },
        "id": "pThCUdMnhRiU",
        "outputId": "c74ed692-0e47-4971-b0ea-1d0021c2eff2"
      },
      "execution_count": 4,
      "outputs": [
        {
          "output_type": "stream",
          "name": "stdout",
          "text": [
            "!Hola Mundo!.\n"
          ]
        }
      ]
    },
    {
      "cell_type": "markdown",
      "source": [
        "#**Ejercicio 3**\n",
        "\n",
        "Escribir un programa que pregunte el nombre del usuario en la consola y después de que el usuario lo introduzca muestre por pantalla la cadena ¡Hola <nombre>!, donde <nombre> es el nombre que el usuario haya introducido."
      ],
      "metadata": {
        "id": "vePGgJyhhlsw"
      }
    },
    {
      "cell_type": "code",
      "source": [
        "def mostrar_nombre(nombre):\n",
        "\n",
        "  print(\"Hola\",nombre)\n",
        "\n",
        "while True:\n",
        "  try:\n",
        "    nombre=input(\"Ingrese su nombre: \")\n",
        "    bandera=nombre.isalpha()\n",
        "    if bandera == False:\n",
        "      raise ValueError(\"El nombre debe ser una cadena de caracteres\\nIntentalo de nuevo\")\n",
        "    break\n",
        "  except ValueError as NombreCaracter:\n",
        "    print(NombreCaracter)\n",
        "\n",
        "mostrar_nombre(nombre)5\n"
      ],
      "metadata": {
        "colab": {
          "base_uri": "https://localhost:8080/"
        },
        "id": "o5hFQ5ERhr1b",
        "outputId": "32cc8c50-71b2-41b9-b56a-70bf56432030"
      },
      "execution_count": 9,
      "outputs": [
        {
          "output_type": "stream",
          "name": "stdout",
          "text": [
            "Ingrese su nombre: 34\n",
            "El nombre debe ser una cadena de caracteres\n",
            "Intentalo de nuevo\n",
            "Ingrese su nombre: 67\n",
            "El nombre debe ser una cadena de caracteres\n",
            "Intentalo de nuevo\n",
            "Ingrese su nombre: 355-\n",
            "El nombre debe ser una cadena de caracteres\n",
            "Intentalo de nuevo\n",
            "Ingrese su nombre: -yt\n",
            "El nombre debe ser una cadena de caracteres\n",
            "Intentalo de nuevo\n",
            "Ingrese su nombre: Felipe\n",
            "Hola Felipe\n"
          ]
        }
      ]
    },
    {
      "cell_type": "markdown",
      "source": [
        "#**Ejercicio 4**\n",
        "\n",
        "Escribir un programa que muestre por pantalla el resultado de la siguiente operación aritmética $(\\frac{3+2}{2*5})^2$"
      ],
      "metadata": {
        "id": "ncGOv2euiFAI"
      }
    },
    {
      "cell_type": "code",
      "source": [
        "def operacion():\n",
        "  num=3+2\n",
        "  dem=2*5\n",
        "  result=(num/dem)**2\n",
        "  print(result)\n",
        "\n",
        "operacion()"
      ],
      "metadata": {
        "colab": {
          "base_uri": "https://localhost:8080/"
        },
        "id": "NRaY2na8ikhP",
        "outputId": "84f44f37-c26a-4f56-af27-282cb79e26b3"
      },
      "execution_count": 5,
      "outputs": [
        {
          "output_type": "stream",
          "name": "stdout",
          "text": [
            "0.25\n"
          ]
        }
      ]
    },
    {
      "cell_type": "markdown",
      "source": [
        "#**Ejercicio 5**\n",
        "\n",
        "Escribir un programa que pregunte al usuario por el número de horas trabajadas y el coste por hora. Después debe mostrar por pantalla la paga que le corresponde."
      ],
      "metadata": {
        "id": "ALkRzHvlnk5v"
      }
    },
    {
      "cell_type": "code",
      "source": [
        "def Pago(horas,coste):\n",
        "  pago=coste*horas\n",
        "  return pago\n",
        "\n",
        "while True:\n",
        "  try:\n",
        "    horas=int(input(\"Ingrese el numero de horas trabajadas: \"))\n",
        "    if horas <0 :\n",
        "      raise AttributeError (\"Las horas no pueden ser menores a cero\")\n",
        "    break\n",
        "  except ValueError:\n",
        "    print(\"Las horas deben ser un número entero\\nIntentalo de nuevo\")\n",
        "  except AttributeError as HorasPositivas:\n",
        "    print(HorasPositivas)\n",
        "\n",
        "while True:\n",
        "  try:\n",
        "    coste=int(input(\"Ingrese el coste por hora: \"))\n",
        "    if coste <=0 :\n",
        "      raise AttributeError (\"El coste por hora no pueden ser menor o igual a cero\")\n",
        "    break\n",
        "  except ValueError:\n",
        "    print(\"El coste por hora debe ser un número entero\\nIntentalo de nuevo\")\n",
        "  except AttributeError as CostePositivas:\n",
        "    print(CostePositivas)\n",
        "\n",
        "\n",
        "pago=Pago(horas,coste)\n",
        "print(\"Su pago correspondiente es: \",pago)"
      ],
      "metadata": {
        "colab": {
          "base_uri": "https://localhost:8080/"
        },
        "id": "qqRKqt2untiG",
        "outputId": "54bb701f-0e25-431b-fa94-e7f7e7b95853"
      },
      "execution_count": 8,
      "outputs": [
        {
          "output_type": "stream",
          "name": "stdout",
          "text": [
            "Ingrese el numero de horas trabajadas: 34\n",
            "Ingrese el coste por hora: ffg\n",
            "El coste por hora debe ser un número entero\n",
            "Intentalo de nuevo\n",
            "Ingrese el coste por hora: -34\n",
            "El coste por hora no pueden ser menor o igual a cero\n",
            "Ingrese el coste por hora: 3000\n",
            "Su pago correspondiente es:  102000\n"
          ]
        }
      ]
    },
    {
      "cell_type": "markdown",
      "source": [
        "#**Ejercicio 6**\n",
        "\n",
        "Escribir un programa que lea un entero positivo, $n$\n",
        ", introducido por el usuario y después muestre en pantalla la suma de todos los enteros desde 1 hasta $n$\n",
        ". La suma de los\n",
        " $n$ primeros enteros positivos puede ser calculada de la siguiente forma:\n",
        "\n",
        " $$ \\mbox{suma} = \\frac{n(n+1)}{2} $$"
      ],
      "metadata": {
        "id": "pMj0foa0o007"
      }
    },
    {
      "cell_type": "code",
      "source": [
        "def suma(n):\n",
        "  suma=(n*(n+1))/2\n",
        "  return suma\n",
        "\n",
        "while True:\n",
        "  try:\n",
        "    n=int(input(\"Introduzca un entero positivo: \"))\n",
        "    if n < 0:\n",
        "      raise AttributeError (\"Tiene que ser un número entero positivo\\nIntentalo de nuevo\")\n",
        "    break\n",
        "  except ValueError:\n",
        "    print(\"Tiene que ser un número entero\\nIntentalo de nuevo\")\n",
        "  except AttributeError as EnteroNegativo:\n",
        "    print(EnteroNegativo)\n",
        "\n",
        "suma= suma(n)\n",
        "print(\"La suma de todos los enteros desde 1 hasta \",n,\" es: \",suma)"
      ],
      "metadata": {
        "colab": {
          "base_uri": "https://localhost:8080/"
        },
        "id": "SrLJzDXCpDhr",
        "outputId": "9c605166-9ce4-4c63-b2ce-1c2a8ceb10a4"
      },
      "execution_count": 11,
      "outputs": [
        {
          "output_type": "stream",
          "name": "stdout",
          "text": [
            "Introduzca un entero positivo: rt\n",
            "Tiene que ser un número entero\n",
            "Intentalo de nuevo\n",
            "Introduzca un entero positivo: def\n",
            "Tiene que ser un número entero\n",
            "Intentalo de nuevo\n",
            "Introduzca un entero positivo: -7\n",
            "Tiene que ser un número entero positivo\n",
            "Intentalo de nuevo\n",
            "Introduzca un entero positivo: 5\n",
            "La suma de todos los enteros desde 1 hasta  5  es:  15.0\n"
          ]
        }
      ]
    },
    {
      "cell_type": "markdown",
      "source": [
        "#**Ejercicio 7**\n",
        "\n",
        "Escribir un programa que pida al usuario su peso (en kg) y estatura (en metros), calcule el índice de masa corporal y lo almacene en una variable, y muestre por pantalla la frase Tu índice de masa corporal es <imc> donde <imc> es el índice de masa corporal calculado redondeado con dos decimales."
      ],
      "metadata": {
        "id": "n_XUMc_AsQNN"
      }
    },
    {
      "cell_type": "code",
      "source": [
        "def Calculo_IMC (peso, estatura):\n",
        "  IMC= peso/estatura**2\n",
        "  IMC_aprox=round(IMC,2)\n",
        "  return IMC_aprox\n",
        "\n",
        "while True:\n",
        "  try:\n",
        "    peso=float(input(\"Ingrese su peso (Kg): \"))\n",
        "    if peso <=0:\n",
        "      raise AttributeError (\"El peso debe ser mayor a cero\")\n",
        "    break\n",
        "  except ValueError:\n",
        "    print(\"El peso debe ser un número\\ninténtalo nuevamente\")\n",
        "  except AttributeError as PesoNegativo:\n",
        "    print(PesoNegativo)\n",
        "\n",
        "while True:\n",
        "  try:\n",
        "    estatura=float(input(\"Ingrese su estatura (Mts): \"))\n",
        "    if estatura <=0:\n",
        "      raise AttributeError (\"La estatura debe ser mayor a cero\")\n",
        "    break\n",
        "  except ValueError:\n",
        "    print(\"La estatura debe ser un número\\ninténtalo nuevamente\")\n",
        "  except AttributeError as EstaturaNegativa:\n",
        "    print(EstaturaNegativa)\n",
        "\n",
        "IMC_aprox= Calculo_IMC(peso,estatura)\n",
        "print(\"Su IMC es: \",IMC_aprox)"
      ],
      "metadata": {
        "colab": {
          "base_uri": "https://localhost:8080/"
        },
        "id": "6zGDq4NQsP7h",
        "outputId": "265a1075-c547-4fcd-b42a-8df763d66c06"
      },
      "execution_count": 14,
      "outputs": [
        {
          "output_type": "stream",
          "name": "stdout",
          "text": [
            "Ingrese su peso (Kg): ert\n",
            "El peso debe ser un número\n",
            "inténtalo nuevamente\n",
            "Ingrese su peso (Kg): -34\n",
            "El peso debe ser mayor a cero\n",
            "Ingrese su peso (Kg): 0\n",
            "El peso debe ser mayor a cero\n",
            "Ingrese su peso (Kg): 60\n",
            "Ingrese su estatura (Mts): erted\n",
            "La estatura debe ser un número\n",
            "inténtalo nuevamente\n",
            "Ingrese su estatura (Mts): -4\n",
            "La estatura debe ser mayor a cero\n",
            "Ingrese su estatura (Mts): 0\n",
            "La estatura debe ser mayor a cero\n",
            "Ingrese su estatura (Mts): 1.81\n",
            "Su IMC es:  18.31\n"
          ]
        }
      ]
    },
    {
      "cell_type": "markdown",
      "source": [
        "#**Ejercicio 8**\n",
        "\n",
        "Escribir un programa que pida al usuario dos números enteros y muestre por pantalla la $n$ entre $m$ da un cociente $c$ y un resto $r$ donde $n$ y $m$ son los números introducidos por el usuario, y $c$ y $r$ son el cociente y el resto de la división entera respectivamente."
      ],
      "metadata": {
        "id": "vRvnJBvFPbb_"
      }
    },
    {
      "cell_type": "code",
      "source": [
        "def division(n,m):\n",
        "  c=n/m\n",
        "  return c\n",
        "\n",
        "def modulo(n,m):\n",
        "  r=n%m\n",
        "  return r\n",
        "\n",
        "while True:\n",
        " try:\n",
        "  n=int(input(\"Ingrese un numero entero: \"))\n",
        "  break\n",
        " except ValueError:\n",
        "  print(\"Tiene que ser un número entero\\nInténtalo de nuevo\")\n",
        "\n",
        "while True:\n",
        " try:\n",
        "  m=int(input(\"Ingrese otro número entero: \"))\n",
        "  if m==0:\n",
        "    raise ZeroDivisionError (\"Para la división, el número debe ser diferente a cero\\nInténtalo de nuevo\")\n",
        "  break\n",
        " except ValueError:\n",
        "  print(\"Tiene que ser un número entero\\nInténtalo de nuevo\")\n",
        " except ZeroDivisionError as NumeroCero:\n",
        "  print(NumeroCero)\n",
        "\n",
        "c=division(n,m)\n",
        "r=modulo(n,m)\n",
        "\n",
        "print(n,\" entre \",m,\" da un cociente \",c,\" y un resto \",r)\n",
        "\n"
      ],
      "metadata": {
        "colab": {
          "base_uri": "https://localhost:8080/"
        },
        "id": "6ZLkSXurP3rb",
        "outputId": "23e9edd8-3b1b-45e4-fe32-9af14e3b5f5b"
      },
      "execution_count": 16,
      "outputs": [
        {
          "output_type": "stream",
          "name": "stdout",
          "text": [
            "Ingrese un numero entero: ert\n",
            "Tiene que ser un número entero\n",
            "Inténtalo de nuevo\n",
            "Ingrese un numero entero: 0\n",
            "Ingrese otro número entero: ert\n",
            "Tiene que ser un número entero\n",
            "Inténtalo de nuevo\n",
            "Ingrese otro número entero: 0\n",
            "Para la división, el número debe ser diferente a cero\n",
            "Inténtalo de nuevo\n",
            "Ingrese otro número entero: -34\n",
            "0  entre  -34  da un cociente  -0.0  y un resto  0\n"
          ]
        }
      ]
    },
    {
      "cell_type": "markdown",
      "source": [
        "#**Ejercicio 9**\n",
        "\n",
        "Escribir un programa que pregunte al usuario una cantidad a invertir, el interés anual y el número de años, y muestre por pantalla el capital obtenido en la inversión."
      ],
      "metadata": {
        "id": "HxO1F9J9Xuda"
      }
    },
    {
      "cell_type": "code",
      "source": [
        "\n",
        "while True:\n",
        "  try:\n",
        "    invertir=int(input(\"Ingrese la cantidad a invertir: \"))\n",
        "    if invertir<=0:\n",
        "      raise ZeroDivisionError (\"La inversion no puede ser menores o iguales a cero\\nintentalo de nuevo\")\n",
        "    break\n",
        "  except ValueError:\n",
        "    print(\"La cantidad a invertir debe ser un numero entero\")\n",
        "    print(\"Intentalo nuevamente\")\n",
        "  except ZeroDivisionError as NumeroNegativo:\n",
        "    print(NumeroNegativo)\n",
        "\n",
        "while True:\n",
        "  try:\n",
        "    interes_anual=int(input(\"Ingrese el interes anual: \"))\n",
        "    if interes_anual<=0:\n",
        "      raise ZeroDivisionError (\"El interés anual no puede ser menor o igual a cero\\nintentalo de nuevo\")\n",
        "    break\n",
        "  except ValueError:\n",
        "    print(\"El interes anual debe ser un numero entero\")\n",
        "    print(\"Intentalo nuevamente\")\n",
        "  except ZeroDivisionError as NumeroNegativo:\n",
        "    print(NumeroNegativo)\n",
        "\n",
        "while True:\n",
        "  try:\n",
        "    num_años=int(input(\"Ingrese el numero de años: \"))\n",
        "    if num_años<=0:\n",
        "      raise ZeroDivisionError (\"El numero de años no puede ser menores o iguales a cero\\nintentalo de nuevo\")\n",
        "    break\n",
        "  except ValueError:\n",
        "    print(\"El numero de años debe ser un numero entero\")\n",
        "    print(\"Intentalo nuevamente\")\n",
        "  except ZeroDivisionError as NumeroNegativo:\n",
        "    print(NumeroNegativo)\n",
        "\n",
        "\n",
        "\n",
        "capital=(invertir*interes_anual)/100\n",
        "capital=capital*num_años\n",
        "print(\"El capital obtenido en la inversion es: \",capital)"
      ],
      "metadata": {
        "colab": {
          "base_uri": "https://localhost:8080/"
        },
        "id": "ao-GMvuSXo_C",
        "outputId": "1716f5b8-6a39-4c85-f2d9-572c9374b90f"
      },
      "execution_count": null,
      "outputs": [
        {
          "output_type": "stream",
          "name": "stdout",
          "text": [
            "Ingrese la cantidad a invertir: e\n",
            "La cantidad a invertir debe ser un numero entero\n",
            "Intentalo nuevamente\n",
            "Ingrese la cantidad a invertir: 1000000\n",
            "Ingrese el interes anual: e\n",
            "El interes anual debe ser un numero entero\n",
            "Intentalo nuevamente\n",
            "Ingrese el interes anual: -12\n",
            "El interés anual no puede ser menor o igual a cero\n",
            "intentalo de nuevo\n",
            "Ingrese el interes anual: 15\n",
            "Ingrese el numero de años: o\n",
            "El numero de años debe ser un numero entero\n",
            "Intentalo nuevamente\n",
            "Ingrese el numero de años: 0\n",
            "El numero de años no puede ser menores o iguales a cero\n",
            "intentalo de nuevo\n",
            "Ingrese el numero de años: 2\n",
            "El capital obtenido en la inversion es:  300000.0\n"
          ]
        }
      ]
    },
    {
      "cell_type": "markdown",
      "source": [
        "#**Ejercicio 10**\n",
        "\n",
        "Una juguetería tiene mucho éxito en dos de sus productos: payasos y muñecas. Suele hacer venta por correo y la empresa de logística les cobra por peso de cada paquete así que deben calcular el peso de los payasos y muñecas que saldrán en cada paquete a demanda. Cada payaso pesa 112 g y cada muñeca 75 g. Escribir un programa que lea el número de payasos y muñecas vendidos en el último pedido y calcule el peso total del paquete que será enviado.\n",
        "\n"
      ],
      "metadata": {
        "id": "XM5w3-Xmtrms"
      }
    },
    {
      "cell_type": "code",
      "source": [
        "\n",
        "def cal_peso_total (num_payasos,num_munecas):\n",
        "  peso_payaso=112\n",
        "  peso_muneca=75\n",
        "  peso_paquete=(peso_payaso*num_payasos)+(peso_muneca*num_munecas)\n",
        "  return peso_paquete\n",
        "\n",
        "while True:\n",
        "  try:\n",
        "    num_payasos=int(input(\"Ingrese el numero de payasos vendidos en el último pedido: \"))\n",
        "    if num_payasos <0:\n",
        "      raise ZeroDivisionError(\"El numero de payasos vendidos en el último pedido no puede ser menor que cero\\nIntentalo de nuevo\")\n",
        "    break\n",
        "  except ValueError:\n",
        "    print(\"El número de payasos vendidos debe ser entero\\nintentalo de nuevo \")\n",
        "  except ZeroDivisionError as NumeroNegativo:\n",
        "    print(NumeroNegativo)\n",
        "\n",
        "while True:\n",
        "  try:\n",
        "    num_munecas=int(input(\"Ingrese el numero de muñecas vendidas en el último pedido: \"))\n",
        "    if num_munecas <0:\n",
        "      raise ZeroDivisionError(\"El numero de mueñcas vendidas en el último pedido no puede ser menor que cero\\nIntentalo de nuevo\")\n",
        "    break\n",
        "  except ValueError:\n",
        "    print(\"El número de muñecas vendidos debe ser entero\\nintentalo de nuevo \")\n",
        "  except ZeroDivisionError as NumeroNegativo:\n",
        "    print(NumeroNegativo)\n",
        "\n",
        "peso_paquete=cal_peso_total(num_payasos,num_munecas)\n",
        "print(\"El peso total del paquete es: \",peso_paquete,\" g\")"
      ],
      "metadata": {
        "colab": {
          "base_uri": "https://localhost:8080/"
        },
        "id": "JVTfhqQ7v8PF",
        "outputId": "05c40ab1-9612-46aa-f957-1125a6807e8b"
      },
      "execution_count": null,
      "outputs": [
        {
          "output_type": "stream",
          "name": "stdout",
          "text": [
            "Ingrese el numero de payasos vendidos en el último pedido: e\n",
            "El número de payasos vendidos debe ser entero\n",
            "intentalo de nuevo \n",
            "Ingrese el numero de payasos vendidos en el último pedido: -23\n",
            "El numero de payasos vendidos en el último pedido no puede ser menor que cero\n",
            "Intentalo de nuevo\n",
            "Ingrese el numero de payasos vendidos en el último pedido: e\n",
            "El número de payasos vendidos debe ser entero\n",
            "intentalo de nuevo \n",
            "Ingrese el numero de payasos vendidos en el último pedido: -5\n",
            "El numero de payasos vendidos en el último pedido no puede ser menor que cero\n",
            "Intentalo de nuevo\n",
            "Ingrese el numero de payasos vendidos en el último pedido: 2\n",
            "Ingrese el numero de muñecas vendidas en el último pedido: e\n",
            "El número de muñecas vendidos debe ser entero\n",
            "intentalo de nuevo \n",
            "Ingrese el numero de muñecas vendidas en el último pedido: -34\n",
            "El numero de mueñcas vendidas en el último pedido no puede ser menor que cero\n",
            "Intentalo de nuevo\n",
            "Ingrese el numero de muñecas vendidas en el último pedido: 2\n",
            "El peso total del paquete es:  374  g\n"
          ]
        }
      ]
    },
    {
      "cell_type": "markdown",
      "source": [
        "#**Ejercicio 11**\n",
        "\n",
        "Imagina que acabas de abrir una nueva cuenta de ahorros que te ofrece el 4% de interés al año. Estos ahorros debido a intereses, que no se cobran hasta finales de año, se te añaden al balance final de tu cuenta de ahorros. Escribir un programa que comience leyendo la cantidad de dinero depositada en la cuenta de ahorros, introducida por el usuario. Después el programa debe calcular y mostrar por pantalla la cantidad de ahorros tras el primer, segundo y tercer años. Redondear cada cantidad a dos decimales."
      ],
      "metadata": {
        "id": "2dgTJRwizlL_"
      }
    },
    {
      "cell_type": "code",
      "source": [
        "class cuenta_ahorros:\n",
        "\n",
        "  def __init__(self):\n",
        "    print(\"Bienvenido usuario\\n\")\n",
        "\n",
        "    while True:\n",
        "      try:\n",
        "        self.nombre=input(\"Ingrese su nombre: \")\n",
        "        if self.nombre.isalpha() == False:\n",
        "          raise ValueError (\"EL nombre debe ser una cadena de caracteres\\nIntentalo de nuevo\")\n",
        "        else:\n",
        "          break\n",
        "      except ValueError as NombreIncorrecto:\n",
        "        print(NombreIncorrecto)\n",
        "\n",
        "    while True:\n",
        "      try:\n",
        "        self.cedula=input(\"Ingrese su numero de cedula: \")\n",
        "        if self.cedula.isnumeric():\n",
        "          break\n",
        "        else:\n",
        "          raise AttributeError (\"La cédula solo debe contener dígitos\\nIntentalo de nuevo\")\n",
        "      except AttributeError as DigitosIncorrectos:\n",
        "        print(DigitosIncorrectos)\n",
        "\n",
        "    while True:\n",
        "      try:\n",
        "        self.telefono=input(\"Ingrese su numero de telefono: \")\n",
        "        digit_tel= len(self.telefono)\n",
        "        if self.telefono.isnumeric():\n",
        "          if digit_tel!=10:\n",
        "            raise AttributeError (\"El numero de telefono debe contener 10 dígitos\")\n",
        "          else:\n",
        "            break\n",
        "        else:\n",
        "          raise ValueError (\"La cédula solo debe contener dígitos\\nIntentalo de nuevo\")\n",
        "      except ValueError as DigitosIncorrectos:\n",
        "        print(DigitosIncorrectos)\n",
        "      except AttributeError as DiezDigitos:\n",
        "        print(DiezDigitos)\n",
        "\n",
        "    while True:\n",
        "      try:\n",
        "        self.correo=input(\"Ingrese su correo electrónico: \")\n",
        "        arroba=\"@\" in self.correo\n",
        "        if arroba:\n",
        "          arrobas=self.correo.count(\"@\")\n",
        "          if arrobas==1:\n",
        "            final_arroba=self.correo.endswith(\"@\")\n",
        "            if final_arroba == False:\n",
        "              inicio_arroba=self.correo.find(\"@\")\n",
        "              if inicio_arroba == 0:\n",
        "                print(\"Hay un @ en el inicio del correo, esto no esta permitido\")\n",
        "              else:\n",
        "                break\n",
        "            else:\n",
        "                print(\"Hay un @ en el final del correo, esto no esta permitido\")\n",
        "          else:\n",
        "            print(\"Hay má de un @ en el correo, esto no esta permitido\")\n",
        "        else:\n",
        "          print(\"No hay @ en el correo, esto no esta permitido\")\n",
        "\n",
        "        raise ValueError (\"El correo electrónico digitado es incorrecto\\nIntentalo de nuevo\")\n",
        "      except ValueError as CorreoIncorrecto:\n",
        "        print(CorreoIncorrecto)\n",
        "\n",
        "  def depositar(self):\n",
        "    while True:\n",
        "      try:\n",
        "        self.dinero=int(input(\"Ingrese cuanto dinero va a depositar en tu cuenta de ahorros: \"))\n",
        "        if self.dinero <=0:\n",
        "          raise AttributeError (\"El dinero a depositar debe ser mayor a cero\\nintentalo de nuevo\")\n",
        "        else:\n",
        "          break\n",
        "      except ValueError:\n",
        "        print(\"El dinero a depositar debe ser un número entero\\nIntentalo de nuevo\")\n",
        "      except AttributeError as DineroNegativo:\n",
        "        print(DineroNegativo)\n",
        "    print(\"Gracias por su deposito, que tenga buen día\")\n",
        "\n",
        "  def retirar(self):\n",
        "    while True:\n",
        "      try:\n",
        "        retiro=int(input(\"Ingrese cuanto dinero piensa retirar: \"))\n",
        "        if retiro <=0:\n",
        "          raise AttributeError (\"El dinero a retirar debe ser mayor a cero\\nIntentalo de nuevo\")\n",
        "        if retiro > self.dinero:\n",
        "          raise OSError (\"Usted no puede retirar más dinero del que tiene en su cuenta\\nIntentalo de nuevo\")\n",
        "        self.dinero=self.dinero-retiro\n",
        "        break\n",
        "      except ValueError:\n",
        "        print(\"El dinero a retirar debe ser un número entero\\nIntentalo nuevamente\")\n",
        "      except AttributeError as RetiroNegativo:\n",
        "        print(RetiroNegativo)\n",
        "      except OSError as RetiroInvalido:\n",
        "        print(RetiroInvalido)\n",
        "\n",
        "\n",
        "  def estado_cuenta(self):\n",
        "    print(\"Nombre: \",self.nombre,\"\\nCedula: \",self.cedula,\"\\nTeléfono: \",self.telefono,\"\\nCorreo: \",self.correo,\"\\nDinero disponible: \",self.dinero)\n",
        "\n",
        "  def proyeccion(self):\n",
        "    interes_año=4\n",
        "    interes_1año=(self.dinero*interes_año)/100\n",
        "    ahorro_1año=round(self.dinero+interes_1año,2)\n",
        "    print(\"La cantidad de ahorros tras el primer año es: \",ahorro_1año)\n",
        "    interes_2año=(ahorro_1año*interes_año)/100\n",
        "    ahorro_2año=round(ahorro_1año+interes_2año,2)\n",
        "    print(\"La cantidad de ahorros tras el segundo año es: \",ahorro_2año)\n",
        "    interes_3año=(ahorro_2año*interes_año)/100\n",
        "    ahorro_3año=round(ahorro_2año+interes_3año,2)\n",
        "    print(\"La cantidad de ahorros tras el tercer año es: \",ahorro_3año)\n",
        "\n",
        "cuenta1=cuenta_ahorros()\n",
        "cuenta1.depositar()\n",
        "cuenta1.estado_cuenta()\n",
        "cuenta1.proyeccion()\n",
        "cuenta1.retirar()\n",
        "cuenta1.estado_cuenta()\n",
        "\n",
        "\n"
      ],
      "metadata": {
        "colab": {
          "base_uri": "https://localhost:8080/"
        },
        "id": "YdW8z5bZznBH",
        "outputId": "4241c429-62c7-4858-f043-4f879dc84631"
      },
      "execution_count": 38,
      "outputs": [
        {
          "output_type": "stream",
          "name": "stdout",
          "text": [
            "Bienvenido usuario\n",
            "\n",
            "Ingrese su nombre: derf\n",
            "Ingrese su numero de cedula: 10023623432\n",
            "Ingrese su numero de telefono: 23445\n",
            "El numero de telefono debe contener 10 dígitos\n",
            "Ingrese su numero de telefono: 3218514297\n",
            "Ingrese su correo electrónico: felipe@.com\n",
            "Ingrese cuanto dinero va a depositar en tu cuenta de ahorros: 1000000\n",
            "Gracias por su deposito, que tenga buen día\n",
            "Nombre:  derf \n",
            "Cedula:  10023623432 \n",
            "Teléfono:  3218514297 \n",
            "Correo:  felipe@.com \n",
            "Dinero disponible:  1000000\n",
            "La cantidad de ahorros tras el primer año es:  1040000.0\n",
            "La cantidad de ahorros tras el segundo año es:  1081600.0\n",
            "La cantidad de ahorros tras el tercer año es:  1124864.0\n",
            "Ingrese cuanto dinero piensa retirar: 230445\n",
            "Nombre:  derf \n",
            "Cedula:  10023623432 \n",
            "Teléfono:  3218514297 \n",
            "Correo:  felipe@.com \n",
            "Dinero disponible:  769555\n"
          ]
        }
      ]
    },
    {
      "cell_type": "markdown",
      "source": [
        "#**Ejercicio 12**\n",
        "\n",
        "Una panadería vende barras de pan a 3.49€ cada una. El pan que no es el día tiene un descuento del 60%. Escribir un programa que comience leyendo el número de barras vendidas que no son del día. Después el programa debe mostrar el precio habitual de una barra de pan, el descuento que se le hace por no ser fresca y el coste final total."
      ],
      "metadata": {
        "id": "angBlETL_3pn"
      }
    },
    {
      "cell_type": "code",
      "source": [
        "def calculo_costo(precio,descuento,cantidad):\n",
        "  coste_barras=cantidad*precio\n",
        "  descuento_noche=(coste_barras*descuento)/100\n",
        "  coste_total=round(coste_barras-descuento_noche,2)\n",
        "  return coste_total\n",
        "\n",
        "\n",
        "precio_barra_pan=3.49\n",
        "descuento=60\n",
        "while True:\n",
        "  try:\n",
        "    barras_noche=int(input(\"Ingrese el numero de barras de pan vendidas que no son del día: \"))\n",
        "    if barras_noche <0:\n",
        "     raise AttributeError (\"El numero de barras de pan vendidas debe ser mayor o igual a cero\\nintentalo de nuevo\")\n",
        "    break\n",
        "  except ValueError:\n",
        "    print(\"El numero de barras de pan vendidas debe ser un número entero\\nIntentalo de nuevo\")\n",
        "  except AttributeError as CantidadNegativa:\n",
        "    print(CantidadNegativa)\n",
        "costo=calculo_costo(precio_barra_pan,descuento,barras_noche)\n",
        "print(\"Precio habitual de una barra de pan: \",precio_barra_pan, \"€\")\n",
        "print(\"Descuento que se le hace por no ser fresca: \",descuento, \"%\")\n",
        "print(\"Coste final total: \",costo, \"€\")"
      ],
      "metadata": {
        "colab": {
          "base_uri": "https://localhost:8080/"
        },
        "id": "RPXiMiGCAFxj",
        "outputId": "87c845c8-1fb9-4115-8fab-0ef36c99c258"
      },
      "execution_count": 37,
      "outputs": [
        {
          "output_type": "stream",
          "name": "stdout",
          "text": [
            "Ingrese el numero de barras de pan vendidas que no son del día: ert\n",
            "El numero de barras de pan vendidas debe ser un número entero\n",
            "Intentalo de nuevo\n",
            "Ingrese el numero de barras de pan vendidas que no son del día: -4\n",
            "El numero de barras de pan vendidas debe ser mayor o igual a cero\n",
            "intentalo de nuevo\n",
            "Ingrese el numero de barras de pan vendidas que no son del día: 4\n",
            "Precio habitual de una barra de pan:  3.49 €\n",
            "Descuento que se le hace por no ser fresca:  60 %\n",
            "Coste final total:  5.58 €\n"
          ]
        }
      ]
    }
  ]
}