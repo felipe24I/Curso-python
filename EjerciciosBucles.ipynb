{
  "nbformat": 4,
  "nbformat_minor": 0,
  "metadata": {
    "colab": {
      "provenance": [],
      "authorship_tag": "ABX9TyOnBGJoprq+ZkxmOLI5a+I/",
      "include_colab_link": true
    },
    "kernelspec": {
      "name": "python3",
      "display_name": "Python 3"
    },
    "language_info": {
      "name": "python"
    }
  },
  "cells": [
    {
      "cell_type": "markdown",
      "metadata": {
        "id": "view-in-github",
        "colab_type": "text"
      },
      "source": [
        "<a href=\"https://colab.research.google.com/github/felipe24I/Curso-python/blob/main/EjerciciosBucles.ipynb\" target=\"_parent\"><img src=\"https://colab.research.google.com/assets/colab-badge.svg\" alt=\"Open In Colab\"/></a>"
      ]
    },
    {
      "cell_type": "markdown",
      "source": [
        "#**Ejercicio 1**\n",
        "\n",
        "Escribir un programa que pida al usuario una palabra y la muestre por pantalla 10 veces."
      ],
      "metadata": {
        "id": "yU9cD2YWPjUx"
      }
    },
    {
      "cell_type": "code",
      "source": [
        "def Print(palabra):\n",
        "  for i in range(0,10,1):\n",
        "    print(palabra)\n",
        "\n",
        "palabra=input(\"Ingrese una palabra:\" )\n",
        "Print(palabra)"
      ],
      "metadata": {
        "colab": {
          "base_uri": "https://localhost:8080/"
        },
        "id": "BkgoJi_mP41y",
        "outputId": "60ac2868-a7d3-49ad-ff77-d401fe870346"
      },
      "execution_count": null,
      "outputs": [
        {
          "output_type": "stream",
          "name": "stdout",
          "text": [
            "Ingrese una palabra:Hola\n",
            "Hola\n",
            "Hola\n",
            "Hola\n",
            "Hola\n",
            "Hola\n",
            "Hola\n",
            "Hola\n",
            "Hola\n",
            "Hola\n",
            "Hola\n"
          ]
        }
      ]
    },
    {
      "cell_type": "markdown",
      "source": [
        "#**Ejercicio 2**\n",
        "\n",
        "Escribir un programa que pregunte al usuario su edad y muestre por pantalla todos los años que ha cumplido (desde 1 hasta su edad)."
      ],
      "metadata": {
        "id": "WRadAIcDQZ2Q"
      }
    },
    {
      "cell_type": "code",
      "source": [
        "def Años(edad):\n",
        "  for i in range(1,edad+1,1):\n",
        "    print(\"Ha cumplido \",i, \" años\")\n",
        "\n",
        "\n",
        "while True:\n",
        "  try:\n",
        "    edad=int(input(\"Ingrese su edad: \"))\n",
        "    if edad >0 and edad <130:\n",
        "      break\n",
        "    else:\n",
        "      raise AttributeError (\"La edad ingresada no es válida\\nIntentalo de nuevo\")\n",
        "  except ValueError:\n",
        "    print(\"La edad debe ser un número entero\\nIntentalo de nuevo\")\n",
        "  except AttributeError as EdadIncorrecta:\n",
        "    print(EdadIncorrecta)\n",
        "\n",
        "mensajes=Años(edad)"
      ],
      "metadata": {
        "colab": {
          "base_uri": "https://localhost:8080/"
        },
        "id": "jeTEbm4sQepa",
        "outputId": "2d9e22d3-834d-4e87-c457-ab5fe2ab21f2"
      },
      "execution_count": null,
      "outputs": [
        {
          "output_type": "stream",
          "name": "stdout",
          "text": [
            "Ingrese su edad: e\n",
            "La edad debe ser un número entero\n",
            "Intentalo de nuevo\n",
            "Ingrese su edad: -2\n",
            "La edad ingresada no es válida\n",
            "Intentalo de nuevo\n",
            "Ingrese su edad: 0\n",
            "La edad ingresada no es válida\n",
            "Intentalo de nuevo\n",
            "Ingrese su edad: 139\n",
            "La edad ingresada no es válida\n",
            "Intentalo de nuevo\n",
            "Ingrese su edad: 21\n",
            "Ha cumplido  1  años\n",
            "Ha cumplido  2  años\n",
            "Ha cumplido  3  años\n",
            "Ha cumplido  4  años\n",
            "Ha cumplido  5  años\n",
            "Ha cumplido  6  años\n",
            "Ha cumplido  7  años\n",
            "Ha cumplido  8  años\n",
            "Ha cumplido  9  años\n",
            "Ha cumplido  10  años\n",
            "Ha cumplido  11  años\n",
            "Ha cumplido  12  años\n",
            "Ha cumplido  13  años\n",
            "Ha cumplido  14  años\n",
            "Ha cumplido  15  años\n",
            "Ha cumplido  16  años\n",
            "Ha cumplido  17  años\n",
            "Ha cumplido  18  años\n",
            "Ha cumplido  19  años\n",
            "Ha cumplido  20  años\n",
            "Ha cumplido  21  años\n"
          ]
        }
      ]
    },
    {
      "cell_type": "markdown",
      "source": [
        "#**Ejercicio 3**\n",
        "\n",
        "Escribir un programa que pida al usuario un número entero positivo y muestre por pantalla todos los números impares desde 1 hasta ese número separados por comas."
      ],
      "metadata": {
        "id": "a8PVAVaIakCu"
      }
    },
    {
      "cell_type": "code",
      "source": [
        "def impares (num):\n",
        "  for i in range(1,num+1,1):\n",
        "    if i%2==1 and i!=num:\n",
        "      print(i,end=\",\")\n",
        "    elif i==num:\n",
        "      print(i,end=\"\")\n",
        "\n",
        "while True:\n",
        "  try:\n",
        "    num=int(input(\"Ingrese un numero: \"))\n",
        "    break\n",
        "  except ValueError:\n",
        "    print(\"Debe ser un número entero\\nIntentalo de nuevo\")\n",
        "\n",
        "impares(num)"
      ],
      "metadata": {
        "colab": {
          "base_uri": "https://localhost:8080/"
        },
        "id": "RlPfeM93agLo",
        "outputId": "b337aa64-72cb-4e0b-e0ac-93a69facda69"
      },
      "execution_count": 8,
      "outputs": [
        {
          "output_type": "stream",
          "name": "stdout",
          "text": [
            "Ingrese un numero: 8\n",
            "1,3,5,7,8"
          ]
        }
      ]
    },
    {
      "cell_type": "markdown",
      "source": [
        "#**Ejercicio 4**\n",
        "\n",
        "Escribir un programa que pida al usuario un número entero positivo y muestre por pantalla la cuenta atrás desde ese número hasta cero separados por comas."
      ],
      "metadata": {
        "id": "DnhzGrvums85"
      }
    },
    {
      "cell_type": "code",
      "source": [
        "def Cuenta_atras(num):\n",
        "  for i in range(num,-1,-1):\n",
        "    print(i)\n",
        "\n",
        "while True:\n",
        "  try:\n",
        "    num=int(input(\"Ingrese un numero: \"))\n",
        "    break\n",
        "  except ValueError:\n",
        "    print(\"Debe ser un número entero\\nIntentalo de nuevo\")\n",
        "\n",
        "Cuenta_atras(num)"
      ],
      "metadata": {
        "id": "mpu5GvQVm0zg",
        "outputId": "a9e78bc1-9ee6-4fa7-8999-86aa841aca14",
        "colab": {
          "base_uri": "https://localhost:8080/"
        }
      },
      "execution_count": 10,
      "outputs": [
        {
          "output_type": "stream",
          "name": "stdout",
          "text": [
            "Ingrese un numero: 5\n",
            "5\n",
            "4\n",
            "3\n",
            "2\n",
            "1\n",
            "0\n"
          ]
        }
      ]
    },
    {
      "cell_type": "markdown",
      "source": [
        "#**Ejercicio 5**\n",
        "\n",
        "Escribir un programa que pregunte al usuario una cantidad a invertir, el interés anual y el número de años, y muestre por pantalla el capital obtenido en la inversión cada año que dura la inversión."
      ],
      "metadata": {
        "id": "Y-3uivsIokek"
      }
    },
    {
      "cell_type": "code",
      "source": [
        "def Capital(invertir, interes_anual, num_anios):\n",
        "  for i in range(num_anios):\n",
        "    invertir*=1+(interes_anual/100)\n",
        "    print(\"El capital obtenido en el año \",i+1,\" es: \",round(invertir,2))\n",
        "\n",
        "while True:\n",
        "  try:\n",
        "    invertir=int(input(\"Ingrese la cantidad a invertir: \"))\n",
        "    if invertir<=0:\n",
        "      raise ZeroDivisionError (\"La inversion no puede ser menores o iguales a cero\\nintentalo de nuevo\")\n",
        "    break\n",
        "  except ValueError:\n",
        "    print(\"La cantidad a invertir debe ser un numero entero\")\n",
        "    print(\"Intentalo nuevamente\")\n",
        "  except ZeroDivisionError as NumeroNegativo:\n",
        "    print(NumeroNegativo)\n",
        "\n",
        "while True:\n",
        "  try:\n",
        "    interes_anual=int(input(\"Ingrese el interes anual: \"))\n",
        "    if interes_anual<=0:\n",
        "      raise ZeroDivisionError (\"El interés anual no puede ser menor o igual a cero\\nintentalo de nuevo\")\n",
        "    break\n",
        "  except ValueError:\n",
        "    print(\"El interes anual debe ser un numero entero\")\n",
        "    print(\"Intentalo nuevamente\")\n",
        "  except ZeroDivisionError as NumeroNegativo:\n",
        "    print(NumeroNegativo)\n",
        "\n",
        "while True:\n",
        "  try:\n",
        "    num_anios=int(input(\"Ingrese el numero de años: \"))\n",
        "    if num_anios<=0:\n",
        "      raise ZeroDivisionError (\"El numero de años no puede ser menores o iguales a cero\\nintentalo de nuevo\")\n",
        "    break\n",
        "  except ValueError:\n",
        "    print(\"El numero de años debe ser un numero entero\")\n",
        "    print(\"Intentalo nuevamente\")\n",
        "  except ZeroDivisionError as NumeroNegativo:\n",
        "    print(NumeroNegativo)\n",
        "\n",
        "Capital(invertir,interes_anual,num_anios)"
      ],
      "metadata": {
        "id": "_uf1wxrIptYg",
        "outputId": "1e2a163f-a3f2-41fc-bb8f-60ca90dc9edf",
        "colab": {
          "base_uri": "https://localhost:8080/"
        }
      },
      "execution_count": 18,
      "outputs": [
        {
          "output_type": "stream",
          "name": "stdout",
          "text": [
            "Ingrese la cantidad a invertir: 1000000\n",
            "Ingrese el interes anual: 10\n",
            "Ingrese el numero de años: 5\n",
            "El capital obtenido en el año  1  es:  1100000.0\n",
            "El capital obtenido en el año  2  es:  1210000.0\n",
            "El capital obtenido en el año  3  es:  1331000.0\n",
            "El capital obtenido en el año  4  es:  1464100.0\n",
            "El capital obtenido en el año  5  es:  1610510.0\n"
          ]
        }
      ]
    },
    {
      "cell_type": "markdown",
      "source": [
        "#**Ejercicio 6**\n",
        "\n",
        "Escribir un programa que pida al usuario un número entero y muestre por pantalla un triángulo rectángulo como el de más abajo, de altura el número introducido."
      ],
      "metadata": {
        "id": "fOjghCZpwBr_"
      }
    },
    {
      "cell_type": "code",
      "source": [
        "def Triangulo(num):\n",
        "  for i in range(1,num+1,1):\n",
        "    if i != 1:\n",
        "      print(\"\")\n",
        "    for j in range (1,i+1,1):\n",
        "      print(\"*\",end=\"\")\n",
        "\n",
        "while True:\n",
        "  try:\n",
        "    num=int(input(\"Ingrese un numero entero: \"))\n",
        "    if num >0 :\n",
        "      break\n",
        "    else:\n",
        "      raise AttributeError (\"El numero ingresado no es válido\\nIntentalo de nuevo\")\n",
        "  except ValueError:\n",
        "    print(\"Debe ser un número entero\\nIntentalo de nuevo\")\n",
        "  except AttributeError as NumIncorrecto:\n",
        "    print(NumIncorrecto)\n",
        "\n",
        "Triangulo(num)"
      ],
      "metadata": {
        "id": "_p2MsrM74vXb",
        "outputId": "f1b2ee63-285c-4d12-abd3-1ae3afabebd6",
        "colab": {
          "base_uri": "https://localhost:8080/"
        }
      },
      "execution_count": 27,
      "outputs": [
        {
          "output_type": "stream",
          "name": "stdout",
          "text": [
            "Ingrese un numero entero: 5\n",
            "*\n",
            "**\n",
            "***\n",
            "****\n",
            "*****"
          ]
        }
      ]
    },
    {
      "cell_type": "markdown",
      "source": [
        "#**Ejercicio 7**\n",
        "\n",
        "Escribir un programa que muestre por pantalla la tabla de multiplicar del 1 al 10."
      ],
      "metadata": {
        "id": "G4K1NqyqJx_J"
      }
    },
    {
      "cell_type": "code",
      "source": [
        "def tabla():\n",
        "  for i in range(1,11,1):\n",
        "    for j in range(1,11,1):\n",
        "      result=i*j\n",
        "      print(result,end=\"\\t\")\n",
        "    print(\"\")\n",
        "\n",
        "\n",
        "tabla()"
      ],
      "metadata": {
        "id": "efUBPHS2MQXm",
        "outputId": "9b49f81d-92f8-4efb-a30e-63da6c30319a",
        "colab": {
          "base_uri": "https://localhost:8080/"
        }
      },
      "execution_count": 33,
      "outputs": [
        {
          "output_type": "stream",
          "name": "stdout",
          "text": [
            "1\t2\t3\t4\t5\t6\t7\t8\t9\t10\t\n",
            "2\t4\t6\t8\t10\t12\t14\t16\t18\t20\t\n",
            "3\t6\t9\t12\t15\t18\t21\t24\t27\t30\t\n",
            "4\t8\t12\t16\t20\t24\t28\t32\t36\t40\t\n",
            "5\t10\t15\t20\t25\t30\t35\t40\t45\t50\t\n",
            "6\t12\t18\t24\t30\t36\t42\t48\t54\t60\t\n",
            "7\t14\t21\t28\t35\t42\t49\t56\t63\t70\t\n",
            "8\t16\t24\t32\t40\t48\t56\t64\t72\t80\t\n",
            "9\t18\t27\t36\t45\t54\t63\t72\t81\t90\t\n",
            "10\t20\t30\t40\t50\t60\t70\t80\t90\t100\t\n"
          ]
        }
      ]
    },
    {
      "cell_type": "markdown",
      "source": [
        "#**Ejercicio 8**\n",
        "\n",
        "Escribir un programa que pida al usuario un número entero y muestre por pantalla un triángulo rectángulo como el de más abajo."
      ],
      "metadata": {
        "id": "W82zjLmTOHqH"
      }
    },
    {
      "cell_type": "code",
      "source": [
        "def Triangulo(num):\n",
        "  sumador=0\n",
        "  for i in range(1,num+1,1):\n",
        "    if i!=1:\n",
        "      sumador+=1\n",
        "    inicio=i+sumador\n",
        "    for j in range(inicio,0,-2):\n",
        "      print(j, end=\" \")\n",
        "    print(\"\")\n",
        "\n",
        "while True:\n",
        "  try:\n",
        "    num=int(input(\"Ingrese un numero entero: \"))\n",
        "    if num >0 :\n",
        "      break\n",
        "    else:\n",
        "      raise AttributeError (\"El numero ingresado no es válido\\nIntentalo de nuevo\")\n",
        "  except ValueError:\n",
        "    print(\"Debe ser un número entero\\nIntentalo de nuevo\")\n",
        "  except AttributeError as NumIncorrecto:\n",
        "    print(NumIncorrecto)\n",
        "\n",
        "Triangulo(num)"
      ],
      "metadata": {
        "id": "PrslAlDDOVNB",
        "outputId": "63f6f14e-c298-4d1e-f090-b4c2ef9a9458",
        "colab": {
          "base_uri": "https://localhost:8080/"
        }
      },
      "execution_count": 85,
      "outputs": [
        {
          "output_type": "stream",
          "name": "stdout",
          "text": [
            "Ingrese un numero entero: 7\n",
            "1 \n",
            "3 1 \n",
            "5 3 1 \n",
            "7 5 3 1 \n",
            "9 7 5 3 1 \n",
            "11 9 7 5 3 1 \n",
            "13 11 9 7 5 3 1 \n"
          ]
        }
      ]
    }
  ]
}