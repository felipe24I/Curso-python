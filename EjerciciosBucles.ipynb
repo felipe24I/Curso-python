{
  "nbformat": 4,
  "nbformat_minor": 0,
  "metadata": {
    "colab": {
      "provenance": [],
      "authorship_tag": "ABX9TyPIdqKqeWQ+dGgYTBBhO0ZL",
      "include_colab_link": true
    },
    "kernelspec": {
      "name": "python3",
      "display_name": "Python 3"
    },
    "language_info": {
      "name": "python"
    }
  },
  "cells": [
    {
      "cell_type": "markdown",
      "metadata": {
        "id": "view-in-github",
        "colab_type": "text"
      },
      "source": [
        "<a href=\"https://colab.research.google.com/github/felipe24I/Curso-python/blob/main/EjerciciosBucles.ipynb\" target=\"_parent\"><img src=\"https://colab.research.google.com/assets/colab-badge.svg\" alt=\"Open In Colab\"/></a>"
      ]
    },
    {
      "cell_type": "markdown",
      "source": [
        "#**Ejercicio 1**\n",
        "\n",
        "Escribir un programa que pida al usuario una palabra y la muestre por pantalla 10 veces."
      ],
      "metadata": {
        "id": "yU9cD2YWPjUx"
      }
    },
    {
      "cell_type": "code",
      "source": [
        "def Print(palabra):\n",
        "  for i in range(0,10,1):\n",
        "    print(palabra)\n",
        "\n",
        "palabra=input(\"Ingrese una palabra:\" )\n",
        "Print(palabra)"
      ],
      "metadata": {
        "colab": {
          "base_uri": "https://localhost:8080/"
        },
        "id": "BkgoJi_mP41y",
        "outputId": "60ac2868-a7d3-49ad-ff77-d401fe870346"
      },
      "execution_count": null,
      "outputs": [
        {
          "output_type": "stream",
          "name": "stdout",
          "text": [
            "Ingrese una palabra:Hola\n",
            "Hola\n",
            "Hola\n",
            "Hola\n",
            "Hola\n",
            "Hola\n",
            "Hola\n",
            "Hola\n",
            "Hola\n",
            "Hola\n",
            "Hola\n"
          ]
        }
      ]
    },
    {
      "cell_type": "markdown",
      "source": [
        "#**Ejercicio 2**\n",
        "\n",
        "Escribir un programa que pregunte al usuario su edad y muestre por pantalla todos los años que ha cumplido (desde 1 hasta su edad)."
      ],
      "metadata": {
        "id": "WRadAIcDQZ2Q"
      }
    },
    {
      "cell_type": "code",
      "source": [
        "def Años(edad):\n",
        "  for i in range(1,edad+1,1):\n",
        "    print(\"Ha cumplido \",i, \" años\")\n",
        "\n",
        "\n",
        "while True:\n",
        "  try:\n",
        "    edad=int(input(\"Ingrese su edad: \"))\n",
        "    if edad >0 and edad <130:\n",
        "      break\n",
        "    else:\n",
        "      raise AttributeError (\"La edad ingresada no es válida\\nIntentalo de nuevo\")\n",
        "  except ValueError:\n",
        "    print(\"La edad debe ser un número entero\\nIntentalo de nuevo\")\n",
        "  except AttributeError as EdadIncorrecta:\n",
        "    print(EdadIncorrecta)\n",
        "\n",
        "mensajes=Años(edad)"
      ],
      "metadata": {
        "colab": {
          "base_uri": "https://localhost:8080/"
        },
        "id": "jeTEbm4sQepa",
        "outputId": "2d9e22d3-834d-4e87-c457-ab5fe2ab21f2"
      },
      "execution_count": null,
      "outputs": [
        {
          "output_type": "stream",
          "name": "stdout",
          "text": [
            "Ingrese su edad: e\n",
            "La edad debe ser un número entero\n",
            "Intentalo de nuevo\n",
            "Ingrese su edad: -2\n",
            "La edad ingresada no es válida\n",
            "Intentalo de nuevo\n",
            "Ingrese su edad: 0\n",
            "La edad ingresada no es válida\n",
            "Intentalo de nuevo\n",
            "Ingrese su edad: 139\n",
            "La edad ingresada no es válida\n",
            "Intentalo de nuevo\n",
            "Ingrese su edad: 21\n",
            "Ha cumplido  1  años\n",
            "Ha cumplido  2  años\n",
            "Ha cumplido  3  años\n",
            "Ha cumplido  4  años\n",
            "Ha cumplido  5  años\n",
            "Ha cumplido  6  años\n",
            "Ha cumplido  7  años\n",
            "Ha cumplido  8  años\n",
            "Ha cumplido  9  años\n",
            "Ha cumplido  10  años\n",
            "Ha cumplido  11  años\n",
            "Ha cumplido  12  años\n",
            "Ha cumplido  13  años\n",
            "Ha cumplido  14  años\n",
            "Ha cumplido  15  años\n",
            "Ha cumplido  16  años\n",
            "Ha cumplido  17  años\n",
            "Ha cumplido  18  años\n",
            "Ha cumplido  19  años\n",
            "Ha cumplido  20  años\n",
            "Ha cumplido  21  años\n"
          ]
        }
      ]
    },
    {
      "cell_type": "markdown",
      "source": [
        "#**Ejercicio 3**\n",
        "\n",
        "Escribir un programa que pida al usuario un número entero positivo y muestre por pantalla todos los números impares desde 1 hasta ese número separados por comas."
      ],
      "metadata": {
        "id": "a8PVAVaIakCu"
      }
    },
    {
      "cell_type": "code",
      "source": [
        "def impares (num):\n",
        "  for i in range(1,num+1,1):\n",
        "    if i%2==1 and i!=num:\n",
        "      print(i,end=\",\")\n",
        "    elif i==num:\n",
        "      print(i,end=\"\")\n",
        "\n",
        "while True:\n",
        "  try:\n",
        "    num=int(input(\"Ingrese un numero: \"))\n",
        "    break\n",
        "  except ValueError:\n",
        "    print(\"Debe ser un número entero\\nIntentalo de nuevo\")\n",
        "\n",
        "impares(num)"
      ],
      "metadata": {
        "id": "RlPfeM93agLo",
        "outputId": "b337aa64-72cb-4e0b-e0ac-93a69facda69",
        "colab": {
          "base_uri": "https://localhost:8080/"
        }
      },
      "execution_count": 8,
      "outputs": [
        {
          "output_type": "stream",
          "name": "stdout",
          "text": [
            "Ingrese un numero: 8\n",
            "1,3,5,7,8"
          ]
        }
      ]
    }
  ]
}