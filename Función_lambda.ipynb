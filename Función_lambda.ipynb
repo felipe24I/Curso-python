{
  "nbformat": 4,
  "nbformat_minor": 0,
  "metadata": {
    "colab": {
      "provenance": [],
      "authorship_tag": "ABX9TyPU4HtSfWKf715wzb7aoV1f",
      "include_colab_link": true
    },
    "kernelspec": {
      "name": "python3",
      "display_name": "Python 3"
    },
    "language_info": {
      "name": "python"
    }
  },
  "cells": [
    {
      "cell_type": "markdown",
      "metadata": {
        "id": "view-in-github",
        "colab_type": "text"
      },
      "source": [
        "<a href=\"https://colab.research.google.com/github/felipe24I/Curso-python/blob/main/Funci%C3%B3n_lambda.ipynb\" target=\"_parent\"><img src=\"https://colab.research.google.com/assets/colab-badge.svg\" alt=\"Open In Colab\"/></a>"
      ]
    },
    {
      "cell_type": "markdown",
      "source": [
        "#**Función lambda**\n",
        "Es una función anónima y se utiliza para abreviar, para hacer que la sintaxis sea un poco más ligera y para ahorrarnos tiempo\n",
        "\n",
        "Consiste en resumir una función normal en una expresión lambda\n",
        "\n",
        "Todo lo que se puede hacer con una expresión lambda, se puede hacer con una función normal, pero no todo lo que se puede hcer con una función normal se puede hacer con una expresión lambda\n",
        "\n",
        "Funciones que tienen bucles o condicionales, no se podrán simplificar en funciones lambda"
      ],
      "metadata": {
        "id": "RBRnJTJBsayw"
      }
    },
    {
      "cell_type": "markdown",
      "source": [
        "Se hará uso de una función lambda para calcular el area de un triángulo"
      ],
      "metadata": {
        "id": "-oDdFDc6vgFa"
      }
    },
    {
      "cell_type": "code",
      "execution_count": 4,
      "metadata": {
        "colab": {
          "base_uri": "https://localhost:8080/"
        },
        "id": "j8x_gww8sUFS",
        "outputId": "8193952a-630a-4973-e3bc-6905b02f1f0b"
      },
      "outputs": [
        {
          "output_type": "stream",
          "name": "stdout",
          "text": [
            "area triangulo 1 es 17.5\n",
            "area triangulo 2 es 27.0\n",
            "area triangulo 3 es 17.5\n",
            "area triangulo 4 es 27.0\n"
          ]
        }
      ],
      "source": [
        "#usando una función normal\n",
        "def area_triangulo(base, altura):\n",
        "  return (base*altura)/2\n",
        "\n",
        "triangulo1 = area_triangulo(5,7)\n",
        "triangulo2 = area_triangulo(6,9)\n",
        "\n",
        "print('area triangulo 1 es',triangulo1)\n",
        "print('area triangulo 2 es',triangulo2)\n",
        "\n",
        "#usando una función lambda\n",
        "areaTriangulo = lambda base, altura : (base*altura)/2\n",
        "\n",
        "triangulo3 = areaTriangulo(5,7)\n",
        "triangulo4 = areaTriangulo(6,9)\n",
        "\n",
        "print('area triangulo 3 es',triangulo3)\n",
        "print('area triangulo 4 es',triangulo4)\n"
      ]
    },
    {
      "cell_type": "markdown",
      "source": [
        "Se hará uso de una función lambda para elevar números al cubo"
      ],
      "metadata": {
        "id": "j_uufL8Kw8H4"
      }
    },
    {
      "cell_type": "code",
      "source": [
        "al_cubo = lambda numero : pow(numero, 3)\n",
        "print(al_cubo(13))\n",
        "print(al_cubo(6))"
      ],
      "metadata": {
        "colab": {
          "base_uri": "https://localhost:8080/"
        },
        "id": "L4qEBbAJxGYJ",
        "outputId": "52161eeb-678d-4ee6-a3ec-e322a9d5bfcf"
      },
      "execution_count": 5,
      "outputs": [
        {
          "output_type": "stream",
          "name": "stdout",
          "text": [
            "2197\n",
            "216\n"
          ]
        }
      ]
    },
    {
      "cell_type": "markdown",
      "source": [
        "Se hará uso de una función lambda para hacer operaciones de formato\n",
        "\n",
        "En este caso se agregará ¡! y $ a una comsión de un empleado con la función format"
      ],
      "metadata": {
        "id": "Fn7XAdI2xuR0"
      }
    },
    {
      "cell_type": "code",
      "source": [
        "destacar_valor = lambda comision : '¡{}! $'.format(comision)\n",
        "\n",
        "comision_ana = 50000\n",
        "print(destacar_valor(comision_ana))"
      ],
      "metadata": {
        "colab": {
          "base_uri": "https://localhost:8080/"
        },
        "id": "WnPqWNWVy6Ni",
        "outputId": "3ab70792-5024-471f-be7a-8ec6e2990595"
      },
      "execution_count": 6,
      "outputs": [
        {
          "output_type": "stream",
          "name": "stdout",
          "text": [
            "¡50000! $\n"
          ]
        }
      ]
    }
  ]
}