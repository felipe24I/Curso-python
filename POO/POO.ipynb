{
  "nbformat": 4,
  "nbformat_minor": 0,
  "metadata": {
    "colab": {
      "provenance": [],
      "authorship_tag": "ABX9TyP/n1U7gOy0hiOeNyT3dbJN",
      "include_colab_link": true
    },
    "kernelspec": {
      "name": "python3",
      "display_name": "Python 3"
    },
    "language_info": {
      "name": "python"
    }
  },
  "cells": [
    {
      "cell_type": "markdown",
      "metadata": {
        "id": "view-in-github",
        "colab_type": "text"
      },
      "source": [
        "<a href=\"https://colab.research.google.com/github/felipe24I/Curso-python/blob/main/POO.ipynb\" target=\"_parent\"><img src=\"https://colab.research.google.com/assets/colab-badge.svg\" alt=\"Open In Colab\"/></a>"
      ]
    },
    {
      "cell_type": "markdown",
      "source": [
        "#**Programación orientada a objetos**\n",
        "\n",
        "*   Trasladar la naturaleza de los objetos de la vida real al código de\n",
        "programación\n",
        "*   Los objetos tienen un estado, un compoprtamiento (¿Qué puede hacer?), y unas propiedades\n",
        "\n",
        "\n"
      ],
      "metadata": {
        "id": "aAnSkb9DpJTN"
      }
    },
    {
      "cell_type": "markdown",
      "source": [
        "#**Ejemplo: El objeto coche**\n",
        "\n",
        "**Estado del coche:** Un coche puede estar parado, circulando, aparcado etc\n",
        "\n",
        "**Propiedades del coche:** Un coche tiene un color, un peso, un tamaño etc.\n",
        "\n",
        "**Comportamiento coche:** Un coche puede arrancar, frenar, acelerar, girar etc"
      ],
      "metadata": {
        "id": "tEqyPltAwA8w"
      }
    },
    {
      "cell_type": "markdown",
      "source": [
        "#**Objeto**\n",
        "\n",
        "**Tiene propiedades (atributos)**\n",
        "\n",
        "*   Color\n",
        "*   Peso\n",
        "*   Alto\n",
        "*   Largo\n",
        "\n",
        "**Tiene un comportamiento (¿Qué es capaz de hacer?)**\n",
        "\n",
        "*   Arrancar\n",
        "*   Frenar\n",
        "*   Girar\n",
        "*   Acelerar\n",
        "\n",
        "\n",
        "\n",
        "\n",
        "\n",
        "\n",
        "\n"
      ],
      "metadata": {
        "id": "rMZbKnYowwkc"
      }
    },
    {
      "cell_type": "markdown",
      "source": [
        "#**Ventajas**\n",
        "\n",
        "*   Programas divididos en \"trozos\", \"partes\", \"módulos\" o \"clases\". Modularización\n",
        "*   Muy reutilizable. Herencia\n",
        "*   Si existe algún fallo en alguna línea, el programa continuará con su funcionamiento, tratamiento de excepciones\n",
        "*  Encapsulamiento\n",
        "\n",
        "\n",
        "\n"
      ],
      "metadata": {
        "id": "dO3KhLDXxgdI"
      }
    },
    {
      "cell_type": "markdown",
      "source": [
        "#**Vocabulario de la POO**\n",
        "\n",
        "*   Clase\n",
        "*   Objeto\n",
        "*   Instanciar una clase\n",
        "*   Encapsulamiento\n",
        "*   Herencia\n",
        "*   Polimorfismo\n",
        "\n",
        "\n",
        "\n",
        "\n",
        "\n"
      ],
      "metadata": {
        "id": "JkZ-Z0LPzBKI"
      }
    },
    {
      "cell_type": "markdown",
      "source": [
        "#**Clase**\n",
        "\n",
        "modelo que tienen en común diferentes objetos\n",
        "\n",
        "**Ej:** un chasis y 4 llantas serían la clase de los diferentes carros"
      ],
      "metadata": {
        "id": "W-vCwr6J3hou"
      }
    },
    {
      "cell_type": "markdown",
      "source": [
        "#**Instancia**\n",
        "\n",
        "Es un objeto de una clase\n",
        "\n",
        "**Ej:** Un carro renault es una instancia de la clase carro, un carro susuki es otra instancia de la clase carro"
      ],
      "metadata": {
        "id": "FxESOFKW4DXZ"
      }
    },
    {
      "cell_type": "markdown",
      "source": [
        "#**Modularización**\n",
        "\n",
        "Los programas orientados a objetos están construidos por diferentes clases, modularización es dividir un programa en clases"
      ],
      "metadata": {
        "id": "P2bNxzZ84bm5"
      }
    },
    {
      "cell_type": "markdown",
      "source": [
        "#**Encapsulamiento**\n",
        "\n",
        "Encapsulamiento es restringir o proteger algunos comportamientos de una clase"
      ],
      "metadata": {
        "id": "V2x_7xdo4vm_"
      }
    },
    {
      "cell_type": "markdown",
      "source": [
        "#**Crear y llamar propiedades y comportamientos de un objeto**\n",
        "\n",
        "**Crear propiedades**\n",
        "\n",
        "miCoche.peso= 1000\n",
        "\n",
        "miCoche.color= \"Rojo\"\n",
        "\n",
        "miCoche.largo= 60\n",
        "\n",
        "**Lamar comportamientos**\n",
        "\n",
        "miCoche.arrancar()\n",
        "\n",
        "miCoche.frenar()\n",
        "\n",
        "miCoche.girar()"
      ],
      "metadata": {
        "id": "n56z0mqD5qzn"
      }
    },
    {
      "cell_type": "markdown",
      "source": [
        "#**ejemplo básico**"
      ],
      "metadata": {
        "id": "6ODNvWnxAVgm"
      }
    },
    {
      "cell_type": "code",
      "source": [
        "class Carro ():\n",
        "  #Método constructor\n",
        "  def __init__(self):\n",
        "    self.__largoChasis= 250 #encapsulamiento de propiedades\n",
        "    self.__anchoChasis= 150 #encapsulamiento de propiedades\n",
        "    self.__ruedas= 4 #encapsulamiento de propiedades\n",
        "    self.__enmarcha= False #encapsulamiento de propiedades\n",
        "\n",
        "  #Métodos de objetos de la clase\n",
        "  def arrancar (self,arrancamos):     #self hace referencia a los objetos de la clase\n",
        "    self.__enmarcha= arrancamos\n",
        "    chequeo = self.__chequeo_inicial()\n",
        "    if (self.__enmarcha and chequeo):\n",
        "      return \"El carro está en marcha\"\n",
        "    elif (self.__enmarcha and chequeo==False):\n",
        "      return \"Algo fallo en el chequeo inicial, no podemos arrancar\"\n",
        "    else:\n",
        "      return \"El carro esta parado\"\n",
        "\n",
        "  def estado (self):\n",
        "    print(\"El carro tiene un largo de chasis de \",self.__largoChasis)\n",
        "    print(\"El carro tiene un ancho de chasis de \",self.__anchoChasis)\n",
        "    print(\"El carro tiene \",self.__ruedas,\" ruedas\")\n",
        "\n",
        "  def __chequeo_inicial (self):\n",
        "    gasolina= \"ok\"\n",
        "    agua= \"ok\"\n",
        "    puertas= \"cerradas\"\n",
        "    if gasolina==\"ok\" and agua==\"ok\" and puertas==\"cerradas\":\n",
        "      return True\n",
        "    else:\n",
        "      return False\n",
        "print(\"Primer objeto\")\n",
        "#Creación del primer objeto de la clase Carro\n",
        "miCoche = Carro()\n",
        "\n",
        "#Aplicando métodos para el objeto miCoche\n",
        "print(miCoche.arrancar(True))\n",
        "miCoche.estado()\n",
        "\n",
        "print(\"Segundo objeto\")\n",
        "#Creación del segundo objeto de la clase Carro\n",
        "miCoche2 = Carro()\n",
        "\n",
        "#Aplicando métodos para el objeto miCoche2\n",
        "print(miCoche2.arrancar(False))\n",
        "miCoche2.estado()\n",
        "\n"
      ],
      "metadata": {
        "colab": {
          "base_uri": "https://localhost:8080/"
        },
        "id": "POodqg4EAZ-Y",
        "outputId": "2e007aa0-e878-4bac-ce7d-faf5d421527d"
      },
      "execution_count": null,
      "outputs": [
        {
          "output_type": "stream",
          "name": "stdout",
          "text": [
            "Primer objeto\n",
            "El carro está en marcha\n",
            "El carro tiene un largo de chasis de  250\n",
            "El carro tiene un ancho de chasis de  150\n",
            "El carro tiene  4  ruedas\n",
            "Segundo objeto\n",
            "El carro esta parado\n",
            "El carro tiene un largo de chasis de  250\n",
            "El carro tiene un ancho de chasis de  150\n",
            "El carro tiene  4  ruedas\n"
          ]
        }
      ]
    },
    {
      "cell_type": "markdown",
      "source": [
        "#**Herencia**\n",
        "\n",
        "Pasar las propiedades y métodos de una clase a otra\n",
        "\n",
        "**superclase:**Es la que entrega sus propiedades y métodos a otras clases\n",
        "\n",
        "**subclase:** Es la que hereda las propiedas y métodos de una\n",
        "\n",
        "**Sobrescribir método:** Consiste en modificar un metodo heredado de la clase padre para un objeto de la subclase\n",
        "\n",
        "**Herencia múltiple:** Heredar de 2 clases o más, se hereda el constructor de la clase que este de más a la izquierda en el parámetro de herencia"
      ],
      "metadata": {
        "id": "EFNcsLQFFGVB"
      }
    },
    {
      "cell_type": "code",
      "source": [
        "class vehiculo():\n",
        "\n",
        "  def __init__(self, marca, modelo):\n",
        "    self.marca=marca\n",
        "    self.modelo=modelo\n",
        "    self.arranca=False\n",
        "    self.acelera=False\n",
        "    self.frena=False\n",
        "\n",
        "  def arrancar (self):\n",
        "    self.arranca=True\n",
        "\n",
        "  def acelerar (self):\n",
        "    self.acelera=True\n",
        "\n",
        "  def frena (self):\n",
        "    self.frena=True\n",
        "\n",
        "  def estado (self):\n",
        "    if self.arranca:\n",
        "      print(\"marca: \",self.marca, \"\\nmodelo: \",self.modelo, \"\\narrancando\")\n",
        "    elif self.acelera:\n",
        "      print(\"marca: \",self.marca, \"\\nmodelo: \",self.modelo, \"\\nacelerando\")\n",
        "    elif self.frena:\n",
        "      print(\"marca: \",self.marca, \"\\nmodelo: \",self.modelo, \"\\nfrenando\",)\n",
        "    else:\n",
        "      print(\"marca: \",self.marca, \"\\nmodelo: \",self.modelo, \"\\ndetenido\")\n",
        "\n",
        "print(\"\\n\")\n",
        "print(\"Objeto carro\")\n",
        "carro=vehiculo(\"Susuki\",\"Vitara\")\n",
        "carro.arrancar()\n",
        "carro.estado()\n",
        "class Moto (vehiculo):\n",
        "  hcaballito=False\n",
        "  def caballito(self):\n",
        "    self.hcaballito=True\n",
        "\n",
        "  #sobre escribir método\n",
        "  def estado (self):\n",
        "    if self.arranca:\n",
        "      print(\"marca: \",self.marca, \"\\nmodelo: \",self.modelo, \"\\narrancando\")\n",
        "    elif self.acelera:\n",
        "      print(\"marca: \",self.marca, \"\\nmodelo: \",self.modelo, \"\\nacelerando\")\n",
        "    elif self.frena:\n",
        "      print(\"marca: \",self.marca, \"\\nmodelo: \",self.modelo, \"\\nfrenando\")\n",
        "    elif self.hcaballito:\n",
        "      print(\"marca: \",self.marca, \"\\nmodelo: \",self.modelo, \"\\ncaballito\")\n",
        "    else:\n",
        "      print(\"marca: \",self.marca, \"\\nmodelo: \",self.modelo, \"\\ndetenido\")\n",
        "\n",
        "print(isinstance(carro,Moto))\n",
        "\n",
        "print(\"\\n\")\n",
        "print(\"Objeto moto\")\n",
        "moto=Moto(\"honda\",\"1600\")\n",
        "moto.caballito()\n",
        "moto.estado()\n",
        "\n",
        "class Furgoneta(vehiculo):\n",
        "\n",
        "  def carga(self, cargar):\n",
        "    self.cargado=cargar\n",
        "    if self.cargado:\n",
        "      return \"La furgoneta esta cargada\"\n",
        "    else:\n",
        "      return \"La furgoneta no esta cargada\"\n",
        "\n",
        "print(\"\\n\")\n",
        "print(\"Objeto furgoneta\")\n",
        "miFurgoneta=Furgoneta(\"Renault\",\"Kangoo\")\n",
        "miFurgoneta.acelerar()\n",
        "miFurgoneta.estado()\n",
        "print(miFurgoneta.carga(True))\n",
        "\n",
        "class VElectricos(vehiculo):\n",
        "  def __init__(self, marca, modelo):\n",
        "    super().__init__(marca,modelo)\n",
        "    self.__autonomia=100\n",
        "  def carga_electrica(self):\n",
        "    return \"El vehiculo se esta cargando\"\n",
        "\n",
        "class bici_electrica(VElectricos,vehiculo):\n",
        "  pass\n",
        "print(\"\\n\")\n",
        "print(\"Objeto bicicleta\")\n",
        "bici=bici_electrica(\"Specialiced\",\"4001\")\n",
        "bici.arrancar()\n",
        "bici.estado()\n",
        "print(bici.carga_electrica())\n",
        "print(isinstance(bici,vehiculo))"
      ],
      "metadata": {
        "id": "z75pagst6Jlt",
        "outputId": "7d0704db-d5d6-48cf-bd95-6f9461afd5a3",
        "colab": {
          "base_uri": "https://localhost:8080/"
        }
      },
      "execution_count": 18,
      "outputs": [
        {
          "output_type": "stream",
          "name": "stdout",
          "text": [
            "\n",
            "\n",
            "Objeto carro\n",
            "marca:  Susuki \n",
            "modelo:  Vitara \n",
            "arrancando\n",
            "False\n",
            "\n",
            "\n",
            "Objeto moto\n",
            "marca:  honda \n",
            "modelo:  1600 \n",
            "caballito\n",
            "\n",
            "\n",
            "Objeto furgoneta\n",
            "marca:  Renault \n",
            "modelo:  Kangoo \n",
            "acelerando\n",
            "La furgoneta esta cargada\n",
            "\n",
            "\n",
            "Objeto bicicleta\n",
            "marca:  Specialiced \n",
            "modelo:  4001 \n",
            "arrancando\n",
            "El vehiculo se esta cargando\n",
            "True\n"
          ]
        }
      ]
    },
    {
      "cell_type": "markdown",
      "source": [
        "#**Uso de la instrucción super e isinstance**\n",
        "\n",
        "**super:** es una instrucción que nos permite transportar un método de la clase padre a un clase\n",
        "\n",
        "**isinstance:** es una instrución que pasamos como parametro un objeto y una clase y nos devuelve un true si ese obejto o instancia pertenece a esa clase y un False si no pertenece"
      ],
      "metadata": {
        "id": "CysbcyKJUsj-"
      }
    },
    {
      "cell_type": "code",
      "source": [
        "class Persona():\n",
        "\n",
        "  def __init__(self,nombre,edad,residencia):\n",
        "    self.nombre=nombre\n",
        "    self.edad=edad\n",
        "    self.residencia=residencia\n",
        "\n",
        "  def descripción(self):\n",
        "    print(\"Nombre: \",self.nombre, \" Edad: \",self.edad, \" Residencia: \",self.residencia)\n",
        "\n",
        "class Empleado(Persona):\n",
        "\n",
        "  def __init__(self, salario, antiguedad,nombre,edad,residencia):\n",
        "    self.salario=salario\n",
        "    self.antiguedad=antiguedad\n",
        "    super().__init__(nombre,edad,residencia)\n",
        "\n",
        "  def descripcion(self):\n",
        "    super().descripción()\n",
        "    print(\"salario: \",self.salario, \"antiguedad: \",self.antiguedad)\n",
        "\n",
        "\n",
        "felipe=Empleado(5000, 5, \"Felipe\",21,\"Manizales\")\n",
        "felipe.descripcion()\n",
        "print(isinstance(felipe,Persona))\n",
        "\n",
        "samuel=Persona(\"Samuel\",19,\"Medellín\")\n",
        "samuel.descripción()\n",
        "print(isinstance(samuel,Empleado))"
      ],
      "metadata": {
        "id": "1DNxWVW0VeDB",
        "outputId": "50677043-cb7e-4757-e1ad-0bc4ca8242c1",
        "colab": {
          "base_uri": "https://localhost:8080/"
        }
      },
      "execution_count": 14,
      "outputs": [
        {
          "output_type": "stream",
          "name": "stdout",
          "text": [
            "Nombre:  Felipe  Edad:  21  Residencia:  Manizales\n",
            "salario:  5000 antiguedad:  5\n",
            "True\n",
            "Nombre:  Samuel  Edad:  19  Residencia:  Medellín\n",
            "False\n"
          ]
        }
      ]
    },
    {
      "cell_type": "markdown",
      "source": [
        "#**Polimorfismo**\n",
        "\n",
        "Con una función podemos hacer que un objeto, dependiendo de que clase sea, tome un comportamiento u otro"
      ],
      "metadata": {
        "id": "EHoJqzSxe9Qn"
      }
    },
    {
      "cell_type": "code",
      "source": [
        "class Carro():\n",
        "\n",
        "  def desplazamiento(self):\n",
        "    print(\"Me desplazo en 4 ruedas\")\n",
        "\n",
        "class Moto():\n",
        "\n",
        "  def desplazamiento(self):\n",
        "    print(\"Me desplazo en 2 ruedas\")\n",
        "\n",
        "class Camion():\n",
        "\n",
        "  def desplazamiento(self):\n",
        "    print(\"Me desplazo en 6 ruedas\")\n",
        "\n",
        "#Polimorfismo\n",
        "def desplazamiento_vehiculo(vehiculo):\n",
        "  vehiculo.desplazamiento()\n",
        "\n",
        "vehiculo1=Carro()\n",
        "desplazamiento_vehiculo(vehiculo1)\n",
        "\n",
        "vehiculo2=Moto()\n",
        "desplazamiento_vehiculo(vehiculo2)\n",
        "\n",
        "vehiculo3=Camion()\n",
        "desplazamiento_vehiculo(vehiculo3)"
      ],
      "metadata": {
        "id": "vNEmwizGhGEh",
        "outputId": "cb0c861c-ec33-41e4-bcfa-23d456b43417",
        "colab": {
          "base_uri": "https://localhost:8080/"
        }
      },
      "execution_count": 24,
      "outputs": [
        {
          "output_type": "stream",
          "name": "stdout",
          "text": [
            "Me desplazo en 4 ruedas\n",
            "Me desplazo en 2 ruedas\n",
            "Me desplazo en 6 ruedas\n"
          ]
        }
      ]
    }
  ]
}